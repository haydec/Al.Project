{
 "cells": [
  {
   "cell_type": "code",
   "execution_count": 1,
   "metadata": {},
   "outputs": [],
   "source": [
    "using DataFrames, XLSX, DataFramesMeta\n",
    "using LinearAlgebra,LightGraphs, SimpleWeightedGraphs, HDF5"
   ]
  },
  {
   "cell_type": "markdown",
   "metadata": {},
   "source": [
    "### Convert R -> G, X -> B"
   ]
  },
  {
   "cell_type": "markdown",
   "metadata": {},
   "source": [
    "#### AC Line"
   ]
  },
  {
   "cell_type": "code",
   "execution_count": 2,
   "metadata": {},
   "outputs": [],
   "source": [
    "AC_Line  = DataFrame(XLSX.readtable(\"IrishSystem2018.xlsx\", \"AC-Line\", infer_eltypes=true)... );"
   ]
  },
  {
   "cell_type": "code",
   "execution_count": 4,
   "metadata": {},
   "outputs": [],
   "source": [
    "From_Line = AC_Line.From;\n",
    "To_Line = AC_Line.To;\n",
    "T1 = AC_Line.T;\n",
    "ϕ1 = AC_Line.phi;\n",
    "Rl = AC_Line.R;\n",
    "Xl = AC_Line.X;\n",
    "Bsh_2 = AC_Line.B;\n",
    "Type1 = fill(\"Line\",size(From_Line));"
   ]
  },
  {
   "cell_type": "code",
   "execution_count": 5,
   "metadata": {},
   "outputs": [],
   "source": [
    "YL = (Rl + Xl*im).^-1 \n",
    "Gl = real(YL);\n",
    "Bl = imag(YL);"
   ]
  },
  {
   "cell_type": "markdown",
   "metadata": {},
   "source": [
    "#### 2 Winding Transformers"
   ]
  },
  {
   "cell_type": "code",
   "execution_count": 6,
   "metadata": {},
   "outputs": [],
   "source": [
    "W_2_Trafo  = DataFrame(XLSX.readtable(\"IrishSystem2018.xlsx\", \"2-Winding\", infer_eltypes=true)... );"
   ]
  },
  {
   "cell_type": "code",
   "execution_count": 7,
   "metadata": {},
   "outputs": [],
   "source": [
    "From_Trafo2 = W_2_Trafo.From;\n",
    "To_Trafo2 = W_2_Trafo.To;\n",
    "T2 = W_2_Trafo.T;\n",
    "ϕ2 = W_2_Trafo.phi;\n",
    "Gm2 = W_2_Trafo.G;\n",
    "Bm2 = W_2_Trafo.B;\n",
    "RT = W_2_Trafo.R;\n",
    "XT = W_2_Trafo.X;\n",
    "Type2 = fill(\"Trafo-2\",size(From_Trafo2));"
   ]
  },
  {
   "cell_type": "code",
   "execution_count": 8,
   "metadata": {},
   "outputs": [],
   "source": [
    "YT = (RT + XT*im).^-1 \n",
    "GT = real(YT);\n",
    "BT = imag(YT);"
   ]
  },
  {
   "cell_type": "markdown",
   "metadata": {},
   "source": [
    "#### 3 Winding Transformers"
   ]
  },
  {
   "cell_type": "code",
   "execution_count": 9,
   "metadata": {},
   "outputs": [],
   "source": [
    "W_3_Trafo  = DataFrame(XLSX.readtable(\"IrishSystem2018.xlsx\", \"3-Winding\", infer_eltypes=true)... );"
   ]
  },
  {
   "cell_type": "code",
   "execution_count": 10,
   "metadata": {},
   "outputs": [],
   "source": [
    "One_Trafo3 = W_3_Trafo.From;\n",
    "Two_Trafo3 = W_3_Trafo.To;\n",
    "Three_Trafo3 = W_3_Trafo.Last;\n",
    "T3 = W_3_Trafo.T;\n",
    "ϕ3 = W_3_Trafo.phi;\n",
    "Gm3 = W_3_Trafo.G;\n",
    "Bm3 = W_3_Trafo.B;\n",
    "RT_12 = W_3_Trafo.W12_R;\n",
    "XT_12 = W_3_Trafo.W12_X;\n",
    "RT_23 = W_3_Trafo.W23_R;\n",
    "XT_23 = W_3_Trafo.W23_X;\n",
    "RT_31 = W_3_Trafo.W31_R;\n",
    "XT_31 = W_3_Trafo.W31_X;\n",
    "Type3 = fill(\"Trafo-3\",size(One_Trafo3));"
   ]
  },
  {
   "cell_type": "code",
   "execution_count": 11,
   "metadata": {},
   "outputs": [],
   "source": [
    "YT_12 = (RT_12 + XT_12*im).^-1 ;GT_12 = real(YT_12);BT_12 = imag(YT_12);\n",
    "YT_23 = (RT_23 + XT_23*im).^-1 ;GT_23 = real(YT_23);BT_23 = imag(YT_23);\n",
    "YT_31 = (RT_31 + XT_31*im).^-1 ;GT_31 = real(YT_31);BT_31 = imag(YT_31);"
   ]
  },
  {
   "cell_type": "code",
   "execution_count": 12,
   "metadata": {},
   "outputs": [],
   "source": [
    "Branch_Tox = vcat(From_Line,From_Trafo2,One_Trafo3,Two_Trafo3,Three_Trafo3);\n",
    "Branch_Fromx = vcat(To_Line, To_Trafo2, Two_Trafo3, Three_Trafo3, One_Trafo3);\n",
    "Gx = vcat( Gl, GT, GT_12, GT_23, GT_31);\n",
    "Bx = vcat( Bl, BT, BT_12, BT_23, BT_31);\n",
    "Bshx = Float64.(vcat(Bsh_2, Bm2, Bm3, Bm3, Bm3));\n",
    "Tx = Float64.(vcat( T1, T2, T3, T3, T3));\n",
    "ϕx = Float64.(vcat( ϕ1, ϕ2, ϕ3, ϕ3, ϕ3));\n",
    "Typex = vcat( Type1, Type2, Type3, Type3, Type3);"
   ]
  },
  {
   "cell_type": "code",
   "execution_count": 13,
   "metadata": {},
   "outputs": [],
   "source": [
    "replace!(Gx, Inf => 0);\n",
    "replace!(Bx, Inf =>0);\n",
    "replace!(Bshx, Inf => 0);"
   ]
  },
  {
   "cell_type": "code",
   "execution_count": 14,
   "metadata": {},
   "outputs": [
    {
     "data": {
      "text/html": [
       "<table class=\"data-frame\"><thead><tr><th></th><th>From</th><th>To</th><th>G</th><th>B</th><th>Bsh</th><th>T</th><th>ϕ</th><th>Type</th></tr><tr><th></th><th>Int64</th><th>Int64</th><th>Float64</th><th>Float64</th><th>Float64</th><th>Float64</th><th>Float64</th><th>String</th></tr></thead><tbody><p>2,458 rows × 8 columns</p><tr><th>1</th><td>42404</td><td>11</td><td>127.266</td><td>-138.402</td><td>0.00207</td><td>1.0</td><td>0.0</td><td>Line</td></tr><tr><th>2</th><td>25404</td><td>12</td><td>58.2219</td><td>-86.6786</td><td>0.00407</td><td>1.0</td><td>0.0</td><td>Line</td></tr><tr><th>3</th><td>25404</td><td>12</td><td>53.8633</td><td>-78.528</td><td>0.00435</td><td>1.0</td><td>0.0</td><td>Line</td></tr><tr><th>4</th><td>46504</td><td>12</td><td>23.651</td><td>-23.4513</td><td>0.00329</td><td>1.0</td><td>0.0</td><td>Line</td></tr><tr><th>5</th><td>46504</td><td>12</td><td>29.1183</td><td>-25.6006</td><td>0.00256</td><td>1.0</td><td>0.0</td><td>Line</td></tr><tr><th>6</th><td>2121</td><td>1021</td><td>5.38915</td><td>-12.6249</td><td>0.0059</td><td>1.0</td><td>0.0</td><td>Line</td></tr><tr><th>7</th><td>2361</td><td>1021</td><td>1.74431</td><td>-8.98991</td><td>0.0117</td><td>1.0</td><td>0.0</td><td>Line</td></tr><tr><th>8</th><td>3541</td><td>1021</td><td>5.00208</td><td>-26.0672</td><td>0.0116</td><td>1.0</td><td>0.0</td><td>Line</td></tr><tr><th>9</th><td>10210</td><td>1021</td><td>0.0</td><td>-10000.0</td><td>0.0</td><td>1.0</td><td>0.0</td><td>Line</td></tr><tr><th>10</th><td>10261</td><td>1021</td><td>0.0</td><td>-10000.0</td><td>0.0</td><td>1.0</td><td>0.0</td><td>Line</td></tr><tr><th>11</th><td>5481</td><td>1041</td><td>35.3791</td><td>-77.2563</td><td>0.001</td><td>1.0</td><td>0.0</td><td>Line</td></tr><tr><th>12</th><td>1052</td><td>1042</td><td>0.0</td><td>-10000.0</td><td>0.0</td><td>1.0</td><td>0.0</td><td>Line</td></tr><tr><th>13</th><td>1072</td><td>1042</td><td>270.27</td><td>-1621.62</td><td>0.0384</td><td>1.0</td><td>0.0</td><td>Line</td></tr><tr><th>14</th><td>3202</td><td>1042</td><td>5.978</td><td>-44.2372</td><td>0.0335</td><td>1.0</td><td>0.0</td><td>Line</td></tr><tr><th>15</th><td>4722</td><td>1042</td><td>27.9506</td><td>-99.29</td><td>0.24517</td><td>1.0</td><td>0.0</td><td>Line</td></tr><tr><th>16</th><td>35771</td><td>1042</td><td>588.235</td><td>-2352.94</td><td>0.0265</td><td>1.0</td><td>0.0</td><td>Line</td></tr><tr><th>17</th><td>1062</td><td>1052</td><td>0.0</td><td>-10000.0</td><td>0.0</td><td>1.0</td><td>0.0</td><td>Line</td></tr><tr><th>18</th><td>2852</td><td>1052</td><td>87.3362</td><td>-655.022</td><td>0.1035</td><td>1.0</td><td>0.0</td><td>Line</td></tr><tr><th>19</th><td>3202</td><td>1052</td><td>5.978</td><td>-44.2372</td><td>0.0335</td><td>1.0</td><td>0.0</td><td>Line</td></tr><tr><th>20</th><td>10619</td><td>1061</td><td>500.0</td><td>-1000.0</td><td>0.0001</td><td>1.0</td><td>0.0</td><td>Line</td></tr><tr><th>21</th><td>1072</td><td>1062</td><td>0.0</td><td>-10000.0</td><td>0.0</td><td>1.0</td><td>0.0</td><td>Line</td></tr><tr><th>22</th><td>2231</td><td>1071</td><td>13.6164</td><td>-30.065</td><td>0.0026</td><td>1.0</td><td>0.0</td><td>Line</td></tr><tr><th>23</th><td>2361</td><td>1071</td><td>2.85655</td><td>-6.31903</td><td>0.0123</td><td>1.0</td><td>0.0</td><td>Line</td></tr><tr><th>24</th><td>4941</td><td>1071</td><td>2.3615</td><td>-5.22621</td><td>0.0148</td><td>1.0</td><td>0.0</td><td>Line</td></tr><tr><th>25</th><td>32810</td><td>1081</td><td>23.4234</td><td>-73.8739</td><td>0.0035</td><td>1.0</td><td>0.0</td><td>Line</td></tr><tr><th>26</th><td>3091</td><td>1091</td><td>10.989</td><td>-32.967</td><td>0.0237</td><td>1.0</td><td>0.0</td><td>Line</td></tr><tr><th>27</th><td>3431</td><td>1091</td><td>240.192</td><td>-512.41</td><td>0.01055</td><td>1.0</td><td>0.0</td><td>Line</td></tr><tr><th>28</th><td>2161</td><td>1101</td><td>54.1769</td><td>-120.587</td><td>0.0006</td><td>1.0</td><td>0.0</td><td>Line</td></tr><tr><th>29</th><td>1301</td><td>1121</td><td>1.61963</td><td>-12.4966</td><td>0.0071</td><td>1.0</td><td>0.0</td><td>Line</td></tr><tr><th>30</th><td>1541</td><td>1121</td><td>2.18089</td><td>-10.03</td><td>0.0102</td><td>1.0</td><td>0.0</td><td>Line</td></tr><tr><th>&vellip;</th><td>&vellip;</td><td>&vellip;</td><td>&vellip;</td><td>&vellip;</td><td>&vellip;</td><td>&vellip;</td><td>&vellip;</td><td>&vellip;</td></tr></tbody></table>"
      ],
      "text/latex": [
       "\\begin{tabular}{r|cccccccc}\n",
       "\t& From & To & G & B & Bsh & T & ϕ & Type\\\\\n",
       "\t\\hline\n",
       "\t& Int64 & Int64 & Float64 & Float64 & Float64 & Float64 & Float64 & String\\\\\n",
       "\t\\hline\n",
       "\t1 & 42404 & 11 & 127.266 & -138.402 & 0.00207 & 1.0 & 0.0 & Line \\\\\n",
       "\t2 & 25404 & 12 & 58.2219 & -86.6786 & 0.00407 & 1.0 & 0.0 & Line \\\\\n",
       "\t3 & 25404 & 12 & 53.8633 & -78.528 & 0.00435 & 1.0 & 0.0 & Line \\\\\n",
       "\t4 & 46504 & 12 & 23.651 & -23.4513 & 0.00329 & 1.0 & 0.0 & Line \\\\\n",
       "\t5 & 46504 & 12 & 29.1183 & -25.6006 & 0.00256 & 1.0 & 0.0 & Line \\\\\n",
       "\t6 & 2121 & 1021 & 5.38915 & -12.6249 & 0.0059 & 1.0 & 0.0 & Line \\\\\n",
       "\t7 & 2361 & 1021 & 1.74431 & -8.98991 & 0.0117 & 1.0 & 0.0 & Line \\\\\n",
       "\t8 & 3541 & 1021 & 5.00208 & -26.0672 & 0.0116 & 1.0 & 0.0 & Line \\\\\n",
       "\t9 & 10210 & 1021 & 0.0 & -10000.0 & 0.0 & 1.0 & 0.0 & Line \\\\\n",
       "\t10 & 10261 & 1021 & 0.0 & -10000.0 & 0.0 & 1.0 & 0.0 & Line \\\\\n",
       "\t11 & 5481 & 1041 & 35.3791 & -77.2563 & 0.001 & 1.0 & 0.0 & Line \\\\\n",
       "\t12 & 1052 & 1042 & 0.0 & -10000.0 & 0.0 & 1.0 & 0.0 & Line \\\\\n",
       "\t13 & 1072 & 1042 & 270.27 & -1621.62 & 0.0384 & 1.0 & 0.0 & Line \\\\\n",
       "\t14 & 3202 & 1042 & 5.978 & -44.2372 & 0.0335 & 1.0 & 0.0 & Line \\\\\n",
       "\t15 & 4722 & 1042 & 27.9506 & -99.29 & 0.24517 & 1.0 & 0.0 & Line \\\\\n",
       "\t16 & 35771 & 1042 & 588.235 & -2352.94 & 0.0265 & 1.0 & 0.0 & Line \\\\\n",
       "\t17 & 1062 & 1052 & 0.0 & -10000.0 & 0.0 & 1.0 & 0.0 & Line \\\\\n",
       "\t18 & 2852 & 1052 & 87.3362 & -655.022 & 0.1035 & 1.0 & 0.0 & Line \\\\\n",
       "\t19 & 3202 & 1052 & 5.978 & -44.2372 & 0.0335 & 1.0 & 0.0 & Line \\\\\n",
       "\t20 & 10619 & 1061 & 500.0 & -1000.0 & 0.0001 & 1.0 & 0.0 & Line \\\\\n",
       "\t21 & 1072 & 1062 & 0.0 & -10000.0 & 0.0 & 1.0 & 0.0 & Line \\\\\n",
       "\t22 & 2231 & 1071 & 13.6164 & -30.065 & 0.0026 & 1.0 & 0.0 & Line \\\\\n",
       "\t23 & 2361 & 1071 & 2.85655 & -6.31903 & 0.0123 & 1.0 & 0.0 & Line \\\\\n",
       "\t24 & 4941 & 1071 & 2.3615 & -5.22621 & 0.0148 & 1.0 & 0.0 & Line \\\\\n",
       "\t25 & 32810 & 1081 & 23.4234 & -73.8739 & 0.0035 & 1.0 & 0.0 & Line \\\\\n",
       "\t26 & 3091 & 1091 & 10.989 & -32.967 & 0.0237 & 1.0 & 0.0 & Line \\\\\n",
       "\t27 & 3431 & 1091 & 240.192 & -512.41 & 0.01055 & 1.0 & 0.0 & Line \\\\\n",
       "\t28 & 2161 & 1101 & 54.1769 & -120.587 & 0.0006 & 1.0 & 0.0 & Line \\\\\n",
       "\t29 & 1301 & 1121 & 1.61963 & -12.4966 & 0.0071 & 1.0 & 0.0 & Line \\\\\n",
       "\t30 & 1541 & 1121 & 2.18089 & -10.03 & 0.0102 & 1.0 & 0.0 & Line \\\\\n",
       "\t$\\dots$ & $\\dots$ & $\\dots$ & $\\dots$ & $\\dots$ & $\\dots$ & $\\dots$ & $\\dots$ & $\\dots$ \\\\\n",
       "\\end{tabular}\n"
      ],
      "text/plain": [
       "2458×8 DataFrame. Omitted printing of 1 columns\n",
       "│ Row  │ From  │ To    │ G          │ B        │ Bsh     │ T       │ ϕ       │\n",
       "│      │ \u001b[90mInt64\u001b[39m │ \u001b[90mInt64\u001b[39m │ \u001b[90mFloat64\u001b[39m    │ \u001b[90mFloat64\u001b[39m  │ \u001b[90mFloat64\u001b[39m │ \u001b[90mFloat64\u001b[39m │ \u001b[90mFloat64\u001b[39m │\n",
       "├──────┼───────┼───────┼────────────┼──────────┼─────────┼─────────┼─────────┤\n",
       "│ 1    │ 42404 │ 11    │ 127.266    │ -138.402 │ 0.00207 │ 1.0     │ 0.0     │\n",
       "│ 2    │ 25404 │ 12    │ 58.2219    │ -86.6786 │ 0.00407 │ 1.0     │ 0.0     │\n",
       "│ 3    │ 25404 │ 12    │ 53.8633    │ -78.528  │ 0.00435 │ 1.0     │ 0.0     │\n",
       "│ 4    │ 46504 │ 12    │ 23.651     │ -23.4513 │ 0.00329 │ 1.0     │ 0.0     │\n",
       "│ 5    │ 46504 │ 12    │ 29.1183    │ -25.6006 │ 0.00256 │ 1.0     │ 0.0     │\n",
       "│ 6    │ 2121  │ 1021  │ 5.38915    │ -12.6249 │ 0.0059  │ 1.0     │ 0.0     │\n",
       "│ 7    │ 2361  │ 1021  │ 1.74431    │ -8.98991 │ 0.0117  │ 1.0     │ 0.0     │\n",
       "│ 8    │ 3541  │ 1021  │ 5.00208    │ -26.0672 │ 0.0116  │ 1.0     │ 0.0     │\n",
       "│ 9    │ 10210 │ 1021  │ 0.0        │ -10000.0 │ 0.0     │ 1.0     │ 0.0     │\n",
       "│ 10   │ 10261 │ 1021  │ 0.0        │ -10000.0 │ 0.0     │ 1.0     │ 0.0     │\n",
       "⋮\n",
       "│ 2448 │ 81010 │ 81061 │ 0.0        │ -17.8571 │ 0.0     │ 1.0     │ 0.0     │\n",
       "│ 2449 │ 81010 │ 81062 │ 0.0        │ -17.8571 │ 0.0     │ 1.0     │ 0.0     │\n",
       "│ 2450 │ 81010 │ 81063 │ 0.0        │ -6.90131 │ 0.0     │ 1.0     │ 0.0     │\n",
       "│ 2451 │ 81510 │ 81561 │ 0.0        │ -17.5439 │ 0.0     │ 1.0     │ 0.0     │\n",
       "│ 2452 │ 81510 │ 81562 │ 0.0        │ -17.5439 │ 0.0     │ 1.0     │ 0.0     │\n",
       "│ 2453 │ 82020 │ 82004 │ 0.0        │ -6.11621 │ 0.0     │ 1.0     │ 0.0     │\n",
       "│ 2454 │ 90011 │ 90061 │ 0.0        │ -7.54717 │ 0.0     │ 1.0     │ 0.0     │\n",
       "│ 2455 │ 90011 │ 90062 │ 0.0        │ -7.54717 │ 0.0     │ 1.0     │ 0.0     │\n",
       "│ 2456 │ 90012 │ 90063 │ 0.0        │ -6.90131 │ 0.0     │ 1.0     │ 0.0     │\n",
       "│ 2457 │ 90310 │ 90361 │ 0.00872524 │ -6.60501 │ 0.0     │ 1.0     │ 0.0     │\n",
       "│ 2458 │ 90310 │ 90362 │ 0.0133333  │ -6.66664 │ 0.0     │ 1.0     │ 0.0     │"
      ]
     },
     "execution_count": 14,
     "metadata": {},
     "output_type": "execute_result"
    }
   ],
   "source": [
    "Branch = DataFrame(From = Branch_Fromx, To = Branch_Tox, \n",
    "                G = Gx, B = Bx, Bsh = Bshx, T = Tx, ϕ = ϕx, Type = Typex)"
   ]
  },
  {
   "cell_type": "code",
   "execution_count": 15,
   "metadata": {},
   "outputs": [],
   "source": [
    "Bus  = DataFrame(XLSX.readtable(\"IrishSystem2018.xlsx\", \"Bus\", infer_eltypes=true)... );"
   ]
  },
  {
   "cell_type": "code",
   "execution_count": 15,
   "metadata": {},
   "outputs": [
    {
     "name": "stderr",
     "output_type": "stream",
     "text": [
      "┌ Warning: Note: adding edges with a zero weight to this graph type has no effect.\n",
      "└ @ SimpleWeightedGraphs C:\\Users\\cilli\\.julia\\packages\\SimpleWeightedGraphs\\yUFrc\\src\\simpleweightedgraph.jl:103\n"
     ]
    }
   ],
   "source": [
    "N=nrow(Bus);\n",
    "G = SimpleWeightedGraph(N)\n",
    "for i in 1:length(Branch.From)\n",
    "    add_edge!(G, Branch.From[i], Branch.To[i], Branch.G[i])\n",
    "end"
   ]
  },
  {
   "cell_type": "code",
   "execution_count": 17,
   "metadata": {},
   "outputs": [
    {
     "ename": "ErrorException",
     "evalue": "type Array has no field Bus",
     "output_type": "error",
     "traceback": [
      "type Array has no field Bus",
      "",
      "Stacktrace:",
      " [1] getproperty(::Array{Int64,1}, ::Symbol) at .\\Base.jl:20",
      " [2] top-level scope at In[17]:1"
     ]
    }
   ],
   "source": [
    "Bus = Bus.Bus;"
   ]
  },
  {
   "cell_type": "code",
   "execution_count": 18,
   "metadata": {},
   "outputs": [],
   "source": [
    "Gd = Dict{Tuple{Int64, Int64}, Float64}()   # Conductance Dictionary\n",
    "Bd = Dict{Tuple{Int64, Int64}, Float64}()   # Susceptance Dictionary\n",
    "Bshd = Dict{Tuple{Int64, Int64}, Float64}() # Shunt Susceptance Dictionary\n",
    "Td = Dict{Tuple{Int64, Int64}, Float64}()   # Nominal \n",
    "ϕd = Dict{Tuple{Int64, Int64}, Float64}()\n",
    "for i in 1:size(Branch)[1]\n",
    "    Gd[(Branch.From[i],Branch.To[i])] = Branch.G[i]\n",
    "    Bd[(Branch.From[i],Branch.To[i])] = Branch.B[i]\n",
    "    Bshd[(Branch.From[i],Branch.To[i])] = Branch.Bsh[i]\n",
    "    Td[(Branch.From[i],Branch.To[i])] = Branch.T[i]\n",
    "    ϕd[(Branch.From[i],Branch.To[i])] = Branch.ϕ[i]\n",
    "end"
   ]
  },
  {
   "cell_type": "code",
   "execution_count": 19,
   "metadata": {},
   "outputs": [],
   "source": [
    "Gdc = deepcopy(Gd);"
   ]
  },
  {
   "cell_type": "code",
   "execution_count": 20,
   "metadata": {},
   "outputs": [
    {
     "name": "stderr",
     "output_type": "stream",
     "text": [
      "┌ Warning: In `filter(f, dict)`, `f` is now passed a single pair instead of two arguments.\n",
      "│   caller = top-level scope at In[20]:2\n",
      "└ @ Core In[20]:2\n"
     ]
    }
   ],
   "source": [
    "for i in Bus \n",
    "x1 = filter(((k1,k2),v) -> k1 == i || k2 == i,Gdc)\n",
    "x2 = sum(values(x1))\n",
    "Gdc[i,i] = x2\n",
    "end"
   ]
  },
  {
   "cell_type": "code",
   "execution_count": 20,
   "metadata": {},
   "outputs": [
    {
     "name": "stderr",
     "output_type": "stream",
     "text": [
      "┌ Warning: In `filter(f, dict)`, `f` is now passed a single pair instead of two arguments.\n",
      "│   caller = top-level scope at In[20]:1\n",
      "└ @ Core In[20]:1\n"
     ]
    },
    {
     "data": {
      "text/plain": [
       "Dict{Tuple{Int64,Int64},Float64} with 8 entries:\n",
       "  (90020, 90012) => 0.342703\n",
       "  (90012, 90063) => 0.0\n",
       "  (90012, 90011) => 0.0\n",
       "  (90012, 86511) => 4.19589\n",
       "  (90012, 90012) => 20.8631\n",
       "  (90012, 71512) => 6.75267\n",
       "  (90012, 71511) => 5.3759\n",
       "  (90012, 86512) => 4.19589"
      ]
     },
     "execution_count": 20,
     "metadata": {},
     "output_type": "execute_result"
    }
   ],
   "source": [
    "filter(((k1,k2),v) -> k1 == 90012 || k2 == 90012,Gdc)"
   ]
  },
  {
   "cell_type": "code",
   "execution_count": null,
   "metadata": {},
   "outputs": [],
   "source": []
  },
  {
   "cell_type": "code",
   "execution_count": 36,
   "metadata": {},
   "outputs": [],
   "source": [
    "TestData = DataFrame(From = [ 1, 1, 2, 3, 3, 4], To = [ 2, 3, 4, 4, 5, 5], \n",
    "    R = [ 0.0, 0.023, 0.006, 0.020, 0.0, 0.0], X = [ 0.3, 0.145, 0.032, 0.260, 0.320, 0.500], \n",
    "    Bsh = [ 0.0, 0.040, 0.010, 0.0, 0.0, 0.0], T = [ 1.0, 1.0, 1.0, 1.0, 0.98,1], \n",
    "    ϕ = [ 0.0, 0.0, 0.0, -3.0, 0.0, 0.0]);\n"
   ]
  },
  {
   "cell_type": "code",
   "execution_count": 39,
   "metadata": {},
   "outputs": [
    {
     "data": {
      "text/plain": [
       "1×5 Array{Complex{Float64},2}:\n",
       " 0.0+0.0im  0.0+0.3im  0.05+0.0im  0.0+0.0im  0.0+0.0im"
      ]
     },
     "execution_count": 39,
     "metadata": {},
     "output_type": "execute_result"
    }
   ],
   "source": [
    "Zsh = [ 0.0+0.0*im 0.0+0.3*im 0.05+0.0*im 0.0+0.0*im 0.0+0.0*im] "
   ]
  },
  {
   "cell_type": "code",
   "execution_count": 40,
   "metadata": {},
   "outputs": [
    {
     "data": {
      "text/html": [
       "<table class=\"data-frame\"><thead><tr><th></th><th>From</th><th>To</th><th>Y</th><th>R</th><th>X</th><th>Bsh</th><th>T</th><th>ϕ</th></tr><tr><th></th><th>Int64</th><th>Int64</th><th>Complex…</th><th>Float64</th><th>Float64</th><th>Float64</th><th>Float64</th><th>Float64</th></tr></thead><tbody><p>6 rows × 8 columns</p><tr><th>1</th><td>1</td><td>2</td><td>0.0-3.33333im</td><td>0.0</td><td>0.3</td><td>0.0</td><td>1.0</td><td>0.0</td></tr><tr><th>2</th><td>1</td><td>3</td><td>1.06709-6.72729im</td><td>0.023</td><td>0.145</td><td>0.04</td><td>1.0</td><td>0.0</td></tr><tr><th>3</th><td>2</td><td>4</td><td>5.66038-30.1887im</td><td>0.006</td><td>0.032</td><td>0.01</td><td>1.0</td><td>0.0</td></tr><tr><th>4</th><td>3</td><td>4</td><td>0.294118-3.82353im</td><td>0.02</td><td>0.26</td><td>0.0</td><td>1.0</td><td>-3.0</td></tr><tr><th>5</th><td>3</td><td>5</td><td>0.0-3.125im</td><td>0.0</td><td>0.32</td><td>0.0</td><td>0.98</td><td>0.0</td></tr><tr><th>6</th><td>4</td><td>5</td><td>0.0-2.0im</td><td>0.0</td><td>0.5</td><td>0.0</td><td>1.0</td><td>0.0</td></tr></tbody></table>"
      ],
      "text/latex": [
       "\\begin{tabular}{r|cccccccc}\n",
       "\t& From & To & Y & R & X & Bsh & T & ϕ\\\\\n",
       "\t\\hline\n",
       "\t& Int64 & Int64 & Complex… & Float64 & Float64 & Float64 & Float64 & Float64\\\\\n",
       "\t\\hline\n",
       "\t1 & 1 & 2 & 0.0-3.33333im & 0.0 & 0.3 & 0.0 & 1.0 & 0.0 \\\\\n",
       "\t2 & 1 & 3 & 1.06709-6.72729im & 0.023 & 0.145 & 0.04 & 1.0 & 0.0 \\\\\n",
       "\t3 & 2 & 4 & 5.66038-30.1887im & 0.006 & 0.032 & 0.01 & 1.0 & 0.0 \\\\\n",
       "\t4 & 3 & 4 & 0.294118-3.82353im & 0.02 & 0.26 & 0.0 & 1.0 & -3.0 \\\\\n",
       "\t5 & 3 & 5 & 0.0-3.125im & 0.0 & 0.32 & 0.0 & 0.98 & 0.0 \\\\\n",
       "\t6 & 4 & 5 & 0.0-2.0im & 0.0 & 0.5 & 0.0 & 1.0 & 0.0 \\\\\n",
       "\\end{tabular}\n"
      ],
      "text/plain": [
       "6×8 DataFrame. Omitted printing of 2 columns\n",
       "│ Row │ From  │ To    │ Y                  │ R       │ X       │ Bsh     │\n",
       "│     │ \u001b[90mInt64\u001b[39m │ \u001b[90mInt64\u001b[39m │ \u001b[90mComplex{Float64}\u001b[39m   │ \u001b[90mFloat64\u001b[39m │ \u001b[90mFloat64\u001b[39m │ \u001b[90mFloat64\u001b[39m │\n",
       "├─────┼───────┼───────┼────────────────────┼─────────┼─────────┼─────────┤\n",
       "│ 1   │ 1     │ 2     │ 0.0-3.33333im      │ 0.0     │ 0.3     │ 0.0     │\n",
       "│ 2   │ 1     │ 3     │ 1.06709-6.72729im  │ 0.023   │ 0.145   │ 0.04    │\n",
       "│ 3   │ 2     │ 4     │ 5.66038-30.1887im  │ 0.006   │ 0.032   │ 0.01    │\n",
       "│ 4   │ 3     │ 4     │ 0.294118-3.82353im │ 0.02    │ 0.26    │ 0.0     │\n",
       "│ 5   │ 3     │ 5     │ 0.0-3.125im        │ 0.0     │ 0.32    │ 0.0     │\n",
       "│ 6   │ 4     │ 5     │ 0.0-2.0im          │ 0.0     │ 0.5     │ 0.0     │"
      ]
     },
     "execution_count": 40,
     "metadata": {},
     "output_type": "execute_result"
    }
   ],
   "source": [
    "R = TestData.R; X = TestData.X; Bsh = TestData.Bsh; T = TestData.T; ϕ = TestData.ϕ;\n",
    "Y = (R + X*im).^-1; G = real(Y); B = imag(Y);\n",
    "insertcols!(TestData, 3, Y = Y)"
   ]
  },
  {
   "cell_type": "code",
   "execution_count": 41,
   "metadata": {},
   "outputs": [
    {
     "data": {
      "text/plain": [
       "6-element Array{Complex{Float64},1}:\n",
       "                 0.0 - 3.3333333333333335im\n",
       "   1.067087315579475 - 6.727289598218428im \n",
       "   5.660377358490566 - 30.188679245283016im\n",
       " 0.29411764705882354 - 3.8235294117647056im\n",
       "                 0.0 - 3.125im             \n",
       "                 0.0 - 2.0im               "
      ]
     },
     "execution_count": 41,
     "metadata": {},
     "output_type": "execute_result"
    }
   ],
   "source": [
    "TestData.Y"
   ]
  },
  {
   "cell_type": "code",
   "execution_count": 9,
   "metadata": {},
   "outputs": [
    {
     "name": "stdout",
     "output_type": "stream",
     "text": [
      "1\n",
      "2\n",
      "3\n",
      "4\n",
      "5\n",
      "6\n"
     ]
    }
   ],
   "source": [
    "Yd = Dict{Tuple{Int64, Int64}, Complex{Float64}}()   # Admittance Matrix\n",
    "Bshd = Dict{Tuple{Int64, Int64}, Float64}() # Shunt Susceptance Dictionary\n",
    "Td = Dict{Tuple{Int64, Int64}, Float64}()   # Nominal Transformer\n",
    "ϕd = Dict{Tuple{Int64, Int64}, Float64}()   # Transformer Phase Shift\n",
    "for i in 1:size(TestData)[1]\n",
    "    println(i)\n",
    "    Yd[(TestData.From[i], TestData.To[i])] = TestData.Y[i]\n",
    "    Bshd[(TestData.From[i], TestData.To[i])] = TestData.Bsh[i]\n",
    "    Td[(TestData.From[i], TestData.To[i])] = TestData.T[i]\n",
    "    ϕd[(TestData.From[i], TestData.To[i])] = TestData.ϕ[i]\n",
    "end"
   ]
  },
  {
   "cell_type": "code",
   "execution_count": 32,
   "metadata": {},
   "outputs": [
    {
     "data": {
      "text/plain": [
       "5-element Array{Int64,1}:\n",
       " 1\n",
       " 2\n",
       " 3\n",
       " 4\n",
       " 5"
      ]
     },
     "execution_count": 32,
     "metadata": {},
     "output_type": "execute_result"
    }
   ],
   "source": [
    "unique(append!(TestData.From,TestData.To))"
   ]
  },
  {
   "cell_type": "markdown",
   "metadata": {},
   "source": [
    "## Constructing Off Diagnol Elements"
   ]
  },
  {
   "cell_type": "code",
   "execution_count": 3,
   "metadata": {},
   "outputs": [
    {
     "ename": "UndefVarError",
     "evalue": "UndefVarError: TestData not defined",
     "output_type": "error",
     "traceback": [
      "UndefVarError: TestData not defined",
      "",
      "Stacktrace:",
      " [1] top-level scope at In[3]:2"
     ]
    }
   ],
   "source": [
    "Y_Test =  Dict{Tuple{Int64, Int64}, Complex{Float64}}()\n",
    "\n",
    "for i in unique(append!(TestData.From,TestData.To))\n",
    "Y_N = filter(((k1,k2),v) -> k1 == i || k2 == i,Yd);\n",
    "T_N = filter(((k1,k2),v) -> k1 == i || k2 == i,Td);\n",
    "ϕ_N = filter(((k1,k2),v) -> k1 == i || k2 == i,ϕd);\n",
    "\n",
    "\n",
    "#a_N = [T_N[i,j]*exp( deg2rad(ϕ_N[i,j])*im)  for (i,j) in keys(Y_N)]\n",
    "#println(a_N)\n",
    "\n",
    "Y_Test[i,i] =  sum(\n",
    "        append!([norm( 1/T_N[i,j]*exp( deg2rad(ϕ_N[i,j])*im), 2 ) * ( (Bshd[i,j]*im)/2 + Y_N[i,j]) for (i,j) in keys(Y_N)], Zsh[i])\n",
    "    )\n",
    "\n",
    "\n",
    "end\n",
    "    \n",
    "    \n"
   ]
  },
  {
   "cell_type": "code",
   "execution_count": 45,
   "metadata": {},
   "outputs": [
    {
     "data": {
      "text/plain": [
       "Dict{Tuple{Int64,Int64},Complex{Float64}} with 5 entries:\n",
       "  (3, 3) => 1.4112-13.7196im\n",
       "  (2, 2) => 5.66038-33.217im\n",
       "  (1, 1) => 1.06709-10.0406im\n",
       "  (4, 4) => 5.9545-36.0072im\n",
       "  (5, 5) => 0.0-5.18878im"
      ]
     },
     "execution_count": 45,
     "metadata": {},
     "output_type": "execute_result"
    }
   ],
   "source": [
    "Y_Test"
   ]
  },
  {
   "cell_type": "code",
   "execution_count": 59,
   "metadata": {},
   "outputs": [
    {
     "data": {
      "text/plain": [
       "0.2937928760224042 - 3.8213059792846042im"
      ]
     },
     "execution_count": 59,
     "metadata": {},
     "output_type": "execute_result"
    }
   ],
   "source": [
    "(0.294 - 3.824*im)/((0.999 - 0.052*im)*(0.999 + 0.052*im))"
   ]
  },
  {
   "cell_type": "markdown",
   "metadata": {},
   "source": [
    "#### Machine"
   ]
  },
  {
   "cell_type": "code",
   "execution_count": 4,
   "metadata": {},
   "outputs": [],
   "source": [
    "Machine  = DataFrame(XLSX.readtable(\"IrishSystem2018.xlsx\", \"Machine\", infer_eltypes=true)... );\n",
    "Owner = DataFrame(XLSX.readtable(\"IrishSystem2018.xlsx\", \"Owner\", infer_eltypes=true)... );"
   ]
  },
  {
   "cell_type": "code",
   "execution_count": 5,
   "metadata": {},
   "outputs": [],
   "source": [
    "New = deepcopy(Machine.Owner_1)\n",
    "for n in 1:length(Owner.Owner_Num)\n",
    "    New = replace(New, Owner.Owner_Num[n] => Owner.Owner_Name[n])\n",
    "end\n",
    "Machine.Owner_1 = New;"
   ]
  },
  {
   "cell_type": "markdown",
   "metadata": {},
   "source": []
  },
  {
   "cell_type": "code",
   "execution_count": 6,
   "metadata": {},
   "outputs": [
    {
     "data": {
      "text/plain": [
       "5052.923000000002"
      ]
     },
     "execution_count": 6,
     "metadata": {},
     "output_type": "execute_result"
    }
   ],
   "source": [
    "WIND = filter(s->occursin(r\"WIND\",s),Owner.Owner_Name);\n",
    "Machine_Wind = Machine[findall( in(WIND), Machine.Owner_1),:];\n",
    "sum(Machine_Wind.Pmax_MW)"
   ]
  },
  {
   "cell_type": "code",
   "execution_count": 18,
   "metadata": {},
   "outputs": [
    {
     "name": "stdout",
     "output_type": "stream",
     "text": [
      "350×47 DataFrame\n",
      "│ Row │ Bus   │ Bus_Name           │ Id  │ Term Node Num   │ Term Node Name   │\n",
      "│     │ \u001b[90mInt64\u001b[39m │ \u001b[90mString\u001b[39m             │ \u001b[90mAny\u001b[39m │ \u001b[90mAny\u001b[39m             │ \u001b[90mAny\u001b[39m              │\n",
      "├─────┼───────┼────────────────────┼─────┼─────────────────┼──────────────────┤\n",
      "│ 1   │ 67058 │ SEECON_PH1  0.6900 │ 1   │ \u001b[90mmissing\u001b[39m         │ \u001b[90mmissing\u001b[39m          │\n",
      "│ 2   │ 33971 │ KNOCKACU    0.6600 │ TW  │ \u001b[90mmissing\u001b[39m         │ \u001b[90mmissing\u001b[39m          │\n",
      "│ 3   │ 68272 │ CORDAL_PH2  38.000 │ 1   │ \u001b[90mmissing\u001b[39m         │ \u001b[90mmissing\u001b[39m          │\n",
      "│ 4   │ 67066 │ MOUNTLUC_PH10.6900 │ 1   │ \u001b[90mmissing\u001b[39m         │ \u001b[90mmissing\u001b[39m          │\n",
      "│ 5   │ 40971 │ MULREAVY    0.6900 │ 1   │ \u001b[90mmissing\u001b[39m         │ \u001b[90mmissing\u001b[39m          │\n",
      "│ 6   │ 68092 │ UGOOL_PH1   0.6900 │ 1   │ \u001b[90mmissing\u001b[39m         │ \u001b[90mmissing\u001b[39m          │\n",
      "│ 7   │ 22371 │ DERRYBRIEN  0.6900 │ 1   │ \u001b[90mmissing\u001b[39m         │ \u001b[90mmissing\u001b[39m          │\n",
      "│ 8   │ 67094 │ SLIABH_BAWN 20.000 │ 1   │ \u001b[90mmissing\u001b[39m         │ \u001b[90mmissing\u001b[39m          │\n",
      "│ 9   │ 15574 │ BOGGERAG    1.0000 │ 1   │ \u001b[90mmissing\u001b[39m         │ \u001b[90mmissing\u001b[39m          │\n",
      "│ 10  │ 44871 │ DOORAY      0.6900 │ 1   │ \u001b[90mmissing\u001b[39m         │ \u001b[90mmissing\u001b[39m          │\n",
      "⋮\n",
      "│ 340 │ 13471 │ BURTONPORT  0.6900 │ 1   │ \u001b[90mmissing\u001b[39m         │ \u001b[90mmissing\u001b[39m          │\n",
      "│ 341 │ 49977 │ GLACKMORE_HI0.6900 │ 1   │ \u001b[90mmissing\u001b[39m         │ \u001b[90mmissing\u001b[39m          │\n",
      "│ 342 │ 49980 │ GLACKMORE_HI0.4000 │ 1   │ \u001b[90mmissing\u001b[39m         │ \u001b[90mmissing\u001b[39m          │\n",
      "│ 343 │ 68323 │ BALLYDUF_PH10.6900 │ 1   │ \u001b[90mmissing\u001b[39m         │ \u001b[90mmissing\u001b[39m          │\n",
      "│ 344 │ 21071 │ DUNDALK     0.6900 │ 2   │ \u001b[90mmissing\u001b[39m         │ \u001b[90mmissing\u001b[39m          │\n",
      "│ 345 │ 68223 │ ANARGET_PH3 0.4000 │ 1   │ \u001b[90mmissing\u001b[39m         │ \u001b[90mmissing\u001b[39m          │\n",
      "│ 346 │ 49979 │ GLACKMORE_HI0.6900 │ 3   │ \u001b[90mmissing\u001b[39m         │ \u001b[90mmissing\u001b[39m          │\n",
      "│ 347 │ 16379 │ MONEENATIEVE0.6900 │ 2   │ \u001b[90mmissing\u001b[39m         │ \u001b[90mmissing\u001b[39m          │\n",
      "│ 348 │ 68325 │ BALLYSHANNON0.6900 │ 1   │ \u001b[90mmissing\u001b[39m         │ \u001b[90mmissing\u001b[39m          │\n",
      "│ 349 │ 17077 │ ANARGET     0.4000 │ 8   │ \u001b[90mmissing\u001b[39m         │ \u001b[90mmissing\u001b[39m          │\n",
      "│ 350 │ 77293 │ WIND_PT     33.000 │ PT  │ \u001b[90mmissing\u001b[39m         │ \u001b[90mmissing\u001b[39m          │\n",
      "\n",
      "│ Row │  Area_Num │  Area_Name │ Zone_Num │ Zone_Name  │ Code  │ VSched(pu) │\n",
      "│     │ \u001b[90mInt64\u001b[39m     │ \u001b[90mString\u001b[39m     │ \u001b[90mInt64\u001b[39m    │ \u001b[90mString\u001b[39m     │ \u001b[90mInt64\u001b[39m │ \u001b[90mAny\u001b[39m        │\n",
      "├─────┼───────────┼────────────┼──────────┼────────────┼───────┼────────────┤\n",
      "│ 1   │ 9         │ NW         │ 2        │ IE AREA B  │ 2     │ 1.05       │\n",
      "│ 2   │ 7         │ LIMERICK   │ 5        │ IE AREA E  │ 2     │ 1.05       │\n",
      "│ 3   │ 3         │ CORK KERRY │ 5        │ IE AREA E  │ 2     │ 1.05       │\n",
      "│ 4   │ 8         │ KILDARE    │ 11       │ IE AREA J  │ 2     │ 1.05       │\n",
      "│ 5   │ 9         │ NW         │ 1        │ IE AREA A  │ 2     │ 1.05       │\n",
      "│ 6   │ 9         │ NW         │ 2        │ IE AREA B  │ 2     │ 1.05       │\n",
      "│ 7   │ 4         │ CLARE      │ 4        │ IE AREA D  │ 2     │ 1.05       │\n",
      "│ 8   │ 9         │ NW         │ 3        │ IE AREA C  │ 2     │ 1.05       │\n",
      "│ 9   │ 3         │ CORK KERRY │ 5        │ IE AREA E  │ 2     │ 1.05       │\n",
      "│ 10  │ 5         │ CAHIR NETW │ 11       │ IE AREA J  │ 2     │ 1.05       │\n",
      "⋮\n",
      "│ 340 │ 9         │ NW         │ 1        │ IE AREA A  │ 2     │ 1.05       │\n",
      "│ 341 │ 9         │ NW         │ 1        │ IE AREA A  │ 2     │ 1.02       │\n",
      "│ 342 │ 9         │ NW         │ 1        │ IE AREA A  │ 2     │ 1.02       │\n",
      "│ 343 │ 6         │ SE         │ 9        │ IE AREA H2 │ 2     │ 1.05       │\n",
      "│ 344 │ 10        │ NE         │ 7        │ IE AREA G  │ 2     │ 1.05       │\n",
      "│ 345 │ 9         │ NW         │ 1        │ IE AREA A  │ 2     │ 1.05       │\n",
      "│ 346 │ 9         │ NW         │ 1        │ IE AREA A  │ 2     │ 1.02       │\n",
      "│ 347 │ 9         │ NW         │ 1        │ IE AREA A  │ 2     │ 1          │\n",
      "│ 348 │ 6         │ SE         │ 9        │ IE AREA H2 │ 2     │ 1          │\n",
      "│ 349 │ 9         │ NW         │ 1        │ IE AREA A  │ 2     │ 1.05       │\n",
      "│ 350 │ 20        │ N IRELAND  │ 14       │ NI WEST    │ 2     │ 1          │\n",
      "\n",
      "│ Row │ Remote_Bus_Number │ In_Service │ Pgen_MW │ Pmax_MW │ Pmin_MW │\n",
      "│     │ \u001b[90mInt64\u001b[39m             │ \u001b[90mInt64\u001b[39m      │ \u001b[90mAny\u001b[39m     │ \u001b[90mAny\u001b[39m     │ \u001b[90mAny\u001b[39m     │\n",
      "├─────┼───────────────────┼────────────┼─────────┼─────────┼─────────┤\n",
      "│ 1   │ 2111              │ 1          │ 32.4    │ 108     │ 0       │\n",
      "│ 2   │ 3391              │ 1          │ 31.5    │ 105     │ 0       │\n",
      "│ 3   │ 1311              │ 1          │ 26.955  │ 89.85   │ 0       │\n",
      "│ 4   │ 2401              │ 1          │ 25.2    │ 84      │ 0       │\n",
      "│ 5   │ 4091              │ 1          │ 24.6    │ 82      │ 0       │\n",
      "│ 6   │ 2111              │ 1          │ 19.8    │ 66      │ 0       │\n",
      "│ 7   │ 2231              │ 1          │ 17.85   │ 59.5    │ 0       │\n",
      "│ 8   │ 66094             │ 1          │ 17.4    │ 58      │ 0       │\n",
      "│ 9   │ 1551              │ 1          │ 17.1    │ 57      │ 0       │\n",
      "│ 10  │ 0                 │ 1          │ 16.5    │ 55      │ 0       │\n",
      "⋮\n",
      "│ 340 │ 0                 │ 1          │ 0.198   │ 0.66    │ 0       │\n",
      "│ 341 │ 0                 │ 1          │ 0.18    │ 0.6     │ 0       │\n",
      "│ 342 │ 0                 │ 1          │ 0.18    │ 0.6     │ 0       │\n",
      "│ 343 │ 3642              │ 1          │ 0.18    │ 0.6     │ 0       │\n",
      "│ 344 │ 0                 │ 1          │ 0.15    │ 0.5     │ 0       │\n",
      "│ 345 │ 0                 │ 1          │ 0.15    │ 0.5     │ 0       │\n",
      "│ 346 │ 0                 │ 1          │ 0.09    │ 0.3     │ 0       │\n",
      "│ 347 │ 0                 │ 1          │ 0.087   │ 0.29    │ 0       │\n",
      "│ 348 │ 0                 │ 1          │ 0.15    │ 0.15    │ 0       │\n",
      "│ 349 │ 0                 │ 1          │ 0.006   │ 0.02    │ 0       │\n",
      "│ 350 │ 0                 │ 1          │ 0       │ 0       │ 0       │\n",
      "\n",
      "│ Row │ Qgen_Mvar │ Qmax_Mvar │ Qmin_Mvar │ Mbase_MVA │ R Source (pu) │\n",
      "│     │ \u001b[90mAny\u001b[39m       │ \u001b[90mAny\u001b[39m       │ \u001b[90mAny\u001b[39m       │ \u001b[90mAny\u001b[39m       │ \u001b[90mAny\u001b[39m           │\n",
      "├─────┼───────────┼───────────┼───────────┼───────────┼───────────────┤\n",
      "│ 1   │ -35.64    │ 35.64     │ -35.64    │ 119.88    │ 0             │\n",
      "│ 2   │ -34.65    │ 34.65     │ -34.65    │ 115.5     │ 0.0022        │\n",
      "│ 3   │ -33.28    │ 33.28     │ -33.28    │ 90        │ 0.0032        │\n",
      "│ 4   │ -27.72    │ 27.72     │ -27.72    │ 84        │ 0             │\n",
      "│ 5   │ -16.897   │ 27.06     │ -27.06    │ 82        │ 0.009         │\n",
      "│ 6   │ -21.78    │ 21.78     │ -21.78    │ 73.26     │ 0             │\n",
      "│ 7   │ -11.781   │ 11.781    │ -11.781   │ 60        │ 0.0073        │\n",
      "│ 8   │ -19.14    │ 19.14     │ -19.14    │ 64.57     │ 0.0032        │\n",
      "│ 9   │ -11.62    │ 18.81     │ -18.81    │ 59.38     │ 0.009         │\n",
      "│ 10  │ -3.68     │ -3.68     │ -3.68     │ 56        │ 0.0032        │\n",
      "⋮\n",
      "│ 340 │ -0.057    │ -0.057    │ -0.057    │ 0.66      │ 0.0204        │\n",
      "│ 341 │ -0.046    │ -0.046    │ -0.046    │ 0.67      │ 0.0032        │\n",
      "│ 342 │ -0.046    │ -0.046    │ -0.046    │ 2.3       │ 0.0257        │\n",
      "│ 343 │ -0.046    │ -0.046    │ -0.046    │ 0.67      │ 0.0032        │\n",
      "│ 344 │ -0.045    │ -0.045    │ -0.045    │ 0.85      │ 0.0073        │\n",
      "│ 345 │ -0.04     │ -0.04     │ -0.04     │ 0.9       │ 0.0302        │\n",
      "│ 346 │ -0.025    │ -0.025    │ -0.025    │ 0.33      │ 0.0032        │\n",
      "│ 347 │ -0.022    │ -0.022    │ -0.022    │ 0.32      │ 0.0032        │\n",
      "│ 348 │ -0.042    │ -0.042    │ -0.042    │ 0.17      │ 0             │\n",
      "│ 349 │ -0.002    │ -0.002    │ -0.002    │ 1.2       │ 0.0302        │\n",
      "│ 350 │ 0         │ 0         │ 0         │ 20.7      │ 0.0257        │\n",
      "\n",
      "│ Row │ X Source (pu) │ RTran (pu) │ XTran (pu) │ Gentap (pu) │ Owner_1   │\n",
      "│     │ \u001b[90mAny\u001b[39m           │ \u001b[90mAny\u001b[39m        │ \u001b[90mAny\u001b[39m        │ \u001b[90mAny\u001b[39m         │ \u001b[90mAny\u001b[39m       │\n",
      "├─────┼───────────────┼────────────┼────────────┼─────────────┼───────────┤\n",
      "│ 1   │ 0.6           │ 0          │ 0          │ 1           │ IE_WINDT  │\n",
      "│ 2   │ 0.4194        │ 0          │ 0          │ 1           │ IE_WINDT  │\n",
      "│ 3   │ 0.124         │ 0.00498    │ 0.06       │ 1           │ IE_WINDB  │\n",
      "│ 4   │ 0.502         │ 0          │ 0          │ 1           │ IE_WINDT  │\n",
      "│ 5   │ 0.148         │ 0          │ 0          │ 1           │ IE_WINDT  │\n",
      "│ 6   │ 0.6           │ 0          │ 0          │ 1           │ IE_WINDT  │\n",
      "│ 7   │ 0.135         │ 0          │ 0          │ 1           │ IE_WINDT  │\n",
      "│ 8   │ 0.124         │ 0.00409    │ 0.06       │ 1           │ IE_WINDT  │\n",
      "│ 9   │ 0.166         │ 0          │ 0          │ 1           │ IE_WINDT  │\n",
      "│ 10  │ 0.124         │ 0          │ 0          │ 1           │ IE_WINDD  │\n",
      "⋮\n",
      "│ 340 │ 0.3306        │ 0          │ 0          │ 1           │ IE_WINDE  │\n",
      "│ 341 │ 0.124         │ 0          │ 0          │ 1           │ IE_WINDB  │\n",
      "│ 342 │ 0.737         │ 0          │ 0          │ 1           │ IE_WINDD  │\n",
      "│ 343 │ 0.124         │ 0          │ 0          │ 1           │ IE_WINDB  │\n",
      "│ 344 │ 0.135         │ 0          │ 0          │ 1           │ IE_WINDE  │\n",
      "│ 345 │ 0.866         │ 0          │ 0          │ 1           │ IE_WINDD  │\n",
      "│ 346 │ 0.124         │ 0          │ 0          │ 1           │ IE_WINDB  │\n",
      "│ 347 │ 0.124         │ 0          │ 0          │ 1           │ IE_WINDB  │\n",
      "│ 348 │ 0.080289      │ 0          │ 0          │ 1           │ IE_WINDD  │\n",
      "│ 349 │ 0.866         │ 0          │ 0          │ 1           │ IE_WINDC  │\n",
      "│ 350 │ 0.797         │ 0          │ 0          │ 1           │ NI_WINDCL │\n",
      "\n",
      "│ Row │ Fraction 1 │ Owner 2 │ Fraction 2 │ Owner 3 │ Fraction 3 │ Owner 4 │\n",
      "│     │ \u001b[90mInt64\u001b[39m      │ \u001b[90mInt64\u001b[39m   │ \u001b[90mInt64\u001b[39m      │ \u001b[90mInt64\u001b[39m   │ \u001b[90mInt64\u001b[39m      │ \u001b[90mInt64\u001b[39m   │\n",
      "├─────┼────────────┼─────────┼────────────┼─────────┼────────────┼─────────┤\n"
     ]
    },
    {
     "name": "stdout",
     "output_type": "stream",
     "text": [
      "│ 1   │ 1          │ 0       │ 1          │ 0       │ 1          │ 0       │\n",
      "│ 2   │ 1          │ 0       │ 1          │ 0       │ 1          │ 0       │\n",
      "│ 3   │ 1          │ 0       │ 1          │ 0       │ 1          │ 0       │\n",
      "│ 4   │ 1          │ 0       │ 1          │ 0       │ 1          │ 0       │\n",
      "│ 5   │ 1          │ 0       │ 1          │ 0       │ 1          │ 0       │\n",
      "│ 6   │ 1          │ 0       │ 1          │ 0       │ 1          │ 0       │\n",
      "│ 7   │ 1          │ 0       │ 1          │ 0       │ 1          │ 0       │\n",
      "│ 8   │ 1          │ 0       │ 1          │ 0       │ 1          │ 0       │\n",
      "│ 9   │ 1          │ 0       │ 1          │ 0       │ 1          │ 0       │\n",
      "│ 10  │ 1          │ 0       │ 1          │ 0       │ 1          │ 0       │\n",
      "⋮\n",
      "│ 340 │ 1          │ 0       │ 1          │ 0       │ 1          │ 0       │\n",
      "│ 341 │ 1          │ 0       │ 1          │ 0       │ 1          │ 0       │\n",
      "│ 342 │ 1          │ 0       │ 1          │ 0       │ 1          │ 0       │\n",
      "│ 343 │ 1          │ 0       │ 1          │ 0       │ 1          │ 0       │\n",
      "│ 344 │ 1          │ 0       │ 1          │ 0       │ 1          │ 0       │\n",
      "│ 345 │ 1          │ 0       │ 1          │ 0       │ 1          │ 0       │\n",
      "│ 346 │ 1          │ 0       │ 1          │ 0       │ 1          │ 0       │\n",
      "│ 347 │ 1          │ 0       │ 1          │ 0       │ 1          │ 0       │\n",
      "│ 348 │ 1          │ 0       │ 1          │ 0       │ 1          │ 0       │\n",
      "│ 349 │ 1          │ 0       │ 1          │ 0       │ 1          │ 0       │\n",
      "│ 350 │ 1          │ 0       │ 1          │ 0       │ 1          │ 0       │\n",
      "\n",
      "│ Row │ Fraction 4 │ R (pu)  │ Subtransient X (pu) │ Transient X (pu) │\n",
      "│     │ \u001b[90mInt64\u001b[39m      │ \u001b[90mAny\u001b[39m     │ \u001b[90mAny\u001b[39m                 │ \u001b[90mAny\u001b[39m              │\n",
      "├─────┼────────────┼─────────┼─────────────────────┼──────────────────┤\n",
      "│ 1   │ 1          │ \u001b[90mmissing\u001b[39m │ \u001b[90mmissing\u001b[39m             │ \u001b[90mmissing\u001b[39m          │\n",
      "│ 2   │ 1          │ \u001b[90mmissing\u001b[39m │ \u001b[90mmissing\u001b[39m             │ \u001b[90mmissing\u001b[39m          │\n",
      "│ 3   │ 1          │ \u001b[90mmissing\u001b[39m │ \u001b[90mmissing\u001b[39m             │ \u001b[90mmissing\u001b[39m          │\n",
      "│ 4   │ 1          │ \u001b[90mmissing\u001b[39m │ \u001b[90mmissing\u001b[39m             │ \u001b[90mmissing\u001b[39m          │\n",
      "│ 5   │ 1          │ \u001b[90mmissing\u001b[39m │ \u001b[90mmissing\u001b[39m             │ \u001b[90mmissing\u001b[39m          │\n",
      "│ 6   │ 1          │ \u001b[90mmissing\u001b[39m │ \u001b[90mmissing\u001b[39m             │ \u001b[90mmissing\u001b[39m          │\n",
      "│ 7   │ 1          │ \u001b[90mmissing\u001b[39m │ \u001b[90mmissing\u001b[39m             │ \u001b[90mmissing\u001b[39m          │\n",
      "│ 8   │ 1          │ \u001b[90mmissing\u001b[39m │ \u001b[90mmissing\u001b[39m             │ \u001b[90mmissing\u001b[39m          │\n",
      "│ 9   │ 1          │ \u001b[90mmissing\u001b[39m │ \u001b[90mmissing\u001b[39m             │ \u001b[90mmissing\u001b[39m          │\n",
      "│ 10  │ 1          │ \u001b[90mmissing\u001b[39m │ \u001b[90mmissing\u001b[39m             │ \u001b[90mmissing\u001b[39m          │\n",
      "⋮\n",
      "│ 340 │ 1          │ \u001b[90mmissing\u001b[39m │ \u001b[90mmissing\u001b[39m             │ \u001b[90mmissing\u001b[39m          │\n",
      "│ 341 │ 1          │ \u001b[90mmissing\u001b[39m │ \u001b[90mmissing\u001b[39m             │ \u001b[90mmissing\u001b[39m          │\n",
      "│ 342 │ 1          │ \u001b[90mmissing\u001b[39m │ \u001b[90mmissing\u001b[39m             │ \u001b[90mmissing\u001b[39m          │\n",
      "│ 343 │ 1          │ \u001b[90mmissing\u001b[39m │ \u001b[90mmissing\u001b[39m             │ \u001b[90mmissing\u001b[39m          │\n",
      "│ 344 │ 1          │ \u001b[90mmissing\u001b[39m │ \u001b[90mmissing\u001b[39m             │ \u001b[90mmissing\u001b[39m          │\n",
      "│ 345 │ 1          │ \u001b[90mmissing\u001b[39m │ \u001b[90mmissing\u001b[39m             │ \u001b[90mmissing\u001b[39m          │\n",
      "│ 346 │ 1          │ \u001b[90mmissing\u001b[39m │ \u001b[90mmissing\u001b[39m             │ \u001b[90mmissing\u001b[39m          │\n",
      "│ 347 │ 1          │ \u001b[90mmissing\u001b[39m │ \u001b[90mmissing\u001b[39m             │ \u001b[90mmissing\u001b[39m          │\n",
      "│ 348 │ 1          │ \u001b[90mmissing\u001b[39m │ \u001b[90mmissing\u001b[39m             │ \u001b[90mmissing\u001b[39m          │\n",
      "│ 349 │ 1          │ \u001b[90mmissing\u001b[39m │ \u001b[90mmissing\u001b[39m             │ \u001b[90mmissing\u001b[39m          │\n",
      "│ 350 │ 1          │ \u001b[90mmissing\u001b[39m │ \u001b[90mmissing\u001b[39m             │ \u001b[90mmissing\u001b[39m          │\n",
      "\n",
      "│ Row │ Synchronous X (pu) │ R-Negative (pu) │ X-Negative (pu) │ R-Zero (pu) │\n",
      "│     │ \u001b[90mAny\u001b[39m                │ \u001b[90mAny\u001b[39m             │ \u001b[90mAny\u001b[39m             │ \u001b[90mAny\u001b[39m         │\n",
      "├─────┼────────────────────┼─────────────────┼─────────────────┼─────────────┤\n",
      "│ 1   │ \u001b[90mmissing\u001b[39m            │ \u001b[90mmissing\u001b[39m         │ \u001b[90mmissing\u001b[39m         │ \u001b[90mmissing\u001b[39m     │\n",
      "│ 2   │ \u001b[90mmissing\u001b[39m            │ \u001b[90mmissing\u001b[39m         │ \u001b[90mmissing\u001b[39m         │ \u001b[90mmissing\u001b[39m     │\n",
      "│ 3   │ \u001b[90mmissing\u001b[39m            │ \u001b[90mmissing\u001b[39m         │ \u001b[90mmissing\u001b[39m         │ \u001b[90mmissing\u001b[39m     │\n",
      "│ 4   │ \u001b[90mmissing\u001b[39m            │ \u001b[90mmissing\u001b[39m         │ \u001b[90mmissing\u001b[39m         │ \u001b[90mmissing\u001b[39m     │\n",
      "│ 5   │ \u001b[90mmissing\u001b[39m            │ \u001b[90mmissing\u001b[39m         │ \u001b[90mmissing\u001b[39m         │ \u001b[90mmissing\u001b[39m     │\n",
      "│ 6   │ \u001b[90mmissing\u001b[39m            │ \u001b[90mmissing\u001b[39m         │ \u001b[90mmissing\u001b[39m         │ \u001b[90mmissing\u001b[39m     │\n",
      "│ 7   │ \u001b[90mmissing\u001b[39m            │ \u001b[90mmissing\u001b[39m         │ \u001b[90mmissing\u001b[39m         │ \u001b[90mmissing\u001b[39m     │\n",
      "│ 8   │ \u001b[90mmissing\u001b[39m            │ \u001b[90mmissing\u001b[39m         │ \u001b[90mmissing\u001b[39m         │ \u001b[90mmissing\u001b[39m     │\n",
      "│ 9   │ \u001b[90mmissing\u001b[39m            │ \u001b[90mmissing\u001b[39m         │ \u001b[90mmissing\u001b[39m         │ \u001b[90mmissing\u001b[39m     │\n",
      "│ 10  │ \u001b[90mmissing\u001b[39m            │ \u001b[90mmissing\u001b[39m         │ \u001b[90mmissing\u001b[39m         │ \u001b[90mmissing\u001b[39m     │\n",
      "⋮\n",
      "│ 340 │ \u001b[90mmissing\u001b[39m            │ \u001b[90mmissing\u001b[39m         │ \u001b[90mmissing\u001b[39m         │ \u001b[90mmissing\u001b[39m     │\n",
      "│ 341 │ \u001b[90mmissing\u001b[39m            │ \u001b[90mmissing\u001b[39m         │ \u001b[90mmissing\u001b[39m         │ \u001b[90mmissing\u001b[39m     │\n",
      "│ 342 │ \u001b[90mmissing\u001b[39m            │ \u001b[90mmissing\u001b[39m         │ \u001b[90mmissing\u001b[39m         │ \u001b[90mmissing\u001b[39m     │\n",
      "│ 343 │ \u001b[90mmissing\u001b[39m            │ \u001b[90mmissing\u001b[39m         │ \u001b[90mmissing\u001b[39m         │ \u001b[90mmissing\u001b[39m     │\n",
      "│ 344 │ \u001b[90mmissing\u001b[39m            │ \u001b[90mmissing\u001b[39m         │ \u001b[90mmissing\u001b[39m         │ \u001b[90mmissing\u001b[39m     │\n",
      "│ 345 │ \u001b[90mmissing\u001b[39m            │ \u001b[90mmissing\u001b[39m         │ \u001b[90mmissing\u001b[39m         │ \u001b[90mmissing\u001b[39m     │\n",
      "│ 346 │ \u001b[90mmissing\u001b[39m            │ \u001b[90mmissing\u001b[39m         │ \u001b[90mmissing\u001b[39m         │ \u001b[90mmissing\u001b[39m     │\n",
      "│ 347 │ \u001b[90mmissing\u001b[39m            │ \u001b[90mmissing\u001b[39m         │ \u001b[90mmissing\u001b[39m         │ \u001b[90mmissing\u001b[39m     │\n",
      "│ 348 │ \u001b[90mmissing\u001b[39m            │ \u001b[90mmissing\u001b[39m         │ \u001b[90mmissing\u001b[39m         │ \u001b[90mmissing\u001b[39m     │\n",
      "│ 349 │ \u001b[90mmissing\u001b[39m            │ \u001b[90mmissing\u001b[39m         │ \u001b[90mmissing\u001b[39m         │ \u001b[90mmissing\u001b[39m     │\n",
      "│ 350 │ \u001b[90mmissing\u001b[39m            │ \u001b[90mmissing\u001b[39m         │ \u001b[90mmissing\u001b[39m         │ \u001b[90mmissing\u001b[39m     │\n",
      "\n",
      "│ Row │ X-Zero (pu) │ Grounding Z units │ Grounding R │ Grounding X │\n",
      "│     │ \u001b[90mAny\u001b[39m         │ \u001b[90mString\u001b[39m            │ \u001b[90mAny\u001b[39m         │ \u001b[90mAny\u001b[39m         │\n",
      "├─────┼─────────────┼───────────────────┼─────────────┼─────────────┤\n",
      "│ 1   │ \u001b[90mmissing\u001b[39m     │ P.U. (Per Unit)   │ \u001b[90mmissing\u001b[39m     │ \u001b[90mmissing\u001b[39m     │\n",
      "│ 2   │ \u001b[90mmissing\u001b[39m     │ P.U. (Per Unit)   │ \u001b[90mmissing\u001b[39m     │ \u001b[90mmissing\u001b[39m     │\n",
      "│ 3   │ \u001b[90mmissing\u001b[39m     │ P.U. (Per Unit)   │ \u001b[90mmissing\u001b[39m     │ \u001b[90mmissing\u001b[39m     │\n",
      "│ 4   │ \u001b[90mmissing\u001b[39m     │ P.U. (Per Unit)   │ \u001b[90mmissing\u001b[39m     │ \u001b[90mmissing\u001b[39m     │\n",
      "│ 5   │ \u001b[90mmissing\u001b[39m     │ P.U. (Per Unit)   │ \u001b[90mmissing\u001b[39m     │ \u001b[90mmissing\u001b[39m     │\n",
      "│ 6   │ \u001b[90mmissing\u001b[39m     │ P.U. (Per Unit)   │ \u001b[90mmissing\u001b[39m     │ \u001b[90mmissing\u001b[39m     │\n",
      "│ 7   │ \u001b[90mmissing\u001b[39m     │ P.U. (Per Unit)   │ \u001b[90mmissing\u001b[39m     │ \u001b[90mmissing\u001b[39m     │\n",
      "│ 8   │ \u001b[90mmissing\u001b[39m     │ P.U. (Per Unit)   │ \u001b[90mmissing\u001b[39m     │ \u001b[90mmissing\u001b[39m     │\n",
      "│ 9   │ \u001b[90mmissing\u001b[39m     │ P.U. (Per Unit)   │ \u001b[90mmissing\u001b[39m     │ \u001b[90mmissing\u001b[39m     │\n",
      "│ 10  │ \u001b[90mmissing\u001b[39m     │ P.U. (Per Unit)   │ \u001b[90mmissing\u001b[39m     │ \u001b[90mmissing\u001b[39m     │\n",
      "⋮\n",
      "│ 340 │ \u001b[90mmissing\u001b[39m     │ P.U. (Per Unit)   │ \u001b[90mmissing\u001b[39m     │ \u001b[90mmissing\u001b[39m     │\n",
      "│ 341 │ \u001b[90mmissing\u001b[39m     │ P.U. (Per Unit)   │ \u001b[90mmissing\u001b[39m     │ \u001b[90mmissing\u001b[39m     │\n",
      "│ 342 │ \u001b[90mmissing\u001b[39m     │ P.U. (Per Unit)   │ \u001b[90mmissing\u001b[39m     │ \u001b[90mmissing\u001b[39m     │\n",
      "│ 343 │ \u001b[90mmissing\u001b[39m     │ P.U. (Per Unit)   │ \u001b[90mmissing\u001b[39m     │ \u001b[90mmissing\u001b[39m     │\n",
      "│ 344 │ \u001b[90mmissing\u001b[39m     │ P.U. (Per Unit)   │ \u001b[90mmissing\u001b[39m     │ \u001b[90mmissing\u001b[39m     │\n",
      "│ 345 │ \u001b[90mmissing\u001b[39m     │ P.U. (Per Unit)   │ \u001b[90mmissing\u001b[39m     │ \u001b[90mmissing\u001b[39m     │\n",
      "│ 346 │ \u001b[90mmissing\u001b[39m     │ P.U. (Per Unit)   │ \u001b[90mmissing\u001b[39m     │ \u001b[90mmissing\u001b[39m     │\n"
     ]
    },
    {
     "name": "stdout",
     "output_type": "stream",
     "text": [
      "│ 347 │ \u001b[90mmissing\u001b[39m     │ P.U. (Per Unit)   │ \u001b[90mmissing\u001b[39m     │ \u001b[90mmissing\u001b[39m     │\n",
      "│ 348 │ \u001b[90mmissing\u001b[39m     │ P.U. (Per Unit)   │ \u001b[90mmissing\u001b[39m     │ \u001b[90mmissing\u001b[39m     │\n",
      "│ 349 │ \u001b[90mmissing\u001b[39m     │ P.U. (Per Unit)   │ \u001b[90mmissing\u001b[39m     │ \u001b[90mmissing\u001b[39m     │\n",
      "│ 350 │ \u001b[90mmissing\u001b[39m     │ P.U. (Per Unit)   │ \u001b[90mmissing\u001b[39m     │ \u001b[90mmissing\u001b[39m     │\n",
      "\n",
      "│ Row │ Reference Angle (deg) │ Machine Control Mode │\n",
      "│     │ \u001b[90mAny\u001b[39m                   │ \u001b[90mString\u001b[39m               │\n",
      "├─────┼───────────────────────┼──────────────────────┤\n",
      "│ 1   │ \u001b[90mmissing\u001b[39m               │ Conventional Machine │\n",
      "│ 2   │ \u001b[90mmissing\u001b[39m               │ Conventional Machine │\n",
      "│ 3   │ \u001b[90mmissing\u001b[39m               │ Conventional Machine │\n",
      "│ 4   │ \u001b[90mmissing\u001b[39m               │ Conventional Machine │\n",
      "│ 5   │ \u001b[90mmissing\u001b[39m               │ Conventional Machine │\n",
      "│ 6   │ \u001b[90mmissing\u001b[39m               │ Conventional Machine │\n",
      "│ 7   │ \u001b[90mmissing\u001b[39m               │ Conventional Machine │\n",
      "│ 8   │ \u001b[90mmissing\u001b[39m               │ Conventional Machine │\n",
      "│ 9   │ \u001b[90mmissing\u001b[39m               │ Conventional Machine │\n",
      "│ 10  │ \u001b[90mmissing\u001b[39m               │ Conventional Machine │\n",
      "⋮\n",
      "│ 340 │ \u001b[90mmissing\u001b[39m               │ Conventional Machine │\n",
      "│ 341 │ \u001b[90mmissing\u001b[39m               │ Conventional Machine │\n",
      "│ 342 │ \u001b[90mmissing\u001b[39m               │ Conventional Machine │\n",
      "│ 343 │ \u001b[90mmissing\u001b[39m               │ Conventional Machine │\n",
      "│ 344 │ \u001b[90mmissing\u001b[39m               │ Conventional Machine │\n",
      "│ 345 │ \u001b[90mmissing\u001b[39m               │ Conventional Machine │\n",
      "│ 346 │ \u001b[90mmissing\u001b[39m               │ Conventional Machine │\n",
      "│ 347 │ \u001b[90mmissing\u001b[39m               │ Conventional Machine │\n",
      "│ 348 │ \u001b[90mmissing\u001b[39m               │ Conventional Machine │\n",
      "│ 349 │ \u001b[90mmissing\u001b[39m               │ Conventional Machine │\n",
      "│ 350 │ \u001b[90mmissing\u001b[39m               │ Conventional Machine │\n",
      "\n",
      "│ Row │ Renewable Machine Power factor │\n",
      "│     │ \u001b[90mInt64\u001b[39m                          │\n",
      "├─────┼────────────────────────────────┤\n",
      "│ 1   │ 1                              │\n",
      "│ 2   │ 1                              │\n",
      "│ 3   │ 1                              │\n",
      "│ 4   │ 1                              │\n",
      "│ 5   │ 1                              │\n",
      "│ 6   │ 1                              │\n",
      "│ 7   │ 1                              │\n",
      "│ 8   │ 1                              │\n",
      "│ 9   │ 1                              │\n",
      "│ 10  │ 1                              │\n",
      "⋮\n",
      "│ 340 │ 1                              │\n",
      "│ 341 │ 1                              │\n",
      "│ 342 │ 1                              │\n",
      "│ 343 │ 1                              │\n",
      "│ 344 │ 1                              │\n",
      "│ 345 │ 1                              │\n",
      "│ 346 │ 1                              │\n",
      "│ 347 │ 1                              │\n",
      "│ 348 │ 1                              │\n",
      "│ 349 │ 1                              │\n",
      "│ 350 │ 1                              │"
     ]
    }
   ],
   "source": [
    "show(Machine_Wind, allcols = true)"
   ]
  },
  {
   "attachments": {
    "image.png": {
     "image/png": "[encoded data removed]"
    }
   },
   "cell_type": "markdown",
   "metadata": {},
   "source": [
    "![image.png](attachment:image.png)"
   ]
  },
  {
   "cell_type": "code",
   "execution_count": 5,
   "metadata": {},
   "outputs": [
    {
     "data": {
      "text/plain": [
       "3919.9430000000025"
      ]
     },
     "execution_count": 5,
     "metadata": {},
     "output_type": "execute_result"
    }
   ],
   "source": [
    "Wind_IE = filter(s->occursin(r\"IE\",s),Owner.Owner_Name);\n",
    "Machine_Wind_IE = Machine_Wind[findall( in(Wind_IE), Machine_Wind.Owner_1),:];\n",
    "sum(Machine_Wind_IE.Pmax_MW)"
   ]
  },
  {
   "attachments": {
    "image.png": {
     "image/png": "[encoded data removed]"
    }
   },
   "cell_type": "markdown",
   "metadata": {},
   "source": [
    "![image.png](attachment:image.png)"
   ]
  },
  {
   "cell_type": "code",
   "execution_count": 6,
   "metadata": {},
   "outputs": [
    {
     "data": {
      "text/plain": [
       "1132.9799999999996"
      ]
     },
     "execution_count": 6,
     "metadata": {},
     "output_type": "execute_result"
    }
   ],
   "source": [
    "Wind_NI = filter(s->occursin(r\"NI\",s),Owner.Owner_Name);\n",
    "Machine_Wind_NI = Machine_Wind[findall( in(Wind_NI), Machine_Wind.Owner_1),:];\n",
    "sum(Machine_Wind_NI.Pmax_MW)"
   ]
  },
  {
   "cell_type": "markdown",
   "metadata": {},
   "source": [
    "There is 100MW's of missing wind in the PSSE file?"
   ]
  },
  {
   "cell_type": "code",
   "execution_count": 7,
   "metadata": {},
   "outputs": [],
   "source": [
    "NonWIND = deepcopy(Owner.Owner_Name)\n",
    "filter!(e->e∉WIND,NonWIND);"
   ]
  },
  {
   "cell_type": "code",
   "execution_count": 8,
   "metadata": {},
   "outputs": [
    {
     "name": "stdout",
     "output_type": "stream",
     "text": [
      "[\"IE_URBAN\", \"IE_COMMUTING\", \"IE_RURAL\", \"Unknown-4\", \"Unknown-5\", \"IE_IND\", \"IE_DATA\", \"IE_COAL\", \"IE_GAS\", \"IE_OIL\", \"IE_DISTIL\", \"IE_PEAT\", \"IE_HYDRO\", \"IE_STORE\", \"IE_BIO_CHP\", \"IE_OFFSH\", \"IE_PV\", \"IE_REACT_COM\", \"IE_OCEAN\", \"NI_URBAN\", \"NI_COMMUTING\", \"NI_RURAL\", \"NI_GAS\", \"NI_OIL\", \"NI_BIO_CHP\", \"NI_PV\", \"NI_REACT_COM\", \"INTER\", \"Unknown-77\"]"
     ]
    }
   ],
   "source": [
    "show(NonWIND)"
   ]
  },
  {
   "cell_type": "code",
   "execution_count": 9,
   "metadata": {},
   "outputs": [],
   "source": [
    "PV = filter(s->occursin(r\"PV\" ,s),Owner.Owner_Name);\n",
    "HYDRO = filter(s->occursin(r\"HYDRO\" ,s),Owner.Owner_Name);\n",
    "REACT_COM = filter(s->occursin(r\"REACT_COM\" ,s),Owner.Owner_Name);\n",
    "BIO_CHP = filter(s->occursin(r\"BIO_CHP\" ,s),Owner.Owner_Name);\n",
    "OCEAN = filter(s->occursin(r\"OCEAN\" ,s),Owner.Owner_Name);\n",
    "STORE = filter(s->occursin(r\"STORE\" ,s),Owner.Owner_Name);\n",
    "INTER = filter(s->occursin(r\"INTER\" ,s),Owner.Owner_Name);\n",
    "RENEW = vcat(PV,HYDRO,BIO_CHP,OCEAN);\n",
    "Non_Fossil = vcat(WIND,RENEW,STORE,INTER,REACT_COM);"
   ]
  },
  {
   "cell_type": "code",
   "execution_count": 10,
   "metadata": {},
   "outputs": [
    {
     "data": {
      "text/plain": [
       "19-element Array{String,1}:\n",
       " \"IE_URBAN\"    \n",
       " \"IE_COMMUTING\"\n",
       " \"IE_RURAL\"    \n",
       " \"Unknown-4\"   \n",
       " \"Unknown-5\"   \n",
       " \"IE_IND\"      \n",
       " \"IE_DATA\"     \n",
       " \"IE_COAL\"     \n",
       " \"IE_GAS\"      \n",
       " \"IE_OIL\"      \n",
       " \"IE_DISTIL\"   \n",
       " \"IE_PEAT\"     \n",
       " \"IE_OFFSH\"    \n",
       " \"NI_URBAN\"    \n",
       " \"NI_COMMUTING\"\n",
       " \"NI_RURAL\"    \n",
       " \"NI_GAS\"      \n",
       " \"NI_OIL\"      \n",
       " \"Unknown-77\"  "
      ]
     },
     "execution_count": 10,
     "metadata": {},
     "output_type": "execute_result"
    }
   ],
   "source": [
    "Fossil = deepcopy(Owner.Owner_Name)\n",
    "filter!(e->e∉Non_Fossil, Fossil)"
   ]
  },
  {
   "cell_type": "code",
   "execution_count": 11,
   "metadata": {},
   "outputs": [
    {
     "data": {
      "text/plain": [
       "57-element Array{Any,1}:\n",
       " \"IE_GAS\"   \n",
       " \"IE_GAS\"   \n",
       " \"IE_GAS\"   \n",
       " \"IE_GAS\"   \n",
       " \"IE_GAS\"   \n",
       " \"IE_COAL\"  \n",
       " \"IE_COAL\"  \n",
       " \"IE_COAL\"  \n",
       " \"IE_GAS\"   \n",
       " \"IE_GAS\"   \n",
       " \"NI_GAS\"   \n",
       " \"IE_OIL\"   \n",
       " \"IE_OIL\"   \n",
       " ⋮          \n",
       " \"IE_DISTIL\"\n",
       " \"IE_DISTIL\"\n",
       " \"NI_OIL\"   \n",
       " \"NI_OIL\"   \n",
       " \"NI_OIL\"   \n",
       " \"NI_OIL\"   \n",
       " \"IE_GAS\"   \n",
       " \"IE_GAS\"   \n",
       " \"IE_GAS\"   \n",
       " \"IE_RURAL\" \n",
       " \"IE_GAS\"   \n",
       " \"IE_GAS\"   "
      ]
     },
     "execution_count": 11,
     "metadata": {},
     "output_type": "execute_result"
    }
   ],
   "source": [
    "Machine_Fossil = deepcopy(Machine.Owner_1)\n",
    "filter!(e->e ∈ Fossil, Machine_Fossil)"
   ]
  },
  {
   "attachments": {
    "image.png": {
     "image/png": "[encoded data removed]"
    }
   },
   "cell_type": "markdown",
   "metadata": {},
   "source": [
    "![image.png](attachment:image.png)"
   ]
  },
  {
   "cell_type": "code",
   "execution_count": 12,
   "metadata": {},
   "outputs": [
    {
     "data": {
      "text/plain": [
       "8191.471000000002"
      ]
     },
     "execution_count": 12,
     "metadata": {},
     "output_type": "execute_result"
    }
   ],
   "source": [
    "Machine_Fossil = Machine[findall( in(Fossil), Machine.Owner_1),:]\n",
    "sum(Machine_Fossil.Pmax_MW)"
   ]
  },
  {
   "cell_type": "code",
   "execution_count": 16,
   "metadata": {},
   "outputs": [
    {
     "name": "stdout",
     "output_type": "stream",
     "text": [
      "57×9 DataFrame\n",
      "│ Row │ Bus   │ Bus_Name           │ Pgen_MW │ Pmax_MW │ Pmin_MW │ Qgen_Mvar │\n",
      "│     │ \u001b[90mInt64\u001b[39m │ \u001b[90mString\u001b[39m             │ \u001b[90mAny\u001b[39m     │ \u001b[90mAny\u001b[39m     │ \u001b[90mAny\u001b[39m     │ \u001b[90mAny\u001b[39m       │\n",
      "├─────┼───────┼────────────────────┼─────────┼─────────┼─────────┼───────────┤\n",
      "│ 1   │ 27474 │ ENDESA      21.000 │ 403     │ 462.5   │ 235     │ 94.233    │\n",
      "│ 2   │ 28571 │ WHITEGATE   19.000 │ 396     │ 445.393 │ 110.1   │ 4.149     │\n",
      "│ 3   │ 10470 │ AGH_CCGT    21.000 │ 0       │ 431.051 │ 222     │ -1.53     │\n",
      "│ 4   │ 31271 │ DUBLIN_BAY_P21.000 │ 394     │ 403.9   │ 163     │ 295       │\n",
      "│ 5   │ 29673 │ HUNTSTOWN   20.000 │ 400     │ 400     │ 194     │ 86.458    │\n",
      "│ 6   │ 39472 │ MNYPG2-P    17.000 │ 220     │ 290.249 │ 60      │ 109.348   │\n",
      "│ 7   │ 39471 │ MNYPG1      17.000 │ 217     │ 287     │ 60      │ -0.014    │\n",
      "│ 8   │ 39473 │ MNYPG3      17.000 │ 220     │ 287     │ 60      │ -0.014    │\n",
      "│ 9   │ 51771 │ TYNAGH      15.750 │ 0       │ 262     │ 155     │ 26.933    │\n",
      "│ 10  │ 10471 │ AGH_G1      20.000 │ 0       │ 259     │ 40      │ 24.049    │\n",
      "⋮\n",
      "│ 47  │ 22672 │ DERRYIRON_G210.500 │ 0       │ 52.1    │ 1.2     │ -0.131    │\n",
      "│ 48  │ 82003 │ GEN_KILR    11.500 │ 0       │ 42      │ 14      │ -2        │\n",
      "│ 49  │ 82004 │ GEN_KILR    11.500 │ 0       │ 42      │ 14      │ -2        │\n",
      "│ 50  │ 82011 │ KILR_AU1    11.000 │ 0       │ 28      │ 5       │ 0         │\n",
      "│ 51  │ 82012 │ KILR_AU2    11.000 │ 0       │ 28      │ 5       │ 0         │\n",
      "│ 52  │ 42404 │ NORTH_WALL  38.000 │ 0       │ 15      │ 6       │ 0         │\n",
      "│ 53  │ 42404 │ NORTH_WALL  38.000 │ 0       │ 15      │ 6       │ 0         │\n",
      "│ 54  │ 42404 │ NORTH_WALL  38.000 │ 0       │ 15      │ 6       │ 0         │\n",
      "│ 55  │ 49992 │ CORVIN      0.4000 │ 0.63    │ 2.1     │ 0       │ -0.166    │\n",
      "│ 56  │ 44071 │ HUNTSTOWN AD0.4000 │ 0.6     │ 2       │ 0       │ -0.4      │\n",
      "│ 57  │ 44072 │ HUNTSTOWN AD0.4000 │ 0.6     │ 2       │ 0       │ -0.4      │\n",
      "\n",
      "│ Row │ Qmax_Mvar │ Qmin_Mvar │ Owner_1   │\n",
      "│     │ \u001b[90mAny\u001b[39m       │ \u001b[90mAny\u001b[39m       │ \u001b[90mAny\u001b[39m       │\n",
      "├─────┼───────────┼───────────┼───────────┤\n",
      "│ 1   │ 285       │ -182      │ IE_GAS    │\n",
      "│ 2   │ 282.1     │ -190      │ IE_GAS    │\n",
      "│ 3   │ 270       │ -170      │ IE_GAS    │\n",
      "│ 4   │ 295       │ -100      │ IE_GAS    │\n",
      "│ 5   │ 255       │ -170      │ IE_GAS    │\n",
      "│ 6   │ 176       │ -112      │ IE_COAL   │\n",
      "│ 7   │ 176       │ -112      │ IE_COAL   │\n",
      "│ 8   │ 176       │ -112      │ IE_COAL   │\n",
      "│ 9   │ 143       │ -91       │ IE_GAS    │\n",
      "│ 10  │ 159       │ -75       │ IE_GAS    │\n",
      "⋮\n",
      "│ 47  │ 32.6      │ -22.7     │ IE_DISTIL │\n",
      "│ 48  │ 27        │ -2        │ NI_OIL    │\n",
      "│ 49  │ 27        │ -2        │ NI_OIL    │\n",
      "│ 50  │ 21.75     │ -3.2      │ NI_OIL    │\n",
      "│ 51  │ 21.75     │ -3.2      │ NI_OIL    │\n",
      "│ 52  │ 5         │ 0         │ IE_GAS    │\n",
      "│ 53  │ 5         │ 0         │ IE_GAS    │\n",
      "│ 54  │ 5         │ 0         │ IE_GAS    │\n",
      "│ 55  │ -0.166    │ -0.166    │ IE_RURAL  │\n",
      "│ 56  │ -0.4      │ -0.4      │ IE_GAS    │\n",
      "│ 57  │ -0.4      │ -0.4      │ IE_GAS    │"
     ]
    }
   ],
   "source": [
    "Fossil_Gen = Machine_Fossil[!, [:Bus, :Bus_Name, :Pgen_MW, :Pmax_MW, :Pmin_MW, :Qgen_Mvar, :Qmax_Mvar, :Qmin_Mvar,:Owner_1]]\n",
    "show(Fossil_Gen, allcols = true)"
   ]
  },
  {
   "cell_type": "code",
   "execution_count": 9,
   "metadata": {},
   "outputs": [],
   "source": [
    "Machine_Wind[!,[:Bus, :Bus_Name, :Pmax_MW, :Pmin_MW, :Qgen_Mvar, :Qmax_Mvar, :Qmin_Mvar, \n",
    "        :Area_Num, :Area_Name ,:Zone_Num, :Zone_Name]];"
   ]
  },
  {
   "cell_type": "code",
   "execution_count": 10,
   "metadata": {},
   "outputs": [
    {
     "name": "stdout",
     "output_type": "stream",
     "text": [
      "350×47 DataFrame\n",
      "│ Row │ Bus   │ Bus_Name           │ Id  │ Term Node Num   │ Term Node Name   │\n",
      "│     │ \u001b[90mInt64\u001b[39m │ \u001b[90mString\u001b[39m             │ \u001b[90mAny\u001b[39m │ \u001b[90mAny\u001b[39m             │ \u001b[90mAny\u001b[39m              │\n",
      "├─────┼───────┼────────────────────┼─────┼─────────────────┼──────────────────┤\n",
      "│ 1   │ 67058 │ SEECON_PH1  0.6900 │ 1   │ \u001b[90mmissing\u001b[39m         │ \u001b[90mmissing\u001b[39m          │\n",
      "│ 2   │ 33971 │ KNOCKACU    0.6600 │ TW  │ \u001b[90mmissing\u001b[39m         │ \u001b[90mmissing\u001b[39m          │\n",
      "│ 3   │ 68272 │ CORDAL_PH2  38.000 │ 1   │ \u001b[90mmissing\u001b[39m         │ \u001b[90mmissing\u001b[39m          │\n",
      "│ 4   │ 67066 │ MOUNTLUC_PH10.6900 │ 1   │ \u001b[90mmissing\u001b[39m         │ \u001b[90mmissing\u001b[39m          │\n",
      "│ 5   │ 40971 │ MULREAVY    0.6900 │ 1   │ \u001b[90mmissing\u001b[39m         │ \u001b[90mmissing\u001b[39m          │\n",
      "│ 6   │ 68092 │ UGOOL_PH1   0.6900 │ 1   │ \u001b[90mmissing\u001b[39m         │ \u001b[90mmissing\u001b[39m          │\n",
      "│ 7   │ 22371 │ DERRYBRIEN  0.6900 │ 1   │ \u001b[90mmissing\u001b[39m         │ \u001b[90mmissing\u001b[39m          │\n",
      "│ 8   │ 67094 │ SLIABH_BAWN 20.000 │ 1   │ \u001b[90mmissing\u001b[39m         │ \u001b[90mmissing\u001b[39m          │\n",
      "│ 9   │ 15574 │ BOGGERAG    1.0000 │ 1   │ \u001b[90mmissing\u001b[39m         │ \u001b[90mmissing\u001b[39m          │\n",
      "│ 10  │ 44871 │ DOORAY      0.6900 │ 1   │ \u001b[90mmissing\u001b[39m         │ \u001b[90mmissing\u001b[39m          │\n",
      "⋮\n",
      "│ 340 │ 13471 │ BURTONPORT  0.6900 │ 1   │ \u001b[90mmissing\u001b[39m         │ \u001b[90mmissing\u001b[39m          │\n",
      "│ 341 │ 49977 │ GLACKMORE_HI0.6900 │ 1   │ \u001b[90mmissing\u001b[39m         │ \u001b[90mmissing\u001b[39m          │\n",
      "│ 342 │ 49980 │ GLACKMORE_HI0.4000 │ 1   │ \u001b[90mmissing\u001b[39m         │ \u001b[90mmissing\u001b[39m          │\n",
      "│ 343 │ 68323 │ BALLYDUF_PH10.6900 │ 1   │ \u001b[90mmissing\u001b[39m         │ \u001b[90mmissing\u001b[39m          │\n",
      "│ 344 │ 21071 │ DUNDALK     0.6900 │ 2   │ \u001b[90mmissing\u001b[39m         │ \u001b[90mmissing\u001b[39m          │\n",
      "│ 345 │ 68223 │ ANARGET_PH3 0.4000 │ 1   │ \u001b[90mmissing\u001b[39m         │ \u001b[90mmissing\u001b[39m          │\n",
      "│ 346 │ 49979 │ GLACKMORE_HI0.6900 │ 3   │ \u001b[90mmissing\u001b[39m         │ \u001b[90mmissing\u001b[39m          │\n",
      "│ 347 │ 16379 │ MONEENATIEVE0.6900 │ 2   │ \u001b[90mmissing\u001b[39m         │ \u001b[90mmissing\u001b[39m          │\n",
      "│ 348 │ 68325 │ BALLYSHANNON0.6900 │ 1   │ \u001b[90mmissing\u001b[39m         │ \u001b[90mmissing\u001b[39m          │\n",
      "│ 349 │ 17077 │ ANARGET     0.4000 │ 8   │ \u001b[90mmissing\u001b[39m         │ \u001b[90mmissing\u001b[39m          │\n",
      "│ 350 │ 77293 │ WIND_PT     33.000 │ PT  │ \u001b[90mmissing\u001b[39m         │ \u001b[90mmissing\u001b[39m          │\n",
      "\n",
      "│ Row │ Area_Num │ Area_Name  │ Zone_Num │ Zone_Name  │ Code  │ VSched(pu) │\n",
      "│     │ \u001b[90mInt64\u001b[39m    │ \u001b[90mString\u001b[39m     │ \u001b[90mInt64\u001b[39m    │ \u001b[90mString\u001b[39m     │ \u001b[90mInt64\u001b[39m │ \u001b[90mAny\u001b[39m        │\n",
      "├─────┼──────────┼────────────┼──────────┼────────────┼───────┼────────────┤\n",
      "│ 1   │ 9        │ NW         │ 2        │ IE AREA B  │ 2     │ 1.05       │\n",
      "│ 2   │ 7        │ LIMERICK   │ 5        │ IE AREA E  │ 2     │ 1.05       │\n",
      "│ 3   │ 3        │ CORK KERRY │ 5        │ IE AREA E  │ 2     │ 1.05       │\n",
      "│ 4   │ 8        │ KILDARE    │ 11       │ IE AREA J  │ 2     │ 1.05       │\n",
      "│ 5   │ 9        │ NW         │ 1        │ IE AREA A  │ 2     │ 1.05       │\n",
      "│ 6   │ 9        │ NW         │ 2        │ IE AREA B  │ 2     │ 1.05       │\n",
      "│ 7   │ 4        │ CLARE      │ 4        │ IE AREA D  │ 2     │ 1.05       │\n",
      "│ 8   │ 9        │ NW         │ 3        │ IE AREA C  │ 2     │ 1.05       │\n",
      "│ 9   │ 3        │ CORK KERRY │ 5        │ IE AREA E  │ 2     │ 1.05       │\n",
      "│ 10  │ 5        │ CAHIR NETW │ 11       │ IE AREA J  │ 2     │ 1.05       │\n",
      "⋮\n",
      "│ 340 │ 9        │ NW         │ 1        │ IE AREA A  │ 2     │ 1.05       │\n",
      "│ 341 │ 9        │ NW         │ 1        │ IE AREA A  │ 2     │ 1.02       │\n",
      "│ 342 │ 9        │ NW         │ 1        │ IE AREA A  │ 2     │ 1.02       │\n",
      "│ 343 │ 6        │ SE         │ 9        │ IE AREA H2 │ 2     │ 1.05       │\n",
      "│ 344 │ 10       │ NE         │ 7        │ IE AREA G  │ 2     │ 1.05       │\n",
      "│ 345 │ 9        │ NW         │ 1        │ IE AREA A  │ 2     │ 1.05       │\n",
      "│ 346 │ 9        │ NW         │ 1        │ IE AREA A  │ 2     │ 1.02       │\n",
      "│ 347 │ 9        │ NW         │ 1        │ IE AREA A  │ 2     │ 1          │\n",
      "│ 348 │ 6        │ SE         │ 9        │ IE AREA H2 │ 2     │ 1          │\n",
      "│ 349 │ 9        │ NW         │ 1        │ IE AREA A  │ 2     │ 1.05       │\n",
      "│ 350 │ 20       │ N IRELAND  │ 14       │ NI WEST    │ 2     │ 1          │\n",
      "\n",
      "│ Row │ Remote_Bus_Number │ In_Service │ Pgen_MW │ Pmax_MW │ Pmin_MW │\n",
      "│     │ \u001b[90mInt64\u001b[39m             │ \u001b[90mInt64\u001b[39m      │ \u001b[90mAny\u001b[39m     │ \u001b[90mAny\u001b[39m     │ \u001b[90mAny\u001b[39m     │\n",
      "├─────┼───────────────────┼────────────┼─────────┼─────────┼─────────┤\n",
      "│ 1   │ 2111              │ 1          │ 32.4    │ 108     │ 0       │\n",
      "│ 2   │ 3391              │ 1          │ 31.5    │ 105     │ 0       │\n",
      "│ 3   │ 1311              │ 1          │ 26.955  │ 89.85   │ 0       │\n",
      "│ 4   │ 2401              │ 1          │ 25.2    │ 84      │ 0       │\n",
      "│ 5   │ 4091              │ 1          │ 24.6    │ 82      │ 0       │\n",
      "│ 6   │ 2111              │ 1          │ 19.8    │ 66      │ 0       │\n",
      "│ 7   │ 2231              │ 1          │ 17.85   │ 59.5    │ 0       │\n",
      "│ 8   │ 66094             │ 1          │ 17.4    │ 58      │ 0       │\n",
      "│ 9   │ 1551              │ 1          │ 17.1    │ 57      │ 0       │\n",
      "│ 10  │ 0                 │ 1          │ 16.5    │ 55      │ 0       │\n",
      "⋮\n",
      "│ 340 │ 0                 │ 1          │ 0.198   │ 0.66    │ 0       │\n",
      "│ 341 │ 0                 │ 1          │ 0.18    │ 0.6     │ 0       │\n",
      "│ 342 │ 0                 │ 1          │ 0.18    │ 0.6     │ 0       │\n",
      "│ 343 │ 3642              │ 1          │ 0.18    │ 0.6     │ 0       │\n",
      "│ 344 │ 0                 │ 1          │ 0.15    │ 0.5     │ 0       │\n",
      "│ 345 │ 0                 │ 1          │ 0.15    │ 0.5     │ 0       │\n",
      "│ 346 │ 0                 │ 1          │ 0.09    │ 0.3     │ 0       │\n",
      "│ 347 │ 0                 │ 1          │ 0.087   │ 0.29    │ 0       │\n",
      "│ 348 │ 0                 │ 1          │ 0.15    │ 0.15    │ 0       │\n",
      "│ 349 │ 0                 │ 1          │ 0.006   │ 0.02    │ 0       │\n",
      "│ 350 │ 0                 │ 1          │ 0       │ 0       │ 0       │\n",
      "\n",
      "│ Row │ Qgen_Mvar │ Qmax_Mvar │ Qmin_Mvar │ Mbase_MVA │ R Source (pu) │\n",
      "│     │ \u001b[90mAny\u001b[39m       │ \u001b[90mAny\u001b[39m       │ \u001b[90mAny\u001b[39m       │ \u001b[90mAny\u001b[39m       │ \u001b[90mAny\u001b[39m           │\n",
      "├─────┼───────────┼───────────┼───────────┼───────────┼───────────────┤\n",
      "│ 1   │ -35.64    │ 35.64     │ -35.64    │ 119.88    │ 0             │\n",
      "│ 2   │ -34.65    │ 34.65     │ -34.65    │ 115.5     │ 0.0022        │\n",
      "│ 3   │ -33.28    │ 33.28     │ -33.28    │ 90        │ 0.0032        │\n",
      "│ 4   │ -27.72    │ 27.72     │ -27.72    │ 84        │ 0             │\n",
      "│ 5   │ -16.897   │ 27.06     │ -27.06    │ 82        │ 0.009         │\n",
      "│ 6   │ -21.78    │ 21.78     │ -21.78    │ 73.26     │ 0             │\n",
      "│ 7   │ -11.781   │ 11.781    │ -11.781   │ 60        │ 0.0073        │\n",
      "│ 8   │ -19.14    │ 19.14     │ -19.14    │ 64.57     │ 0.0032        │\n",
      "│ 9   │ -11.62    │ 18.81     │ -18.81    │ 59.38     │ 0.009         │\n",
      "│ 10  │ -3.68     │ -3.68     │ -3.68     │ 56        │ 0.0032        │\n",
      "⋮\n",
      "│ 340 │ -0.057    │ -0.057    │ -0.057    │ 0.66      │ 0.0204        │\n",
      "│ 341 │ -0.046    │ -0.046    │ -0.046    │ 0.67      │ 0.0032        │\n",
      "│ 342 │ -0.046    │ -0.046    │ -0.046    │ 2.3       │ 0.0257        │\n",
      "│ 343 │ -0.046    │ -0.046    │ -0.046    │ 0.67      │ 0.0032        │\n",
      "│ 344 │ -0.045    │ -0.045    │ -0.045    │ 0.85      │ 0.0073        │\n",
      "│ 345 │ -0.04     │ -0.04     │ -0.04     │ 0.9       │ 0.0302        │\n",
      "│ 346 │ -0.025    │ -0.025    │ -0.025    │ 0.33      │ 0.0032        │\n",
      "│ 347 │ -0.022    │ -0.022    │ -0.022    │ 0.32      │ 0.0032        │\n",
      "│ 348 │ -0.042    │ -0.042    │ -0.042    │ 0.17      │ 0             │\n",
      "│ 349 │ -0.002    │ -0.002    │ -0.002    │ 1.2       │ 0.0302        │\n",
      "│ 350 │ 0         │ 0         │ 0         │ 20.7      │ 0.0257        │\n",
      "\n",
      "│ Row │ X Source (pu) │ RTran (pu) │ XTran (pu) │ Gentap (pu) │ Owner_1   │\n",
      "│     │ \u001b[90mAny\u001b[39m           │ \u001b[90mAny\u001b[39m        │ \u001b[90mAny\u001b[39m        │ \u001b[90mAny\u001b[39m         │ \u001b[90mAny\u001b[39m       │\n",
      "├─────┼───────────────┼────────────┼────────────┼─────────────┼───────────┤\n",
      "│ 1   │ 0.6           │ 0          │ 0          │ 1           │ IE_WINDT  │\n",
      "│ 2   │ 0.4194        │ 0          │ 0          │ 1           │ IE_WINDT  │\n",
      "│ 3   │ 0.124         │ 0.00498    │ 0.06       │ 1           │ IE_WINDB  │\n",
      "│ 4   │ 0.502         │ 0          │ 0          │ 1           │ IE_WINDT  │\n",
      "│ 5   │ 0.148         │ 0          │ 0          │ 1           │ IE_WINDT  │\n",
      "│ 6   │ 0.6           │ 0          │ 0          │ 1           │ IE_WINDT  │\n",
      "│ 7   │ 0.135         │ 0          │ 0          │ 1           │ IE_WINDT  │\n",
      "│ 8   │ 0.124         │ 0.00409    │ 0.06       │ 1           │ IE_WINDT  │\n",
      "│ 9   │ 0.166         │ 0          │ 0          │ 1           │ IE_WINDT  │\n",
      "│ 10  │ 0.124         │ 0          │ 0          │ 1           │ IE_WINDD  │\n",
      "⋮\n",
      "│ 340 │ 0.3306        │ 0          │ 0          │ 1           │ IE_WINDE  │\n",
      "│ 341 │ 0.124         │ 0          │ 0          │ 1           │ IE_WINDB  │\n",
      "│ 342 │ 0.737         │ 0          │ 0          │ 1           │ IE_WINDD  │\n",
      "│ 343 │ 0.124         │ 0          │ 0          │ 1           │ IE_WINDB  │\n",
      "│ 344 │ 0.135         │ 0          │ 0          │ 1           │ IE_WINDE  │\n",
      "│ 345 │ 0.866         │ 0          │ 0          │ 1           │ IE_WINDD  │\n",
      "│ 346 │ 0.124         │ 0          │ 0          │ 1           │ IE_WINDB  │\n",
      "│ 347 │ 0.124         │ 0          │ 0          │ 1           │ IE_WINDB  │\n",
      "│ 348 │ 0.080289      │ 0          │ 0          │ 1           │ IE_WINDD  │\n",
      "│ 349 │ 0.866         │ 0          │ 0          │ 1           │ IE_WINDC  │\n",
      "│ 350 │ 0.797         │ 0          │ 0          │ 1           │ NI_WINDCL │\n",
      "\n",
      "│ Row │ Fraction 1 │ Owner 2 │ Fraction 2 │ Owner 3 │ Fraction 3 │ Owner 4 │\n",
      "│     │ \u001b[90mInt64\u001b[39m      │ \u001b[90mInt64\u001b[39m   │ \u001b[90mInt64\u001b[39m      │ \u001b[90mInt64\u001b[39m   │ \u001b[90mInt64\u001b[39m      │ \u001b[90mInt64\u001b[39m   │\n",
      "├─────┼────────────┼─────────┼────────────┼─────────┼────────────┼─────────┤\n",
      "│ 1   │ 1          │ 0       │ 1          │ 0       │ 1          │ 0       │\n",
      "│ 2   │ 1          │ 0       │ 1          │ 0       │ 1          │ 0       │\n",
      "│ 3   │ 1          │ 0       │ 1          │ 0       │ 1          │ 0       │\n",
      "│ 4   │ 1          │ 0       │ 1          │ 0       │ 1          │ 0       │\n",
      "│ 5   │ 1          │ 0       │ 1          │ 0       │ 1          │ 0       │\n",
      "│ 6   │ 1          │ 0       │ 1          │ 0       │ 1          │ 0       │\n",
      "│ 7   │ 1          │ 0       │ 1          │ 0       │ 1          │ 0       │\n",
      "│ 8   │ 1          │ 0       │ 1          │ 0       │ 1          │ 0       │\n"
     ]
    },
    {
     "name": "stdout",
     "output_type": "stream",
     "text": [
      "│ 9   │ 1          │ 0       │ 1          │ 0       │ 1          │ 0       │\n",
      "│ 10  │ 1          │ 0       │ 1          │ 0       │ 1          │ 0       │\n",
      "⋮\n",
      "│ 340 │ 1          │ 0       │ 1          │ 0       │ 1          │ 0       │\n",
      "│ 341 │ 1          │ 0       │ 1          │ 0       │ 1          │ 0       │\n",
      "│ 342 │ 1          │ 0       │ 1          │ 0       │ 1          │ 0       │\n",
      "│ 343 │ 1          │ 0       │ 1          │ 0       │ 1          │ 0       │\n",
      "│ 344 │ 1          │ 0       │ 1          │ 0       │ 1          │ 0       │\n",
      "│ 345 │ 1          │ 0       │ 1          │ 0       │ 1          │ 0       │\n",
      "│ 346 │ 1          │ 0       │ 1          │ 0       │ 1          │ 0       │\n",
      "│ 347 │ 1          │ 0       │ 1          │ 0       │ 1          │ 0       │\n",
      "│ 348 │ 1          │ 0       │ 1          │ 0       │ 1          │ 0       │\n",
      "│ 349 │ 1          │ 0       │ 1          │ 0       │ 1          │ 0       │\n",
      "│ 350 │ 1          │ 0       │ 1          │ 0       │ 1          │ 0       │\n",
      "\n",
      "│ Row │ Fraction 4 │ R (pu)  │ Subtransient X (pu) │ Transient X (pu) │\n",
      "│     │ \u001b[90mInt64\u001b[39m      │ \u001b[90mAny\u001b[39m     │ \u001b[90mAny\u001b[39m                 │ \u001b[90mAny\u001b[39m              │\n",
      "├─────┼────────────┼─────────┼─────────────────────┼──────────────────┤\n",
      "│ 1   │ 1          │ \u001b[90mmissing\u001b[39m │ \u001b[90mmissing\u001b[39m             │ \u001b[90mmissing\u001b[39m          │\n",
      "│ 2   │ 1          │ \u001b[90mmissing\u001b[39m │ \u001b[90mmissing\u001b[39m             │ \u001b[90mmissing\u001b[39m          │\n",
      "│ 3   │ 1          │ \u001b[90mmissing\u001b[39m │ \u001b[90mmissing\u001b[39m             │ \u001b[90mmissing\u001b[39m          │\n",
      "│ 4   │ 1          │ \u001b[90mmissing\u001b[39m │ \u001b[90mmissing\u001b[39m             │ \u001b[90mmissing\u001b[39m          │\n",
      "│ 5   │ 1          │ \u001b[90mmissing\u001b[39m │ \u001b[90mmissing\u001b[39m             │ \u001b[90mmissing\u001b[39m          │\n",
      "│ 6   │ 1          │ \u001b[90mmissing\u001b[39m │ \u001b[90mmissing\u001b[39m             │ \u001b[90mmissing\u001b[39m          │\n",
      "│ 7   │ 1          │ \u001b[90mmissing\u001b[39m │ \u001b[90mmissing\u001b[39m             │ \u001b[90mmissing\u001b[39m          │\n",
      "│ 8   │ 1          │ \u001b[90mmissing\u001b[39m │ \u001b[90mmissing\u001b[39m             │ \u001b[90mmissing\u001b[39m          │\n",
      "│ 9   │ 1          │ \u001b[90mmissing\u001b[39m │ \u001b[90mmissing\u001b[39m             │ \u001b[90mmissing\u001b[39m          │\n",
      "│ 10  │ 1          │ \u001b[90mmissing\u001b[39m │ \u001b[90mmissing\u001b[39m             │ \u001b[90mmissing\u001b[39m          │\n",
      "⋮\n",
      "│ 340 │ 1          │ \u001b[90mmissing\u001b[39m │ \u001b[90mmissing\u001b[39m             │ \u001b[90mmissing\u001b[39m          │\n",
      "│ 341 │ 1          │ \u001b[90mmissing\u001b[39m │ \u001b[90mmissing\u001b[39m             │ \u001b[90mmissing\u001b[39m          │\n",
      "│ 342 │ 1          │ \u001b[90mmissing\u001b[39m │ \u001b[90mmissing\u001b[39m             │ \u001b[90mmissing\u001b[39m          │\n",
      "│ 343 │ 1          │ \u001b[90mmissing\u001b[39m │ \u001b[90mmissing\u001b[39m             │ \u001b[90mmissing\u001b[39m          │\n",
      "│ 344 │ 1          │ \u001b[90mmissing\u001b[39m │ \u001b[90mmissing\u001b[39m             │ \u001b[90mmissing\u001b[39m          │\n",
      "│ 345 │ 1          │ \u001b[90mmissing\u001b[39m │ \u001b[90mmissing\u001b[39m             │ \u001b[90mmissing\u001b[39m          │\n",
      "│ 346 │ 1          │ \u001b[90mmissing\u001b[39m │ \u001b[90mmissing\u001b[39m             │ \u001b[90mmissing\u001b[39m          │\n",
      "│ 347 │ 1          │ \u001b[90mmissing\u001b[39m │ \u001b[90mmissing\u001b[39m             │ \u001b[90mmissing\u001b[39m          │\n",
      "│ 348 │ 1          │ \u001b[90mmissing\u001b[39m │ \u001b[90mmissing\u001b[39m             │ \u001b[90mmissing\u001b[39m          │\n",
      "│ 349 │ 1          │ \u001b[90mmissing\u001b[39m │ \u001b[90mmissing\u001b[39m             │ \u001b[90mmissing\u001b[39m          │\n",
      "│ 350 │ 1          │ \u001b[90mmissing\u001b[39m │ \u001b[90mmissing\u001b[39m             │ \u001b[90mmissing\u001b[39m          │\n",
      "\n",
      "│ Row │ Synchronous X (pu) │ R-Negative (pu) │ X-Negative (pu) │ R-Zero (pu) │\n",
      "│     │ \u001b[90mAny\u001b[39m                │ \u001b[90mAny\u001b[39m             │ \u001b[90mAny\u001b[39m             │ \u001b[90mAny\u001b[39m         │\n",
      "├─────┼────────────────────┼─────────────────┼─────────────────┼─────────────┤\n",
      "│ 1   │ \u001b[90mmissing\u001b[39m            │ \u001b[90mmissing\u001b[39m         │ \u001b[90mmissing\u001b[39m         │ \u001b[90mmissing\u001b[39m     │\n",
      "│ 2   │ \u001b[90mmissing\u001b[39m            │ \u001b[90mmissing\u001b[39m         │ \u001b[90mmissing\u001b[39m         │ \u001b[90mmissing\u001b[39m     │\n",
      "│ 3   │ \u001b[90mmissing\u001b[39m            │ \u001b[90mmissing\u001b[39m         │ \u001b[90mmissing\u001b[39m         │ \u001b[90mmissing\u001b[39m     │\n",
      "│ 4   │ \u001b[90mmissing\u001b[39m            │ \u001b[90mmissing\u001b[39m         │ \u001b[90mmissing\u001b[39m         │ \u001b[90mmissing\u001b[39m     │\n",
      "│ 5   │ \u001b[90mmissing\u001b[39m            │ \u001b[90mmissing\u001b[39m         │ \u001b[90mmissing\u001b[39m         │ \u001b[90mmissing\u001b[39m     │\n",
      "│ 6   │ \u001b[90mmissing\u001b[39m            │ \u001b[90mmissing\u001b[39m         │ \u001b[90mmissing\u001b[39m         │ \u001b[90mmissing\u001b[39m     │\n",
      "│ 7   │ \u001b[90mmissing\u001b[39m            │ \u001b[90mmissing\u001b[39m         │ \u001b[90mmissing\u001b[39m         │ \u001b[90mmissing\u001b[39m     │\n",
      "│ 8   │ \u001b[90mmissing\u001b[39m            │ \u001b[90mmissing\u001b[39m         │ \u001b[90mmissing\u001b[39m         │ \u001b[90mmissing\u001b[39m     │\n",
      "│ 9   │ \u001b[90mmissing\u001b[39m            │ \u001b[90mmissing\u001b[39m         │ \u001b[90mmissing\u001b[39m         │ \u001b[90mmissing\u001b[39m     │\n",
      "│ 10  │ \u001b[90mmissing\u001b[39m            │ \u001b[90mmissing\u001b[39m         │ \u001b[90mmissing\u001b[39m         │ \u001b[90mmissing\u001b[39m     │\n",
      "⋮\n",
      "│ 340 │ \u001b[90mmissing\u001b[39m            │ \u001b[90mmissing\u001b[39m         │ \u001b[90mmissing\u001b[39m         │ \u001b[90mmissing\u001b[39m     │\n",
      "│ 341 │ \u001b[90mmissing\u001b[39m            │ \u001b[90mmissing\u001b[39m         │ \u001b[90mmissing\u001b[39m         │ \u001b[90mmissing\u001b[39m     │\n",
      "│ 342 │ \u001b[90mmissing\u001b[39m            │ \u001b[90mmissing\u001b[39m         │ \u001b[90mmissing\u001b[39m         │ \u001b[90mmissing\u001b[39m     │\n",
      "│ 343 │ \u001b[90mmissing\u001b[39m            │ \u001b[90mmissing\u001b[39m         │ \u001b[90mmissing\u001b[39m         │ \u001b[90mmissing\u001b[39m     │\n",
      "│ 344 │ \u001b[90mmissing\u001b[39m            │ \u001b[90mmissing\u001b[39m         │ \u001b[90mmissing\u001b[39m         │ \u001b[90mmissing\u001b[39m     │\n",
      "│ 345 │ \u001b[90mmissing\u001b[39m            │ \u001b[90mmissing\u001b[39m         │ \u001b[90mmissing\u001b[39m         │ \u001b[90mmissing\u001b[39m     │\n",
      "│ 346 │ \u001b[90mmissing\u001b[39m            │ \u001b[90mmissing\u001b[39m         │ \u001b[90mmissing\u001b[39m         │ \u001b[90mmissing\u001b[39m     │\n",
      "│ 347 │ \u001b[90mmissing\u001b[39m            │ \u001b[90mmissing\u001b[39m         │ \u001b[90mmissing\u001b[39m         │ \u001b[90mmissing\u001b[39m     │\n",
      "│ 348 │ \u001b[90mmissing\u001b[39m            │ \u001b[90mmissing\u001b[39m         │ \u001b[90mmissing\u001b[39m         │ \u001b[90mmissing\u001b[39m     │\n",
      "│ 349 │ \u001b[90mmissing\u001b[39m            │ \u001b[90mmissing\u001b[39m         │ \u001b[90mmissing\u001b[39m         │ \u001b[90mmissing\u001b[39m     │\n",
      "│ 350 │ \u001b[90mmissing\u001b[39m            │ \u001b[90mmissing\u001b[39m         │ \u001b[90mmissing\u001b[39m         │ \u001b[90mmissing\u001b[39m     │\n",
      "\n",
      "│ Row │ X-Zero (pu) │ Grounding Z units │ Grounding R │ Grounding X │\n",
      "│     │ \u001b[90mAny\u001b[39m         │ \u001b[90mString\u001b[39m            │ \u001b[90mAny\u001b[39m         │ \u001b[90mAny\u001b[39m         │\n",
      "├─────┼─────────────┼───────────────────┼─────────────┼─────────────┤\n",
      "│ 1   │ \u001b[90mmissing\u001b[39m     │ P.U. (Per Unit)   │ \u001b[90mmissing\u001b[39m     │ \u001b[90mmissing\u001b[39m     │\n",
      "│ 2   │ \u001b[90mmissing\u001b[39m     │ P.U. (Per Unit)   │ \u001b[90mmissing\u001b[39m     │ \u001b[90mmissing\u001b[39m     │\n",
      "│ 3   │ \u001b[90mmissing\u001b[39m     │ P.U. (Per Unit)   │ \u001b[90mmissing\u001b[39m     │ \u001b[90mmissing\u001b[39m     │\n",
      "│ 4   │ \u001b[90mmissing\u001b[39m     │ P.U. (Per Unit)   │ \u001b[90mmissing\u001b[39m     │ \u001b[90mmissing\u001b[39m     │\n",
      "│ 5   │ \u001b[90mmissing\u001b[39m     │ P.U. (Per Unit)   │ \u001b[90mmissing\u001b[39m     │ \u001b[90mmissing\u001b[39m     │\n",
      "│ 6   │ \u001b[90mmissing\u001b[39m     │ P.U. (Per Unit)   │ \u001b[90mmissing\u001b[39m     │ \u001b[90mmissing\u001b[39m     │\n",
      "│ 7   │ \u001b[90mmissing\u001b[39m     │ P.U. (Per Unit)   │ \u001b[90mmissing\u001b[39m     │ \u001b[90mmissing\u001b[39m     │\n",
      "│ 8   │ \u001b[90mmissing\u001b[39m     │ P.U. (Per Unit)   │ \u001b[90mmissing\u001b[39m     │ \u001b[90mmissing\u001b[39m     │\n",
      "│ 9   │ \u001b[90mmissing\u001b[39m     │ P.U. (Per Unit)   │ \u001b[90mmissing\u001b[39m     │ \u001b[90mmissing\u001b[39m     │\n",
      "│ 10  │ \u001b[90mmissing\u001b[39m     │ P.U. (Per Unit)   │ \u001b[90mmissing\u001b[39m     │ \u001b[90mmissing\u001b[39m     │\n",
      "⋮\n",
      "│ 340 │ \u001b[90mmissing\u001b[39m     │ P.U. (Per Unit)   │ \u001b[90mmissing\u001b[39m     │ \u001b[90mmissing\u001b[39m     │\n",
      "│ 341 │ \u001b[90mmissing\u001b[39m     │ P.U. (Per Unit)   │ \u001b[90mmissing\u001b[39m     │ \u001b[90mmissing\u001b[39m     │\n",
      "│ 342 │ \u001b[90mmissing\u001b[39m     │ P.U. (Per Unit)   │ \u001b[90mmissing\u001b[39m     │ \u001b[90mmissing\u001b[39m     │\n",
      "│ 343 │ \u001b[90mmissing\u001b[39m     │ P.U. (Per Unit)   │ \u001b[90mmissing\u001b[39m     │ \u001b[90mmissing\u001b[39m     │\n",
      "│ 344 │ \u001b[90mmissing\u001b[39m     │ P.U. (Per Unit)   │ \u001b[90mmissing\u001b[39m     │ \u001b[90mmissing\u001b[39m     │\n",
      "│ 345 │ \u001b[90mmissing\u001b[39m     │ P.U. (Per Unit)   │ \u001b[90mmissing\u001b[39m     │ \u001b[90mmissing\u001b[39m     │\n",
      "│ 346 │ \u001b[90mmissing\u001b[39m     │ P.U. (Per Unit)   │ \u001b[90mmissing\u001b[39m     │ \u001b[90mmissing\u001b[39m     │\n",
      "│ 347 │ \u001b[90mmissing\u001b[39m     │ P.U. (Per Unit)   │ \u001b[90mmissing\u001b[39m     │ \u001b[90mmissing\u001b[39m     │\n",
      "│ 348 │ \u001b[90mmissing\u001b[39m     │ P.U. (Per Unit)   │ \u001b[90mmissing\u001b[39m     │ \u001b[90mmissing\u001b[39m     │\n",
      "│ 349 │ \u001b[90mmissing\u001b[39m     │ P.U. (Per Unit)   │ \u001b[90mmissing\u001b[39m     │ \u001b[90mmissing\u001b[39m     │\n",
      "│ 350 │ \u001b[90mmissing\u001b[39m     │ P.U. (Per Unit)   │ \u001b[90mmissing\u001b[39m     │ \u001b[90mmissing\u001b[39m     │\n",
      "\n",
      "│ Row │ Reference Angle (deg) │ Machine Control Mode │\n",
      "│     │ \u001b[90mAny\u001b[39m                   │ \u001b[90mString\u001b[39m               │\n"
     ]
    },
    {
     "name": "stdout",
     "output_type": "stream",
     "text": [
      "├─────┼───────────────────────┼──────────────────────┤\n",
      "│ 1   │ \u001b[90mmissing\u001b[39m               │ Conventional Machine │\n",
      "│ 2   │ \u001b[90mmissing\u001b[39m               │ Conventional Machine │\n",
      "│ 3   │ \u001b[90mmissing\u001b[39m               │ Conventional Machine │\n",
      "│ 4   │ \u001b[90mmissing\u001b[39m               │ Conventional Machine │\n",
      "│ 5   │ \u001b[90mmissing\u001b[39m               │ Conventional Machine │\n",
      "│ 6   │ \u001b[90mmissing\u001b[39m               │ Conventional Machine │\n",
      "│ 7   │ \u001b[90mmissing\u001b[39m               │ Conventional Machine │\n",
      "│ 8   │ \u001b[90mmissing\u001b[39m               │ Conventional Machine │\n",
      "│ 9   │ \u001b[90mmissing\u001b[39m               │ Conventional Machine │\n",
      "│ 10  │ \u001b[90mmissing\u001b[39m               │ Conventional Machine │\n",
      "⋮\n",
      "│ 340 │ \u001b[90mmissing\u001b[39m               │ Conventional Machine │\n",
      "│ 341 │ \u001b[90mmissing\u001b[39m               │ Conventional Machine │\n",
      "│ 342 │ \u001b[90mmissing\u001b[39m               │ Conventional Machine │\n",
      "│ 343 │ \u001b[90mmissing\u001b[39m               │ Conventional Machine │\n",
      "│ 344 │ \u001b[90mmissing\u001b[39m               │ Conventional Machine │\n",
      "│ 345 │ \u001b[90mmissing\u001b[39m               │ Conventional Machine │\n",
      "│ 346 │ \u001b[90mmissing\u001b[39m               │ Conventional Machine │\n",
      "│ 347 │ \u001b[90mmissing\u001b[39m               │ Conventional Machine │\n",
      "│ 348 │ \u001b[90mmissing\u001b[39m               │ Conventional Machine │\n",
      "│ 349 │ \u001b[90mmissing\u001b[39m               │ Conventional Machine │\n",
      "│ 350 │ \u001b[90mmissing\u001b[39m               │ Conventional Machine │\n",
      "\n",
      "│ Row │ Renewable Machine Power factor │\n",
      "│     │ \u001b[90mInt64\u001b[39m                          │\n",
      "├─────┼────────────────────────────────┤\n",
      "│ 1   │ 1                              │\n",
      "│ 2   │ 1                              │\n",
      "│ 3   │ 1                              │\n",
      "│ 4   │ 1                              │\n",
      "│ 5   │ 1                              │\n",
      "│ 6   │ 1                              │\n",
      "│ 7   │ 1                              │\n",
      "│ 8   │ 1                              │\n",
      "│ 9   │ 1                              │\n",
      "│ 10  │ 1                              │\n",
      "⋮\n",
      "│ 340 │ 1                              │\n",
      "│ 341 │ 1                              │\n",
      "│ 342 │ 1                              │\n",
      "│ 343 │ 1                              │\n",
      "│ 344 │ 1                              │\n",
      "│ 345 │ 1                              │\n",
      "│ 346 │ 1                              │\n",
      "│ 347 │ 1                              │\n",
      "│ 348 │ 1                              │\n",
      "│ 349 │ 1                              │\n",
      "│ 350 │ 1                              │"
     ]
    }
   ],
   "source": [
    "show(Machine_Wind, allcols = true)"
   ]
  },
  {
   "cell_type": "code",
   "execution_count": 12,
   "metadata": {},
   "outputs": [
    {
     "data": {
      "text/plain": [
       "10-element Array{String,1}:\n",
       " \"NW\"        \n",
       " \"LIMERICK\"  \n",
       " \"CORK KERRY\"\n",
       " \"KILDARE\"   \n",
       " \"CLARE\"     \n",
       " \"CAHIR NETW\"\n",
       " \"NE\"        \n",
       " \"N IRELAND\" \n",
       " \"SE\"        \n",
       " \"DUBLIN 110\""
      ]
     },
     "execution_count": 12,
     "metadata": {},
     "output_type": "execute_result"
    }
   ],
   "source": [
    "unique(Machine_Wind.Area_Name)"
   ]
  },
  {
   "cell_type": "code",
   "execution_count": 13,
   "metadata": {},
   "outputs": [
    {
     "name": "stderr",
     "output_type": "stream",
     "text": [
      "┌ Info: Precompiling Distributions [31c24e10-a181-5473-b8eb-7969acd0382f]\n",
      "└ @ Base loading.jl:1273\n"
     ]
    }
   ],
   "source": [
    "using Distributions"
   ]
  },
  {
   "cell_type": "code",
   "execution_count": 18,
   "metadata": {},
   "outputs": [],
   "source": [
    "Limrick_Data = DataFrame(XLSX.readtable(\"Wind_Data/Limrick.xlsx\", \"Data\", infer_eltypes=true)... );\n",
    "Limrick_Wind = Limrick_Data[!,:Wind_Speed];\n",
    "#Limrick_Par = fit(Weibull, Limrick_Wind)\n"
   ]
  },
  {
   "cell_type": "code",
   "execution_count": 19,
   "metadata": {},
   "outputs": [
    {
     "ename": "ErrorException",
     "evalue": "suffstats is not implemented for (Weibull, Array{Any,1}).",
     "output_type": "error",
     "traceback": [
      "suffstats is not implemented for (Weibull, Array{Any,1}).",
      "",
      "Stacktrace:",
      " [1] error(::String) at .\\error.jl:33",
      " [2] suffstats(::Type{Weibull}, ::Array{Any,1}) at C:\\Users\\cilli\\.julia\\packages\\Distributions\\uFI1h\\src\\genericfit.jl:5",
      " [3] fit_mle(::Type{Weibull}, ::Array{Any,1}) at C:\\Users\\cilli\\.julia\\packages\\Distributions\\uFI1h\\src\\genericfit.jl:27",
      " [4] fit(::Type{Weibull}, ::Array{Any,1}) at C:\\Users\\cilli\\.julia\\packages\\Distributions\\uFI1h\\src\\genericfit.jl:33",
      " [5] top-level scope at In[19]:1"
     ]
    }
   ],
   "source": [
    "Limrick_Par = fit(Weibull, Limrick_Wind)"
   ]
  },
  {
   "cell_type": "code",
   "execution_count": 23,
   "metadata": {},
   "outputs": [
    {
     "ename": "MethodError",
     "evalue": "MethodError: no method matching ones(::Array{Int64,1})\nClosest candidates are:\n  ones(!Matched::Union{Integer, AbstractUnitRange}...) at array.jl:456\n  ones(!Matched::Type{T}, !Matched::Union{Integer, AbstractUnitRange}...) where T at array.jl:457\n  ones(!Matched::Tuple{Vararg{Union{Integer, AbstractUnitRange},N} where N}) at array.jl:458\n  ...",
     "output_type": "error",
     "traceback": [
      "MethodError: no method matching ones(::Array{Int64,1})\nClosest candidates are:\n  ones(!Matched::Union{Integer, AbstractUnitRange}...) at array.jl:456\n  ones(!Matched::Type{T}, !Matched::Union{Integer, AbstractUnitRange}...) where T at array.jl:457\n  ones(!Matched::Tuple{Vararg{Union{Integer, AbstractUnitRange},N} where N}) at array.jl:458\n  ...",
      "",
      "Stacktrace:",
      " [1] top-level scope at In[23]:2"
     ]
    }
   ],
   "source": [
    "x = [3, 4,5]\n",
    "ones(x)"
   ]
  },
  {
   "cell_type": "code",
   "execution_count": null,
   "metadata": {},
   "outputs": [],
   "source": []
  }
 ],
 "metadata": {
  "@webio": {
   "lastCommId": null,
   "lastKernelId": null
  },
  "kernelspec": {
   "display_name": "Julia 1.2.0",
   "language": "julia",
   "name": "julia-1.2"
  },
  "language_info": {
   "file_extension": ".jl",
   "mimetype": "application/julia",
   "name": "julia",
   "version": "1.2.0"
  }
 },
 "nbformat": 4,
 "nbformat_minor": 2
}
