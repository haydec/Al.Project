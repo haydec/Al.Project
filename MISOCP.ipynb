{
 "cells": [
  {
   "cell_type": "code",
   "execution_count": 1,
   "metadata": {},
   "outputs": [
    {
     "name": "stderr",
     "output_type": "stream",
     "text": [
      "┌ Info: Recompiling stale cache file C:\\Users\\cilli\\.julia\\compiled\\v1.2\\DataFrames\\AR9oZ.ji for DataFrames [a93c6f00-e57d-5684-b7b6-d8193f3e46c0]\n",
      "└ @ Base loading.jl:1240\n",
      "┌ Info: Recompiling stale cache file C:\\Users\\cilli\\.julia\\compiled\\v1.2\\XLSX\\gPxqz.ji for XLSX [fdbf4ff8-1666-58a4-91e7-1b58723a45e0]\n",
      "└ @ Base loading.jl:1240\n",
      "┌ Info: Recompiling stale cache file C:\\Users\\cilli\\.julia\\compiled\\v1.2\\LightGraphs\\Xm08G.ji for LightGraphs [093fc24a-ae57-5d10-9952-331d41423f4d]\n",
      "└ @ Base loading.jl:1240\n",
      "┌ Info: Recompiling stale cache file C:\\Users\\cilli\\.julia\\compiled\\v1.2\\SimpleWeightedGraphs\\iIsRI.ji for SimpleWeightedGraphs [47aef6b3-ad0c-573a-a1e2-d07658019622]\n",
      "└ @ Base loading.jl:1240\n",
      "┌ Info: Recompiling stale cache file C:\\Users\\cilli\\.julia\\compiled\\v1.2\\MathOptInterfaceMosek\\sqIeN.ji for MathOptInterfaceMosek [0087ddc6-3964-5e57-817f-9937aefb0357]\n",
      "└ @ Base loading.jl:1240\n"
     ]
    }
   ],
   "source": [
    "using DataFrames, XLSX\n",
    "using LinearAlgebra\n",
    "using JuMP\n",
    "using LightGraphs, SimpleWeightedGraphs\n",
    "using MathOptInterfaceMosek"
   ]
  },
  {
   "cell_type": "markdown",
   "metadata": {},
   "source": []
  },
  {
   "cell_type": "markdown",
   "metadata": {},
   "source": [
    "# Network Data"
   ]
  },
  {
   "cell_type": "code",
   "execution_count": 4,
   "metadata": {},
   "outputs": [
    {
     "data": {
      "text/html": [
       "<table class=\"data-frame\"><thead><tr><th></th><th>Branch</th><th>From</th><th>To</th><th>R</th><th>X</th><th>B</th><th>a</th><th>phi</th><th>Limit</th><th>Type</th></tr><tr><th></th><th>Int64</th><th>Int64</th><th>Int64</th><th>Float64</th><th>Float64</th><th>Float64</th><th>Any</th><th>Any</th><th>Int64</th><th>String</th></tr></thead><tbody><p>3 rows × 10 columns</p><tr><th>1</th><td>1</td><td>1</td><td>2</td><td>0.0</td><td>0.1</td><td>10.0</td><td>missing</td><td>missing</td><td>150</td><td>line</td></tr><tr><th>2</th><td>2</td><td>1</td><td>3</td><td>0.0</td><td>0.125</td><td>8.0</td><td>missing</td><td>missing</td><td>1000</td><td>line</td></tr><tr><th>3</th><td>3</td><td>2</td><td>3</td><td>0.0</td><td>0.2</td><td>5.0</td><td>missing</td><td>missing</td><td>1000</td><td>line</td></tr></tbody></table>"
      ],
      "text/latex": [
       "\\begin{tabular}{r|cccccccccc}\n",
       "\t& Branch & From & To & R & X & B & a & phi & Limit & Type\\\\\n",
       "\t\\hline\n",
       "\t& Int64 & Int64 & Int64 & Float64 & Float64 & Float64 & Any & Any & Int64 & String\\\\\n",
       "\t\\hline\n",
       "\t1 & 1 & 1 & 2 & 0.0 & 0.1 & 10.0 &  &  & 150 & line \\\\\n",
       "\t2 & 2 & 1 & 3 & 0.0 & 0.125 & 8.0 &  &  & 1000 & line \\\\\n",
       "\t3 & 3 & 2 & 3 & 0.0 & 0.2 & 5.0 &  &  & 1000 & line \\\\\n",
       "\\end{tabular}\n"
      ],
      "text/plain": [
       "3×10 DataFrame. Omitted printing of 3 columns\n",
       "│ Row │ Branch │ From  │ To    │ R       │ X       │ B       │ a       │\n",
       "│     │ \u001b[90mInt64\u001b[39m  │ \u001b[90mInt64\u001b[39m │ \u001b[90mInt64\u001b[39m │ \u001b[90mFloat64\u001b[39m │ \u001b[90mFloat64\u001b[39m │ \u001b[90mFloat64\u001b[39m │ \u001b[90mAny\u001b[39m     │\n",
       "├─────┼────────┼───────┼───────┼─────────┼─────────┼─────────┼─────────┤\n",
       "│ 1   │ 1      │ 1     │ 2     │ 0.0     │ 0.1     │ 10.0    │ \u001b[90mmissing\u001b[39m │\n",
       "│ 2   │ 2      │ 1     │ 3     │ 0.0     │ 0.125   │ 8.0     │ \u001b[90mmissing\u001b[39m │\n",
       "│ 3   │ 3      │ 2     │ 3     │ 0.0     │ 0.2     │ 5.0     │ \u001b[90mmissing\u001b[39m │"
      ]
     },
     "execution_count": 4,
     "metadata": {},
     "output_type": "execute_result"
    }
   ],
   "source": [
    "Branch = DataFrame(XLSX.readtable(\"3-Bus.xlsx\", \"BranchData\", infer_eltypes=true)... )"
   ]
  },
  {
   "cell_type": "markdown",
   "metadata": {},
   "source": [
    "### Define the bus set"
   ]
  },
  {
   "cell_type": "code",
   "execution_count": 5,
   "metadata": {},
   "outputs": [
    {
     "data": {
      "text/plain": [
       "3"
      ]
     },
     "execution_count": 5,
     "metadata": {},
     "output_type": "execute_result"
    }
   ],
   "source": [
    "Bus = max(maximum(Branch.From),maximum(Branch.To))"
   ]
  },
  {
   "cell_type": "markdown",
   "metadata": {},
   "source": [
    "### Defining Susceptance Matrix (Laplacian)\n",
    "##### Note: only Susceptance Matirx is defined for Linear power flow"
   ]
  },
  {
   "cell_type": "code",
   "execution_count": 6,
   "metadata": {},
   "outputs": [],
   "source": [
    "Gw = SimpleWeightedGraph(Bus)\n",
    "\n",
    "for i = 1:size(Branch,1)\n",
    "    add_edge!(Gw,Branch.From[i],Branch.To[i], 1/Branch.X[i])\n",
    "end\n",
    "\n",
    "Aw = Array(weights(Gw))\n",
    "Lw = Diagonal(sum(Aw,dims=1)[:])-Aw\n",
    "B = Lw;"
   ]
  },
  {
   "cell_type": "markdown",
   "metadata": {},
   "source": [
    "# Generator Location Data"
   ]
  },
  {
   "cell_type": "code",
   "execution_count": 7,
   "metadata": {},
   "outputs": [],
   "source": [
    "#GenData = DataFrame(a = [0.001562, 0.00194, 0.00482], \n",
    "#                b = [7.92, 7.85, 7.97],\n",
    "#                c = [561, 310, 78],\n",
    "#                Pmax = [600, 400, 200],\n",
    "#                Pmin = [150, 100, 50],\n",
    "#                RampUp = [30,20,30],\n",
    "#                RampDown = [30,20,30],\n",
    "#                MinUp = [2,3,2],\n",
    "#                MinDown = [2,3,2]);"
   ]
  },
  {
   "cell_type": "code",
   "execution_count": 8,
   "metadata": {},
   "outputs": [
    {
     "data": {
      "text/html": [
       "<table class=\"data-frame\"><thead><tr><th></th><th>Name</th><th>Type</th><th>a</th><th>b</th><th>c</th><th>Pmax</th><th>Pmin</th><th>RampUp</th><th>RampDown</th><th>MinUp</th></tr><tr><th></th><th>Int64</th><th>String</th><th>Float64</th><th>Float64</th><th>Int64</th><th>Int64</th><th>Int64</th><th>Int64</th><th>Int64</th><th>Int64</th></tr></thead><tbody><p>3 rows × 11 columns (omitted printing of 1 columns)</p><tr><th>1</th><td>1</td><td>Unknown</td><td>0.001562</td><td>7.92</td><td>561</td><td>600</td><td>150</td><td>30</td><td>30</td><td>2</td></tr><tr><th>2</th><td>2</td><td>Unknown</td><td>0.00194</td><td>7.85</td><td>310</td><td>400</td><td>100</td><td>20</td><td>20</td><td>3</td></tr><tr><th>3</th><td>3</td><td>Unknown</td><td>0.00482</td><td>7.97</td><td>78</td><td>200</td><td>50</td><td>30</td><td>30</td><td>2</td></tr></tbody></table>"
      ],
      "text/latex": [
       "\\begin{tabular}{r|ccccccccccc}\n",
       "\t& Name & Type & a & b & c & Pmax & Pmin & RampUp & RampDown & MinUp & \\\\\n",
       "\t\\hline\n",
       "\t& Int64 & String & Float64 & Float64 & Int64 & Int64 & Int64 & Int64 & Int64 & Int64 & \\\\\n",
       "\t\\hline\n",
       "\t1 & 1 & Unknown & 0.001562 & 7.92 & 561 & 600 & 150 & 30 & 30 & 2 & $\\dots$ \\\\\n",
       "\t2 & 2 & Unknown & 0.00194 & 7.85 & 310 & 400 & 100 & 20 & 20 & 3 & $\\dots$ \\\\\n",
       "\t3 & 3 & Unknown & 0.00482 & 7.97 & 78 & 200 & 50 & 30 & 30 & 2 & $\\dots$ \\\\\n",
       "\\end{tabular}\n"
      ],
      "text/plain": [
       "3×11 DataFrame. Omitted printing of 3 columns\n",
       "│ Row │ Name  │ Type    │ a        │ b       │ c     │ Pmax  │ Pmin  │ RampUp │\n",
       "│     │ \u001b[90mInt64\u001b[39m │ \u001b[90mString\u001b[39m  │ \u001b[90mFloat64\u001b[39m  │ \u001b[90mFloat64\u001b[39m │ \u001b[90mInt64\u001b[39m │ \u001b[90mInt64\u001b[39m │ \u001b[90mInt64\u001b[39m │ \u001b[90mInt64\u001b[39m  │\n",
       "├─────┼───────┼─────────┼──────────┼─────────┼───────┼───────┼───────┼────────┤\n",
       "│ 1   │ 1     │ Unknown │ 0.001562 │ 7.92    │ 561   │ 600   │ 150   │ 30     │\n",
       "│ 2   │ 2     │ Unknown │ 0.00194  │ 7.85    │ 310   │ 400   │ 100   │ 20     │\n",
       "│ 3   │ 3     │ Unknown │ 0.00482  │ 7.97    │ 78    │ 200   │ 50    │ 30     │"
      ]
     },
     "execution_count": 8,
     "metadata": {},
     "output_type": "execute_result"
    }
   ],
   "source": [
    "GenData = DataFrame(XLSX.readtable(\"3-Bus.xlsx\", \"GenData\", infer_eltypes=true)... )"
   ]
  },
  {
   "cell_type": "code",
   "execution_count": 39,
   "metadata": {},
   "outputs": [
    {
     "data": {
      "text/html": [
       "<table class=\"data-frame\"><thead><tr><th></th><th>Name</th><th>Type</th><th>ne</th><th>ni</th><th>C</th><th>a</th></tr><tr><th></th><th>Int64</th><th>String</th><th>Float64</th><th>Float64</th><th>Int64</th><th>Int64</th></tr></thead><tbody><p>3 rows × 6 columns</p><tr><th>1</th><td>1</td><td>Unknown</td><td>0.9</td><td>0.9</td><td>600</td><td>0</td></tr><tr><th>2</th><td>2</td><td>Unknown</td><td>0.85</td><td>0.85</td><td>400</td><td>0</td></tr><tr><th>3</th><td>3</td><td>Unknown</td><td>0.8</td><td>0.8</td><td>200</td><td>0</td></tr></tbody></table>"
      ],
      "text/latex": [
       "\\begin{tabular}{r|cccccc}\n",
       "\t& Name & Type & ne & ni & C & a\\\\\n",
       "\t\\hline\n",
       "\t& Int64 & String & Float64 & Float64 & Int64 & Int64\\\\\n",
       "\t\\hline\n",
       "\t1 & 1 & Unknown & 0.9 & 0.9 & 600 & 0 \\\\\n",
       "\t2 & 2 & Unknown & 0.85 & 0.85 & 400 & 0 \\\\\n",
       "\t3 & 3 & Unknown & 0.8 & 0.8 & 200 & 0 \\\\\n",
       "\\end{tabular}\n"
      ],
      "text/plain": [
       "3×6 DataFrame\n",
       "│ Row │ Name  │ Type    │ ne      │ ni      │ C     │ a     │\n",
       "│     │ \u001b[90mInt64\u001b[39m │ \u001b[90mString\u001b[39m  │ \u001b[90mFloat64\u001b[39m │ \u001b[90mFloat64\u001b[39m │ \u001b[90mInt64\u001b[39m │ \u001b[90mInt64\u001b[39m │\n",
       "├─────┼───────┼─────────┼─────────┼─────────┼───────┼───────┤\n",
       "│ 1   │ 1     │ Unknown │ 0.9     │ 0.9     │ 600   │ 0     │\n",
       "│ 2   │ 2     │ Unknown │ 0.85    │ 0.85    │ 400   │ 0     │\n",
       "│ 3   │ 3     │ Unknown │ 0.8     │ 0.8     │ 200   │ 0     │"
      ]
     },
     "execution_count": 39,
     "metadata": {},
     "output_type": "execute_result"
    }
   ],
   "source": [
    "StorageData = DataFrame(XLSX.readtable(\"3-Bus.xlsx\", \"StorageData\", infer_eltypes=true)... )"
   ]
  },
  {
   "cell_type": "code",
   "execution_count": 9,
   "metadata": {},
   "outputs": [
    {
     "name": "stdout",
     "output_type": "stream",
     "text": [
      "11\n",
      "21\n",
      "31\n"
     ]
    },
    {
     "data": {
      "text/plain": [
       "3×3 Array{Int64,2}:\n",
       " 1  0  0\n",
       " 1  0  0\n",
       " 1  0  0"
      ]
     },
     "execution_count": 9,
     "metadata": {},
     "output_type": "execute_result"
    }
   ],
   "source": [
    "PVar = DataFrame(Bus = [1, 2, 3], Gen = [1,1,1])\n",
    "\n",
    "Bus = max(maximum(Branch.From),maximum(Branch.To))\n",
    "Genw = SimpleDiGraph(Bus)\n",
    "\n",
    "for i = 1:size(PVar,1)\n",
    "    add_edge!(Genw,PVar.Bus[i],PVar.Gen[i] )\n",
    "    println(PVar.Bus[i],PVar.Gen[i])\n",
    "end\n",
    "AGenw = Array(adjacency_matrix(Genw))"
   ]
  },
  {
   "cell_type": "markdown",
   "metadata": {},
   "source": [
    "### Define Generator Set"
   ]
  },
  {
   "cell_type": "code",
   "execution_count": 10,
   "metadata": {},
   "outputs": [
    {
     "data": {
      "text/plain": [
       "3"
      ]
     },
     "execution_count": 10,
     "metadata": {},
     "output_type": "execute_result"
    }
   ],
   "source": [
    "Gen = size(GenData, 1)"
   ]
  },
  {
   "cell_type": "markdown",
   "metadata": {},
   "source": [
    "# Load Data"
   ]
  },
  {
   "cell_type": "code",
   "execution_count": 11,
   "metadata": {},
   "outputs": [
    {
     "data": {
      "text/html": [
       "<table class=\"data-frame\"><thead><tr><th></th><th>L1</th><th>L2</th><th>L3</th></tr><tr><th></th><th>Int64</th><th>Int64</th><th>Int64</th></tr></thead><tbody><p>3 rows × 3 columns</p><tr><th>1</th><td>180</td><td>520</td><td>120</td></tr><tr><th>2</th><td>200</td><td>500</td><td>80</td></tr><tr><th>3</th><td>220</td><td>480</td><td>100</td></tr></tbody></table>"
      ],
      "text/latex": [
       "\\begin{tabular}{r|ccc}\n",
       "\t& L1 & L2 & L3\\\\\n",
       "\t\\hline\n",
       "\t& Int64 & Int64 & Int64\\\\\n",
       "\t\\hline\n",
       "\t1 & 180 & 520 & 120 \\\\\n",
       "\t2 & 200 & 500 & 80 \\\\\n",
       "\t3 & 220 & 480 & 100 \\\\\n",
       "\\end{tabular}\n"
      ],
      "text/plain": [
       "3×3 DataFrame\n",
       "│ Row │ L1    │ L2    │ L3    │\n",
       "│     │ \u001b[90mInt64\u001b[39m │ \u001b[90mInt64\u001b[39m │ \u001b[90mInt64\u001b[39m │\n",
       "├─────┼───────┼───────┼───────┤\n",
       "│ 1   │ 180   │ 520   │ 120   │\n",
       "│ 2   │ 200   │ 500   │ 80    │\n",
       "│ 3   │ 220   │ 480   │ 100   │"
      ]
     },
     "execution_count": 11,
     "metadata": {},
     "output_type": "execute_result"
    }
   ],
   "source": [
    "Load = DataFrame( XLSX.readtable(\"3-Bus.xlsx\", \"LoadData\", infer_eltypes=true)... )"
   ]
  },
  {
   "cell_type": "markdown",
   "metadata": {},
   "source": [
    "### Defing the max time period ( T )"
   ]
  },
  {
   "cell_type": "code",
   "execution_count": 12,
   "metadata": {},
   "outputs": [
    {
     "data": {
      "text/plain": [
       "3"
      ]
     },
     "execution_count": 12,
     "metadata": {},
     "output_type": "execute_result"
    }
   ],
   "source": [
    "T = size(Load,1)"
   ]
  },
  {
   "cell_type": "code",
   "execution_count": 13,
   "metadata": {},
   "outputs": [],
   "source": [
    "LineLimit = [150, 1000, 1000];"
   ]
  },
  {
   "cell_type": "markdown",
   "metadata": {},
   "source": [
    "# Optimization Model"
   ]
  },
  {
   "cell_type": "code",
   "execution_count": 49,
   "metadata": {},
   "outputs": [],
   "source": [
    "model = nothing"
   ]
  },
  {
   "cell_type": "code",
   "execution_count": 50,
   "metadata": {},
   "outputs": [],
   "source": [
    "model = Model(with_optimizer(MosekOptimizer, QUIET=false, INTPNT_CO_TOL_DFEAS=1e-7));"
   ]
  },
  {
   "cell_type": "code",
   "execution_count": 51,
   "metadata": {},
   "outputs": [],
   "source": [
    "Bus = size(B,2); Gen =size(GenData,1) ;T = 3\n",
    "@variable(model, P[1:Bus,1:Gen,1:T]);"
   ]
  },
  {
   "cell_type": "code",
   "execution_count": 52,
   "metadata": {},
   "outputs": [
    {
     "name": "stdout",
     "output_type": "stream",
     "text": [
      "Gen1 at Bus1\n",
      "Gen1 at Bus2\n",
      "Gen1 at Bus3\n"
     ]
    }
   ],
   "source": [
    "for i in 1:Bus, j in 1:Gen\n",
    "\n",
    " if AGenw[i,j] == 0\n",
    "    \n",
    "      for t =1:T  \n",
    "        fix( P[ i, j, t], 0, force = true);\n",
    "      end\n",
    "                \n",
    " else\n",
    " println(string(\"Gen\",j ,\" at Bus\", i))\n",
    "\n",
    " end\n",
    "\n",
    "end"
   ]
  },
  {
   "cell_type": "code",
   "execution_count": 53,
   "metadata": {},
   "outputs": [],
   "source": [
    "@variable(model, PBus[1:Bus,1:T])\n",
    "@variable(model, u[1:Bus,1:Gen,1:T],Bin)\n",
    "@variable(model, Us[1:Bus,1:Gen,1:T],Bin)\n",
    "@variable(model, Vs[1:Bus,1:Gen,1:T],Bin)\n",
    "@variable(model, θ[1:Bus,1:T])\n",
    "for t = 1:T \n",
    "    fix( θ[1,t], 0, force = true);\n",
    "end"
   ]
  },
  {
   "cell_type": "code",
   "execution_count": 17,
   "metadata": {},
   "outputs": [],
   "source": [
    "@objective(model,Min, sum(GenData.a[j]*P[ i, j, t]^2 + GenData.b[j]*P[ i, j, t] + GenData.c[j] \n",
    "         for t in 1:T for i in 1:Bus for j in 1:Gen ));"
   ]
  },
  {
   "cell_type": "code",
   "execution_count": 18,
   "metadata": {},
   "outputs": [],
   "source": [
    "@constraint(model,LoadBalance[t = 1:T], sum(Load[t,i]   for i in 1:3) == sum(PBus[i,t] for i in 1:Bus));"
   ]
  },
  {
   "cell_type": "code",
   "execution_count": 19,
   "metadata": {},
   "outputs": [],
   "source": [
    "@constraint(model,PowerFlow[i = 1:Bus, t = 1:T], \n",
    "    sum(100 * B[i,j] * (θ[i,t] - θ[j,t]) for j in 1:Bus)  == PBus[i,t]  - Load[t,i] );"
   ]
  },
  {
   "cell_type": "code",
   "execution_count": 20,
   "metadata": {},
   "outputs": [],
   "source": [
    "@constraint(model,BusPower[i = 1:Bus, t = 1:T],  sum(P[i, g, t] for g in 1:Gen) == PBus[i,t]);"
   ]
  },
  {
   "cell_type": "code",
   "execution_count": 22,
   "metadata": {},
   "outputs": [],
   "source": [
    "@constraint(model,MaxPowerLimits[i = 1:Bus,j=1:Gen,t = 1:T],  P[i,j,t] <= GenData.Pmax[j]*u[i,j,t])\n",
    "@constraint(model,MinPowerLimits[i = 1:Bus,j=1:Gen,t = 1:T],  P[i,j,t] >= GenData.Pmin[j]*u[i,j,t]);"
   ]
  },
  {
   "cell_type": "code",
   "execution_count": 24,
   "metadata": {},
   "outputs": [
    {
     "data": {
      "text/plain": [
       "3×3 Array{ConstraintRef{Model,C,Shape} where Shape<:AbstractShape where C,2}:\n",
       " MinLineLimit[1,1] : -1800 θ[1,1] + 1000 θ[2,1] + 800 θ[3,1] >= -150.0   …  MinLineLimit[1,3] : -1800 θ[1,3] + 1000 θ[2,3] + 800 θ[3,3] >= -150.0 \n",
       " MinLineLimit[2,1] : -1500 θ[2,1] + 1000 θ[1,1] + 500 θ[3,1] >= -1000.0     MinLineLimit[2,3] : -1500 θ[2,3] + 1000 θ[1,3] + 500 θ[3,3] >= -1000.0\n",
       " MinLineLimit[3,1] : -1300 θ[3,1] + 800 θ[1,1] + 500 θ[2,1] >= -1000.0      MinLineLimit[3,3] : -1300 θ[3,3] + 800 θ[1,3] + 500 θ[2,3] >= -1000.0 "
      ]
     },
     "execution_count": 24,
     "metadata": {},
     "output_type": "execute_result"
    }
   ],
   "source": [
    "@constraint(model,MaxLineLimit[i = 1:Bus, t = 1:T],sum(100 * B[i,j] * (θ[i,t] - θ[j,t]) for j in 1:Bus) <=  Branch.Limit[i])\n",
    "@constraint(model,MinLineLimit[i = 1:Bus, t = 1:T],sum(100 * B[i,j] * (θ[i,t] - θ[j,t]) for j in 1:Bus) >= -Branch.Limit[i]);"
   ]
  },
  {
   "cell_type": "code",
   "execution_count": 25,
   "metadata": {},
   "outputs": [],
   "source": [
    "@constraint(model,RampUpLimit[i = 1:Bus, j = 1:Gen, t = 2:T], P[i,j,t] - P[i,j,t-1] <=  GenData.RampUp[i]*u[i,j,t])\n",
    "@constraint(model,RampDownLimit[i = 1:Bus, j = 1:Gen, t = 2:T], P[i,j,t-1] - P[i,j,t] <=  GenData.RampDown[i]*u[i,j,t]);"
   ]
  },
  {
   "cell_type": "code",
   "execution_count": 26,
   "metadata": {},
   "outputs": [],
   "source": [
    "@constraint(model,UpStatus[i = 1:Bus, j = 1:Gen, t = 2:T], u[i,j,t-1] - u[i,j,t] + Us[i,j,t] >=  0 );\n",
    "@constraint(model,DownStatus[i = 1:Bus, j = 1:Gen, t = 2:T], u[i,j,t] - u[i,j,t-1] + Vs[i,j,t] >=  0 );"
   ]
  },
  {
   "cell_type": "code",
   "execution_count": 27,
   "metadata": {},
   "outputs": [],
   "source": [
    "@constraint(model,MinUp[i = 1:Bus, j=1:Gen, t = 2:T, k = t+1:min(t+GenData.MinUp[i]-1, T) ], \n",
    "    u[i,j,t] - u[i,j,t-1]  <=  u[i,k,t] );\n",
    "@constraint(model,MinDown[i = 1:Bus, j = 1:Gen, t = 2:T, k = t+1:min(t+GenData.MinDown[i]-1, T) ],\n",
    "    u[i,j,t-1] - u[i,j,t]  <=  1 - u[i,k,t] );"
   ]
  },
  {
   "cell_type": "markdown",
   "metadata": {},
   "source": [
    "### Linear Energy Storage (Feasible Set)"
   ]
  },
  {
   "cell_type": "code",
   "execution_count": 54,
   "metadata": {},
   "outputs": [
    {
     "data": {
      "text/plain": [
       "2"
      ]
     },
     "execution_count": 54,
     "metadata": {},
     "output_type": "execute_result"
    }
   ],
   "source": [
    "Storage = size([1,1],1) # Replace [1,1] with actual table"
   ]
  },
  {
   "cell_type": "code",
   "execution_count": 55,
   "metadata": {},
   "outputs": [],
   "source": [
    "@variable(model, s[1:Bus,1:Storage,1:T]);\n",
    "@variable(model, ue[1:Bus,1:Storage,1:T]);\n",
    "@variable(model, ui[1:Bus,1:Storage,1:T]);"
   ]
  },
  {
   "cell_type": "code",
   "execution_count": 57,
   "metadata": {},
   "outputs": [],
   "source": [
    "@constraint(model, SOC[i = 1:Bus, j = 1:Storage, t = 2:T], \n",
    "    s[i,j,t] == StorageData.a[j]*s[i,j,t-1] + (StorageData.ne[j]*ue[i,j,t-1] - ui[i,j,t-1]/StorageData.ni[j]));"
   ]
  },
  {
   "cell_type": "code",
   "execution_count": 58,
   "metadata": {},
   "outputs": [],
   "source": [
    "@constraint(model, Capacity[i = 1:Bus, j = 1:Storage, t = 2:T],\n",
    "    0 <=  s[i,j,t] <=  StorageData.C[j]);"
   ]
  },
  {
   "cell_type": "code",
   "execution_count": 59,
   "metadata": {},
   "outputs": [],
   "source": [
    "@constraint(model, PowerStorage[i = 1:Bus, j = 1:Storage, t = 2:T],\n",
    "    P[i,j,t] == ui[i,j,t] - ue[i,j,t]);"
   ]
  },
  {
   "cell_type": "code",
   "execution_count": 63,
   "metadata": {},
   "outputs": [],
   "source": [
    "@constraint(model, GenEnergyMin[i = 1:Bus, j = 1:Storage, t = 2:T], \n",
    "    0 <= ue[i,j,t] );"
   ]
  },
  {
   "cell_type": "code",
   "execution_count": 64,
   "metadata": {},
   "outputs": [],
   "source": [
    "@constraint(model, GenEnergyMax[i = 1:Bus, j = 1:Storage, t = 2:T], \n",
    "    ue[i,j,t] <= - P[i,j,t] );"
   ]
  },
  {
   "cell_type": "code",
   "execution_count": 65,
   "metadata": {},
   "outputs": [],
   "source": [
    "@constraint(model, StoredEnergyMin[i = 1:Bus, j = 1:Storage, t = 2:T], \n",
    "    0 <= ui[i,j,t] );"
   ]
  },
  {
   "cell_type": "code",
   "execution_count": 66,
   "metadata": {},
   "outputs": [],
   "source": [
    "@constraint(model, StoredEnergyMax[i = 1:Bus, j = 1:Storage, t = 2:T], \n",
    "   ui[i,j,t] <= P[i,j,t] );"
   ]
  },
  {
   "cell_type": "code",
   "execution_count": 28,
   "metadata": {},
   "outputs": [
    {
     "data": {
      "text/latex": [
       "$$ \\begin{alignat*}{1}\\min\\quad & 0.001562 P_{1,1,1}^2 + 0.00194 P_{1,2,1}^2 + 0.00482 P_{1,3,1}^2 + 0.001562 P_{2,1,1}^2 + 0.00194 P_{2,2,1}^2 + 0.00482 P_{2,3,1}^2 + 0.001562 P_{3,1,1}^2 + 0.00194 P_{3,2,1}^2 + 0.00482 P_{3,3,1}^2 + 0.001562 P_{1,1,2}^2 + 0.00194 P_{1,2,2}^2 + 0.00482 P_{1,3,2}^2 + 0.001562 P_{2,1,2}^2 + 0.00194 P_{2,2,2}^2 + 0.00482 P_{2,3,2}^2 + 0.001562 P_{3,1,2}^2 + 0.00194 P_{3,2,2}^2 + 0.00482 P_{3,3,2}^2 + 0.001562 P_{1,1,3}^2 + 0.00194 P_{1,2,3}^2 + 0.00482 P_{1,3,3}^2 + 0.001562 P_{2,1,3}^2 + 0.00194 P_{2,2,3}^2 + 0.00482 P_{2,3,3}^2 + 0.001562 P_{3,1,3}^2 + 0.00194 P_{3,2,3}^2 + 0.00482 P_{3,3,3}^2 + 7.92 P_{1,1,1} + 7.85 P_{1,2,1} + 7.97 P_{1,3,1} + 7.92 P_{2,1,1} + 7.85 P_{2,2,1} + 7.97 P_{2,3,1} + 7.92 P_{3,1,1} + 7.85 P_{3,2,1} + 7.97 P_{3,3,1} + 7.92 P_{1,1,2} + 7.85 P_{1,2,2} + 7.97 P_{1,3,2} + 7.92 P_{2,1,2} + 7.85 P_{2,2,2} + 7.97 P_{2,3,2} + 7.92 P_{3,1,2} + 7.85 P_{3,2,2} + 7.97 P_{3,3,2} + 7.92 P_{1,1,3} + 7.85 P_{1,2,3} + 7.97 P_{1,3,3} + 7.92 P_{2,1,3} + 7.85 P_{2,2,3} + 7.97 P_{2,3,3} + 7.92 P_{3,1,3} + 7.85 P_{3,2,3} + 7.97 P_{3,3,3} + 8541\\\\\n",
       "\\text{Subject to} \\quad & -PBus_{1,1} - PBus_{2,1} - PBus_{3,1} = -820.0\\\\\n",
       " & -PBus_{1,2} - PBus_{2,2} - PBus_{3,2} = -780.0\\\\\n",
       " & -PBus_{1,3} - PBus_{2,3} - PBus_{3,3} = -800.0\\\\\n",
       " & -1800 θ_{1,1} + 1000 θ_{2,1} + 800 θ_{3,1} - PBus_{1,1} = -180.0\\\\\n",
       " & -1800 θ_{1,2} + 1000 θ_{2,2} + 800 θ_{3,2} - PBus_{1,2} = -200.0\\\\\n",
       " & -1800 θ_{1,3} + 1000 θ_{2,3} + 800 θ_{3,3} - PBus_{1,3} = -220.0\\\\\n",
       " & -1500 θ_{2,1} + 1000 θ_{1,1} + 500 θ_{3,1} - PBus_{2,1} = -520.0\\\\\n",
       " & -1500 θ_{2,2} + 1000 θ_{1,2} + 500 θ_{3,2} - PBus_{2,2} = -500.0\\\\\n",
       " & -1500 θ_{2,3} + 1000 θ_{1,3} + 500 θ_{3,3} - PBus_{2,3} = -480.0\\\\\n",
       " & -1300 θ_{3,1} + 800 θ_{1,1} + 500 θ_{2,1} - PBus_{3,1} = -120.0\\\\\n",
       " & -1300 θ_{3,2} + 800 θ_{1,2} + 500 θ_{2,2} - PBus_{3,2} = -80.0\\\\\n",
       " & -1300 θ_{3,3} + 800 θ_{1,3} + 500 θ_{2,3} - PBus_{3,3} = -100.0\\\\\n",
       " & P_{1,1,1} + P_{1,2,1} + P_{1,3,1} - PBus_{1,1} = 0.0\\\\\n",
       " & P_{1,1,2} + P_{1,2,2} + P_{1,3,2} - PBus_{1,2} = 0.0\\\\\n",
       " & P_{1,1,3} + P_{1,2,3} + P_{1,3,3} - PBus_{1,3} = 0.0\\\\\n",
       " & P_{2,1,1} + P_{2,2,1} + P_{2,3,1} - PBus_{2,1} = 0.0\\\\\n",
       " & P_{2,1,2} + P_{2,2,2} + P_{2,3,2} - PBus_{2,2} = 0.0\\\\\n",
       " & P_{2,1,3} + P_{2,2,3} + P_{2,3,3} - PBus_{2,3} = 0.0\\\\\n",
       " & P_{3,1,1} + P_{3,2,1} + P_{3,3,1} - PBus_{3,1} = 0.0\\\\\n",
       " & P_{3,1,2} + P_{3,2,2} + P_{3,3,2} - PBus_{3,2} = 0.0\\\\\n",
       " & P_{3,1,3} + P_{3,2,3} + P_{3,3,3} - PBus_{3,3} = 0.0\\\\\n",
       " & P_{1,1,1} - 150 u_{1,1,1} \\geq 0.0\\\\\n",
       " & P_{1,1,2} - 150 u_{1,1,2} \\geq 0.0\\\\\n",
       " & P_{1,1,3} - 150 u_{1,1,3} \\geq 0.0\\\\\n",
       " & P_{1,2,1} - 100 u_{1,2,1} \\geq 0.0\\\\\n",
       " & P_{1,2,2} - 100 u_{1,2,2} \\geq 0.0\\\\\n",
       " & P_{1,2,3} - 100 u_{1,2,3} \\geq 0.0\\\\\n",
       " & P_{1,3,1} - 50 u_{1,3,1} \\geq 0.0\\\\\n",
       " & P_{1,3,2} - 50 u_{1,3,2} \\geq 0.0\\\\\n",
       " & P_{1,3,3} - 50 u_{1,3,3} \\geq 0.0\\\\\n",
       " & P_{2,1,1} - 150 u_{2,1,1} \\geq 0.0\\\\\n",
       " & P_{2,1,2} - 150 u_{2,1,2} \\geq 0.0\\\\\n",
       " & P_{2,1,3} - 150 u_{2,1,3} \\geq 0.0\\\\\n",
       " & P_{2,2,1} - 100 u_{2,2,1} \\geq 0.0\\\\\n",
       " & P_{2,2,2} - 100 u_{2,2,2} \\geq 0.0\\\\\n",
       " & P_{2,2,3} - 100 u_{2,2,3} \\geq 0.0\\\\\n",
       " & P_{2,3,1} - 50 u_{2,3,1} \\geq 0.0\\\\\n",
       " & P_{2,3,2} - 50 u_{2,3,2} \\geq 0.0\\\\\n",
       " & P_{2,3,3} - 50 u_{2,3,3} \\geq 0.0\\\\\n",
       " & P_{3,1,1} - 150 u_{3,1,1} \\geq 0.0\\\\\n",
       " & P_{3,1,2} - 150 u_{3,1,2} \\geq 0.0\\\\\n",
       " & P_{3,1,3} - 150 u_{3,1,3} \\geq 0.0\\\\\n",
       " & P_{3,2,1} - 100 u_{3,2,1} \\geq 0.0\\\\\n",
       " & P_{3,2,2} - 100 u_{3,2,2} \\geq 0.0\\\\\n",
       " & P_{3,2,3} - 100 u_{3,2,3} \\geq 0.0\\\\\n",
       " & P_{3,3,1} - 50 u_{3,3,1} \\geq 0.0\\\\\n",
       " & P_{3,3,2} - 50 u_{3,3,2} \\geq 0.0\\\\\n",
       " & P_{3,3,3} - 50 u_{3,3,3} \\geq 0.0\\\\\n",
       " & -1800 θ_{1,1} + 1000 θ_{2,1} + 800 θ_{3,1} \\geq -150.0\\\\\n",
       " & -1800 θ_{1,2} + 1000 θ_{2,2} + 800 θ_{3,2} \\geq -150.0\\\\\n",
       " & -1800 θ_{1,3} + 1000 θ_{2,3} + 800 θ_{3,3} \\geq -150.0\\\\\n",
       " & -1500 θ_{2,1} + 1000 θ_{1,1} + 500 θ_{3,1} \\geq -1000.0\\\\\n",
       " & -1500 θ_{2,2} + 1000 θ_{1,2} + 500 θ_{3,2} \\geq -1000.0\\\\\n",
       " & -1500 θ_{2,3} + 1000 θ_{1,3} + 500 θ_{3,3} \\geq -1000.0\\\\\n",
       " & -1300 θ_{3,1} + 800 θ_{1,1} + 500 θ_{2,1} \\geq -1000.0\\\\\n",
       " & -1300 θ_{3,2} + 800 θ_{1,2} + 500 θ_{2,2} \\geq -1000.0\\\\\n",
       " & -1300 θ_{3,3} + 800 θ_{1,3} + 500 θ_{2,3} \\geq -1000.0\\\\\n",
       " & u_{1,1,1} - u_{1,1,2} + Us_{1,1,2} \\geq 0.0\\\\\n",
       " & u_{1,1,2} - u_{1,1,3} + Us_{1,1,3} \\geq 0.0\\\\\n",
       " & u_{1,2,1} - u_{1,2,2} + Us_{1,2,2} \\geq 0.0\\\\\n",
       " & u_{1,2,2} - u_{1,2,3} + Us_{1,2,3} \\geq 0.0\\\\\n",
       " & u_{1,3,1} - u_{1,3,2} + Us_{1,3,2} \\geq 0.0\\\\\n",
       " & u_{1,3,2} - u_{1,3,3} + Us_{1,3,3} \\geq 0.0\\\\\n",
       " & u_{2,1,1} - u_{2,1,2} + Us_{2,1,2} \\geq 0.0\\\\\n",
       " & u_{2,1,2} - u_{2,1,3} + Us_{2,1,3} \\geq 0.0\\\\\n",
       " & u_{2,2,1} - u_{2,2,2} + Us_{2,2,2} \\geq 0.0\\\\\n",
       " & u_{2,2,2} - u_{2,2,3} + Us_{2,2,3} \\geq 0.0\\\\\n",
       " & u_{2,3,1} - u_{2,3,2} + Us_{2,3,2} \\geq 0.0\\\\\n",
       " & u_{2,3,2} - u_{2,3,3} + Us_{2,3,3} \\geq 0.0\\\\\n",
       " & u_{3,1,1} - u_{3,1,2} + Us_{3,1,2} \\geq 0.0\\\\\n",
       " & u_{3,1,2} - u_{3,1,3} + Us_{3,1,3} \\geq 0.0\\\\\n",
       " & u_{3,2,1} - u_{3,2,2} + Us_{3,2,2} \\geq 0.0\\\\\n",
       " & u_{3,2,2} - u_{3,2,3} + Us_{3,2,3} \\geq 0.0\\\\\n",
       " & u_{3,3,1} - u_{3,3,2} + Us_{3,3,2} \\geq 0.0\\\\\n",
       " & u_{3,3,2} - u_{3,3,3} + Us_{3,3,3} \\geq 0.0\\\\\n",
       " & u_{1,1,2} - u_{1,1,1} + Vs_{1,1,2} \\geq 0.0\\\\\n",
       " & u_{1,1,3} - u_{1,1,2} + Vs_{1,1,3} \\geq 0.0\\\\\n",
       " & u_{1,2,2} - u_{1,2,1} + Vs_{1,2,2} \\geq 0.0\\\\\n",
       " & u_{1,2,3} - u_{1,2,2} + Vs_{1,2,3} \\geq 0.0\\\\\n",
       " & u_{1,3,2} - u_{1,3,1} + Vs_{1,3,2} \\geq 0.0\\\\\n",
       " & u_{1,3,3} - u_{1,3,2} + Vs_{1,3,3} \\geq 0.0\\\\\n",
       " & u_{2,1,2} - u_{2,1,1} + Vs_{2,1,2} \\geq 0.0\\\\\n",
       " & u_{2,1,3} - u_{2,1,2} + Vs_{2,1,3} \\geq 0.0\\\\\n",
       " & u_{2,2,2} - u_{2,2,1} + Vs_{2,2,2} \\geq 0.0\\\\\n",
       " & u_{2,2,3} - u_{2,2,2} + Vs_{2,2,3} \\geq 0.0\\\\\n",
       " & u_{2,3,2} - u_{2,3,1} + Vs_{2,3,2} \\geq 0.0\\\\\n",
       " & u_{2,3,3} - u_{2,3,2} + Vs_{2,3,3} \\geq 0.0\\\\\n",
       " & u_{3,1,2} - u_{3,1,1} + Vs_{3,1,2} \\geq 0.0\\\\\n",
       " & u_{3,1,3} - u_{3,1,2} + Vs_{3,1,3} \\geq 0.0\\\\\n",
       " & u_{3,2,2} - u_{3,2,1} + Vs_{3,2,2} \\geq 0.0\\\\\n",
       " & u_{3,2,3} - u_{3,2,2} + Vs_{3,2,3} \\geq 0.0\\\\\n",
       " & u_{3,3,2} - u_{3,3,1} + Vs_{3,3,2} \\geq 0.0\\\\\n",
       " & u_{3,3,3} - u_{3,3,2} + Vs_{3,3,3} \\geq 0.0\\\\\n",
       " & P_{1,1,1} - 600 u_{1,1,1} \\leq 0.0\\\\\n",
       " & P_{1,1,2} - 600 u_{1,1,2} \\leq 0.0\\\\\n",
       " & P_{1,1,3} - 600 u_{1,1,3} \\leq 0.0\\\\\n",
       " & P_{1,2,1} - 400 u_{1,2,1} \\leq 0.0\\\\\n",
       " & P_{1,2,2} - 400 u_{1,2,2} \\leq 0.0\\\\\n",
       " & P_{1,2,3} - 400 u_{1,2,3} \\leq 0.0\\\\\n",
       " & P_{1,3,1} - 200 u_{1,3,1} \\leq 0.0\\\\\n",
       " & P_{1,3,2} - 200 u_{1,3,2} \\leq 0.0\\\\\n",
       " & P_{1,3,3} - 200 u_{1,3,3} \\leq 0.0\\\\\n",
       " & P_{2,1,1} - 600 u_{2,1,1} \\leq 0.0\\\\\n",
       " & P_{2,1,2} - 600 u_{2,1,2} \\leq 0.0\\\\\n",
       " & P_{2,1,3} - 600 u_{2,1,3} \\leq 0.0\\\\\n",
       " & P_{2,2,1} - 400 u_{2,2,1} \\leq 0.0\\\\\n",
       " & P_{2,2,2} - 400 u_{2,2,2} \\leq 0.0\\\\\n",
       " & P_{2,2,3} - 400 u_{2,2,3} \\leq 0.0\\\\\n",
       " & P_{2,3,1} - 200 u_{2,3,1} \\leq 0.0\\\\\n",
       " & P_{2,3,2} - 200 u_{2,3,2} \\leq 0.0\\\\\n",
       " & P_{2,3,3} - 200 u_{2,3,3} \\leq 0.0\\\\\n",
       " & P_{3,1,1} - 600 u_{3,1,1} \\leq 0.0\\\\\n",
       " & P_{3,1,2} - 600 u_{3,1,2} \\leq 0.0\\\\\n",
       " & P_{3,1,3} - 600 u_{3,1,3} \\leq 0.0\\\\\n",
       " & P_{3,2,1} - 400 u_{3,2,1} \\leq 0.0\\\\\n",
       " & P_{3,2,2} - 400 u_{3,2,2} \\leq 0.0\\\\\n",
       " & P_{3,2,3} - 400 u_{3,2,3} \\leq 0.0\\\\\n",
       " & P_{3,3,1} - 200 u_{3,3,1} \\leq 0.0\\\\\n",
       " & P_{3,3,2} - 200 u_{3,3,2} \\leq 0.0\\\\\n",
       " & P_{3,3,3} - 200 u_{3,3,3} \\leq 0.0\\\\\n",
       " & -1800 θ_{1,1} + 1000 θ_{2,1} + 800 θ_{3,1} \\leq 150.0\\\\\n",
       " & -1800 θ_{1,2} + 1000 θ_{2,2} + 800 θ_{3,2} \\leq 150.0\\\\\n",
       " & -1800 θ_{1,3} + 1000 θ_{2,3} + 800 θ_{3,3} \\leq 150.0\\\\\n",
       " & -1500 θ_{2,1} + 1000 θ_{1,1} + 500 θ_{3,1} \\leq 1000.0\\\\\n",
       " & -1500 θ_{2,2} + 1000 θ_{1,2} + 500 θ_{3,2} \\leq 1000.0\\\\\n",
       " & -1500 θ_{2,3} + 1000 θ_{1,3} + 500 θ_{3,3} \\leq 1000.0\\\\\n",
       " & -1300 θ_{3,1} + 800 θ_{1,1} + 500 θ_{2,1} \\leq 1000.0\\\\\n",
       " & -1300 θ_{3,2} + 800 θ_{1,2} + 500 θ_{2,2} \\leq 1000.0\\\\\n",
       " & -1300 θ_{3,3} + 800 θ_{1,3} + 500 θ_{2,3} \\leq 1000.0\\\\\n",
       " & P_{1,1,2} - P_{1,1,1} - 30 u_{1,1,2} \\leq 0.0\\\\\n",
       " & P_{1,1,3} - P_{1,1,2} - 30 u_{1,1,3} \\leq 0.0\\\\\n",
       " & P_{1,2,2} - P_{1,2,1} - 30 u_{1,2,2} \\leq 0.0\\\\\n",
       " & P_{1,2,3} - P_{1,2,2} - 30 u_{1,2,3} \\leq 0.0\\\\\n",
       " & P_{1,3,2} - P_{1,3,1} - 30 u_{1,3,2} \\leq 0.0\\\\\n",
       " & P_{1,3,3} - P_{1,3,2} - 30 u_{1,3,3} \\leq 0.0\\\\\n",
       " & P_{2,1,2} - P_{2,1,1} - 20 u_{2,1,2} \\leq 0.0\\\\\n",
       " & P_{2,1,3} - P_{2,1,2} - 20 u_{2,1,3} \\leq 0.0\\\\\n",
       " & P_{2,2,2} - P_{2,2,1} - 20 u_{2,2,2} \\leq 0.0\\\\\n",
       " & P_{2,2,3} - P_{2,2,2} - 20 u_{2,2,3} \\leq 0.0\\\\\n",
       " & P_{2,3,2} - P_{2,3,1} - 20 u_{2,3,2} \\leq 0.0\\\\\n",
       " & P_{2,3,3} - P_{2,3,2} - 20 u_{2,3,3} \\leq 0.0\\\\\n",
       " & P_{3,1,2} - P_{3,1,1} - 30 u_{3,1,2} \\leq 0.0\\\\\n",
       " & P_{3,1,3} - P_{3,1,2} - 30 u_{3,1,3} \\leq 0.0\\\\\n",
       " & P_{3,2,2} - P_{3,2,1} - 30 u_{3,2,2} \\leq 0.0\\\\\n",
       " & P_{3,2,3} - P_{3,2,2} - 30 u_{3,2,3} \\leq 0.0\\\\\n",
       " & P_{3,3,2} - P_{3,3,1} - 30 u_{3,3,2} \\leq 0.0\\\\\n",
       " & P_{3,3,3} - P_{3,3,2} - 30 u_{3,3,3} \\leq 0.0\\\\\n",
       " & P_{1,1,1} - P_{1,1,2} - 30 u_{1,1,2} \\leq 0.0\\\\\n",
       " & P_{1,1,2} - P_{1,1,3} - 30 u_{1,1,3} \\leq 0.0\\\\\n",
       " & P_{1,2,1} - P_{1,2,2} - 30 u_{1,2,2} \\leq 0.0\\\\\n",
       " & P_{1,2,2} - P_{1,2,3} - 30 u_{1,2,3} \\leq 0.0\\\\\n",
       " & P_{1,3,1} - P_{1,3,2} - 30 u_{1,3,2} \\leq 0.0\\\\\n",
       " & P_{1,3,2} - P_{1,3,3} - 30 u_{1,3,3} \\leq 0.0\\\\\n",
       " & P_{2,1,1} - P_{2,1,2} - 20 u_{2,1,2} \\leq 0.0\\\\\n",
       " & P_{2,1,2} - P_{2,1,3} - 20 u_{2,1,3} \\leq 0.0\\\\\n",
       " & P_{2,2,1} - P_{2,2,2} - 20 u_{2,2,2} \\leq 0.0\\\\\n",
       " & P_{2,2,2} - P_{2,2,3} - 20 u_{2,2,3} \\leq 0.0\\\\\n",
       " & P_{2,3,1} - P_{2,3,2} - 20 u_{2,3,2} \\leq 0.0\\\\\n",
       " & P_{2,3,2} - P_{2,3,3} - 20 u_{2,3,3} \\leq 0.0\\\\\n",
       " & P_{3,1,1} - P_{3,1,2} - 30 u_{3,1,2} \\leq 0.0\\\\\n",
       " & P_{3,1,2} - P_{3,1,3} - 30 u_{3,1,3} \\leq 0.0\\\\\n",
       " & P_{3,2,1} - P_{3,2,2} - 30 u_{3,2,2} \\leq 0.0\\\\\n",
       " & P_{3,2,2} - P_{3,2,3} - 30 u_{3,2,3} \\leq 0.0\\\\\n",
       " & P_{3,3,1} - P_{3,3,2} - 30 u_{3,3,2} \\leq 0.0\\\\\n",
       " & P_{3,3,2} - P_{3,3,3} - 30 u_{3,3,3} \\leq 0.0\\\\\n",
       " & u_{1,1,2} - u_{1,1,1} - u_{1,3,2} \\leq 0.0\\\\\n",
       " & u_{1,2,2} - u_{1,2,1} - u_{1,3,2} \\leq 0.0\\\\\n",
       " & -u_{1,3,1} \\leq 0.0\\\\\n",
       " & u_{2,1,2} - u_{2,1,1} - u_{2,3,2} \\leq 0.0\\\\\n",
       " & u_{2,2,2} - u_{2,2,1} - u_{2,3,2} \\leq 0.0\\\\\n",
       " & -u_{2,3,1} \\leq 0.0\\\\\n",
       " & u_{3,1,2} - u_{3,1,1} - u_{3,3,2} \\leq 0.0\\\\\n",
       " & u_{3,2,2} - u_{3,2,1} - u_{3,3,2} \\leq 0.0\\\\\n",
       " & -u_{3,3,1} \\leq 0.0\\\\\n",
       " & u_{1,1,1} - u_{1,1,2} + u_{1,3,2} \\leq 1.0\\\\\n",
       " & u_{1,2,1} - u_{1,2,2} + u_{1,3,2} \\leq 1.0\\\\\n",
       " & u_{1,3,1} \\leq 1.0\\\\\n",
       " & u_{2,1,1} - u_{2,1,2} + u_{2,3,2} \\leq 1.0\\\\\n",
       " & u_{2,2,1} - u_{2,2,2} + u_{2,3,2} \\leq 1.0\\\\\n",
       " & u_{2,3,1} \\leq 1.0\\\\\n",
       " & u_{3,1,1} - u_{3,1,2} + u_{3,3,2} \\leq 1.0\\\\\n",
       " & u_{3,2,1} - u_{3,2,2} + u_{3,3,2} \\leq 1.0\\\\\n",
       " & u_{3,3,1} \\leq 1.0\\\\\n",
       " & P_{1,2,1} = 0.0\\\\\n",
       " & P_{1,2,2} = 0.0\\\\\n",
       " & P_{1,2,3} = 0.0\\\\\n",
       " & P_{1,3,1} = 0.0\\\\\n",
       " & P_{1,3,2} = 0.0\\\\\n",
       " & P_{1,3,3} = 0.0\\\\\n",
       " & P_{2,2,1} = 0.0\\\\\n",
       " & P_{2,2,2} = 0.0\\\\\n",
       " & P_{2,2,3} = 0.0\\\\\n",
       " & P_{2,3,1} = 0.0\\\\\n",
       " & P_{2,3,2} = 0.0\\\\\n",
       " & P_{2,3,3} = 0.0\\\\\n",
       " & P_{3,2,1} = 0.0\\\\\n",
       " & P_{3,2,2} = 0.0\\\\\n",
       " & P_{3,2,3} = 0.0\\\\\n",
       " & P_{3,3,1} = 0.0\\\\\n",
       " & P_{3,3,2} = 0.0\\\\\n",
       " & P_{3,3,3} = 0.0\\\\\n",
       " & θ_{1,1} = 0.0\\\\\n",
       " & θ_{1,2} = 0.0\\\\\n",
       " & θ_{1,3} = 0.0\\\\\n",
       " & u_{1,1,1} binary\\\\\n",
       " & u_{1,1,2} binary\\\\\n",
       " & u_{1,1,3} binary\\\\\n",
       " & u_{1,2,1} binary\\\\\n",
       " & u_{1,2,2} binary\\\\\n",
       " & u_{1,2,3} binary\\\\\n",
       " & u_{1,3,1} binary\\\\\n",
       " & u_{1,3,2} binary\\\\\n",
       " & u_{1,3,3} binary\\\\\n",
       " & u_{2,1,1} binary\\\\\n",
       " & u_{2,1,2} binary\\\\\n",
       " & u_{2,1,3} binary\\\\\n",
       " & u_{2,2,1} binary\\\\\n",
       " & u_{2,2,2} binary\\\\\n",
       " & u_{2,2,3} binary\\\\\n",
       " & u_{2,3,1} binary\\\\\n",
       " & u_{2,3,2} binary\\\\\n",
       " & u_{2,3,3} binary\\\\\n",
       " & u_{3,1,1} binary\\\\\n",
       " & u_{3,1,2} binary\\\\\n",
       " & u_{3,1,3} binary\\\\\n",
       " & u_{3,2,1} binary\\\\\n",
       " & u_{3,2,2} binary\\\\\n",
       " & u_{3,2,3} binary\\\\\n",
       " & u_{3,3,1} binary\\\\\n",
       " & u_{3,3,2} binary\\\\\n",
       " & u_{3,3,3} binary\\\\\n",
       " & Us_{1,1,1} binary\\\\\n",
       " & Us_{1,1,2} binary\\\\\n",
       " & Us_{1,1,3} binary\\\\\n",
       " & Us_{1,2,1} binary\\\\\n",
       " & Us_{1,2,2} binary\\\\\n",
       " & Us_{1,2,3} binary\\\\\n",
       " & Us_{1,3,1} binary\\\\\n",
       " & Us_{1,3,2} binary\\\\\n",
       " & Us_{1,3,3} binary\\\\\n",
       " & Us_{2,1,1} binary\\\\\n",
       " & Us_{2,1,2} binary\\\\\n",
       " & Us_{2,1,3} binary\\\\\n",
       " & Us_{2,2,1} binary\\\\\n",
       " & Us_{2,2,2} binary\\\\\n",
       " & Us_{2,2,3} binary\\\\\n",
       " & Us_{2,3,1} binary\\\\\n",
       " & Us_{2,3,2} binary\\\\\n",
       " & Us_{2,3,3} binary\\\\\n",
       " & Us_{3,1,1} binary\\\\\n",
       " & Us_{3,1,2} binary\\\\\n",
       " & Us_{3,1,3} binary\\\\\n",
       " & Us_{3,2,1} binary\\\\\n",
       " & Us_{3,2,2} binary\\\\\n",
       " & Us_{3,2,3} binary\\\\\n",
       " & Us_{3,3,1} binary\\\\\n",
       " & Us_{3,3,2} binary\\\\\n",
       " & Us_{3,3,3} binary\\\\\n",
       " & Vs_{1,1,1} binary\\\\\n",
       " & Vs_{1,1,2} binary\\\\\n",
       " & Vs_{1,1,3} binary\\\\\n",
       " & Vs_{1,2,1} binary\\\\\n",
       " & Vs_{1,2,2} binary\\\\\n",
       " & Vs_{1,2,3} binary\\\\\n",
       " & Vs_{1,3,1} binary\\\\\n",
       " & Vs_{1,3,2} binary\\\\\n",
       " & Vs_{1,3,3} binary\\\\\n",
       " & Vs_{2,1,1} binary\\\\\n",
       " & Vs_{2,1,2} binary\\\\\n",
       " & Vs_{2,1,3} binary\\\\\n",
       " & Vs_{2,2,1} binary\\\\\n",
       " & Vs_{2,2,2} binary\\\\\n",
       " & Vs_{2,2,3} binary\\\\\n",
       " & Vs_{2,3,1} binary\\\\\n",
       " & Vs_{2,3,2} binary\\\\\n",
       " & Vs_{2,3,3} binary\\\\\n",
       " & Vs_{3,1,1} binary\\\\\n",
       " & Vs_{3,1,2} binary\\\\\n",
       " & Vs_{3,1,3} binary\\\\\n",
       " & Vs_{3,2,1} binary\\\\\n",
       " & Vs_{3,2,2} binary\\\\\n",
       " & Vs_{3,2,3} binary\\\\\n",
       " & Vs_{3,3,1} binary\\\\\n",
       " & Vs_{3,3,2} binary\\\\\n",
       " & Vs_{3,3,3} binary\\\\\n",
       "\\end{alignat*}\n",
       " $$"
      ],
      "text/plain": [
       "A JuMP Model\n",
       "Minimization problem with:\n",
       "Variables: 126\n",
       "Objective function type: GenericQuadExpr{Float64,VariableRef}\n",
       "`GenericAffExpr{Float64,VariableRef}`-in-`MathOptInterface.EqualTo{Float64}`: 21 constraints\n",
       "`GenericAffExpr{Float64,VariableRef}`-in-`MathOptInterface.GreaterThan{Float64}`: 72 constraints\n",
       "`GenericAffExpr{Float64,VariableRef}`-in-`MathOptInterface.LessThan{Float64}`: 90 constraints\n",
       "`VariableRef`-in-`MathOptInterface.EqualTo{Float64}`: 21 constraints\n",
       "`VariableRef`-in-`MathOptInterface.ZeroOne`: 81 constraints\n",
       "Model mode: AUTOMATIC\n",
       "CachingOptimizer state: EMPTY_OPTIMIZER\n",
       "Solver name: Mosek\n",
       "Names registered in the model: BusPower, DownStatus, LoadBalance, MaxLineLimit, MaxPowerLimits, MinDown, MinLineLimit, MinPowerLimits, MinUp, P, PBus, PowerFlow, RampDownLimit, RampUpLimit, UpStatus, Us, Vs, u, θ"
      ]
     },
     "execution_count": 28,
     "metadata": {},
     "output_type": "execute_result"
    }
   ],
   "source": [
    "model"
   ]
  },
  {
   "cell_type": "code",
   "execution_count": 29,
   "metadata": {},
   "outputs": [
    {
     "name": "stdout",
     "output_type": "stream",
     "text": [
      "Problem\n",
      "  Name                   :                 \n",
      "  Objective sense        : min             \n",
      "  Type                   : CONIC (conic optimization problem)\n",
      "  Constraints            : 212             \n",
      "  Cones                  : 1               \n",
      "  Scalar variables       : 156             \n",
      "  Matrix variables       : 0               \n",
      "  Integer variables      : 81              \n",
      "\n",
      "Optimizer started.\n",
      "Mixed integer optimizer started.\n",
      "Threads used: 4\n",
      "Presolve started.\n",
      "Presolve terminated. Time = 0.00\n",
      "Presolved problem: 44 variables, 54 constraints, 132 non-zeros\n",
      "Presolved problem: 0 general integer, 9 binary, 35 continuous\n",
      "Clique table size: 18\n",
      "BRANCHES RELAXS   ACT_NDS  DEPTH    BEST_INT_OBJ         BEST_RELAX_OBJ       REL_GAP(%)  TIME  \n",
      "0        1        0        0        NA                   2.8549096533e+04     NA          0.1   \n",
      "0        1        0        0        2.8549096533e+04     2.8549096533e+04     1.27e-14    0.1   \n",
      "An optimal solution satisfying the relative gap tolerance of 1.00e-02(%) has been located.\n",
      "The relative gap is 1.27e-14(%).\n",
      "\n",
      "Objective of best integer solution : 2.854909653333e+04      \n",
      "Best objective bound               : 2.854909653333e+04      \n",
      "Construct solution objective       : Not employed\n",
      "Construct solution # roundings     : 0\n",
      "User objective cut value           : 0\n",
      "Number of cuts generated           : 0\n",
      "Number of branches                 : 0\n",
      "Number of relaxations solved       : 1\n",
      "Number of interior point iterations: 12\n",
      "Number of simplex iterations       : 0\n",
      "Time spend presolving the root     : 0.00\n",
      "Time spend in the heuristic        : 0.00\n",
      "Time spend in the sub optimizers   : 0.00\n",
      "  Time spend optimizing the root   : 0.03\n",
      "Mixed integer optimizer terminated. Time: 0.08\n",
      "\n",
      "Optimizer terminated. Time: 0.08    \n",
      "\n"
     ]
    }
   ],
   "source": [
    "optimize!(model)"
   ]
  },
  {
   "cell_type": "code",
   "execution_count": null,
   "metadata": {},
   "outputs": [],
   "source": [
    "size(P)"
   ]
  },
  {
   "cell_type": "code",
   "execution_count": null,
   "metadata": {},
   "outputs": [],
   "source": [
    "100*B[2,1]*(value(θ[2])-value(θ[1]))"
   ]
  },
  {
   "cell_type": "code",
   "execution_count": null,
   "metadata": {},
   "outputs": [],
   "source": [
    "100*B[1,2]*(value(θ[1])-value(θ[2]))"
   ]
  },
  {
   "cell_type": "code",
   "execution_count": null,
   "metadata": {},
   "outputs": [],
   "source": [
    "value.(PBus)"
   ]
  },
  {
   "cell_type": "code",
   "execution_count": null,
   "metadata": {},
   "outputs": [],
   "source": [
    "Load"
   ]
  },
  {
   "cell_type": "code",
   "execution_count": null,
   "metadata": {},
   "outputs": [],
   "source": [
    "sum(Load[1,:]) == sum(value.(PBus[:,1]))"
   ]
  },
  {
   "cell_type": "code",
   "execution_count": null,
   "metadata": {},
   "outputs": [],
   "source": [
    "sum(Load[1,:]) == sum(value.(PBus[:,1]))"
   ]
  },
  {
   "cell_type": "code",
   "execution_count": null,
   "metadata": {},
   "outputs": [],
   "source": [
    "value.(PBus[1,1])"
   ]
  },
  {
   "cell_type": "code",
   "execution_count": null,
   "metadata": {},
   "outputs": [],
   "source": [
    "value.(P[1,:,1])"
   ]
  },
  {
   "cell_type": "code",
   "execution_count": null,
   "metadata": {},
   "outputs": [],
   "source": []
  }
 ],
 "metadata": {
  "@webio": {
   "lastCommId": null,
   "lastKernelId": null
  },
  "kernelspec": {
   "display_name": "Julia 1.2.0",
   "language": "julia",
   "name": "julia-1.2"
  },
  "language_info": {
   "file_extension": ".jl",
   "mimetype": "application/julia",
   "name": "julia",
   "version": "1.2.0"
  }
 },
 "nbformat": 4,
 "nbformat_minor": 2
}
