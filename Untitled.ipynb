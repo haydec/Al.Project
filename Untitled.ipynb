{
 "cells": [
  {
   "cell_type": "code",
   "execution_count": 1,
   "metadata": {},
   "outputs": [
    {
     "name": "stderr",
     "output_type": "stream",
     "text": [
      "┌ Info: Precompiling DataFrames [a93c6f00-e57d-5684-b7b6-d8193f3e46c0]\n",
      "└ @ Base loading.jl:1242\n"
     ]
    }
   ],
   "source": [
    "using DataFrames"
   ]
  },
  {
   "cell_type": "markdown",
   "metadata": {},
   "source": []
  },
  {
   "cell_type": "code",
   "execution_count": 3,
   "metadata": {},
   "outputs": [
    {
     "data": {
      "text/html": [
       "<table class=\"data-frame\"><thead><tr><th></th><th>Branch</th><th>From</th><th>To</th><th>R</th><th>X</th><th>B</th><th>a</th><th>ϕ</th><th>Type</th></tr><tr><th></th><th>Int64</th><th>Int64</th><th>Int64</th><th>Float64</th><th>Float64</th><th>Float64</th><th>Union…</th><th>Union…</th><th>String</th></tr></thead><tbody><p>9 rows × 9 columns</p><tr><th>1</th><td>1</td><td>6</td><td>4</td><td>0.017</td><td>0.092</td><td>0.158</td><td></td><td></td><td>line</td></tr><tr><th>2</th><td>2</td><td>5</td><td>4</td><td>0.01</td><td>0.085</td><td>0.176</td><td></td><td></td><td>line</td></tr><tr><th>3</th><td>3</td><td>7</td><td>5</td><td>0.032</td><td>0.161</td><td>0.306</td><td></td><td></td><td>line</td></tr><tr><th>4</th><td>4</td><td>9</td><td>6</td><td>0.039</td><td>0.17</td><td>0.358</td><td></td><td></td><td>line</td></tr><tr><th>5</th><td>5</td><td>7</td><td>8</td><td>0.0085</td><td>0.072</td><td>0.149</td><td></td><td></td><td>line</td></tr><tr><th>6</th><td>6</td><td>9</td><td>8</td><td>0.0119</td><td>0.1008</td><td>0.209</td><td></td><td></td><td>line</td></tr><tr><th>7</th><td>7</td><td>1</td><td>4</td><td>0.0</td><td>0.0576</td><td>0.0</td><td>1</td><td>0</td><td>Transf</td></tr><tr><th>8</th><td>8</td><td>2</td><td>7</td><td>0.0</td><td>0.0625</td><td>0.0</td><td>1</td><td>0</td><td>Transf</td></tr><tr><th>9</th><td>9</td><td>3</td><td>9</td><td>0.0</td><td>0.0586</td><td>0.0</td><td>1</td><td>0</td><td>Transf</td></tr></tbody></table>"
      ],
      "text/latex": [
       "\\begin{tabular}{r|ccccccccc}\n",
       "\t& Branch & From & To & R & X & B & a & ϕ & Type\\\\\n",
       "\t\\hline\n",
       "\t& Int64 & Int64 & Int64 & Float64 & Float64 & Float64 & Union… & Union… & String\\\\\n",
       "\t\\hline\n",
       "\t1 & 1 & 6 & 4 & 0.017 & 0.092 & 0.158 &  &  & line \\\\\n",
       "\t2 & 2 & 5 & 4 & 0.01 & 0.085 & 0.176 &  &  & line \\\\\n",
       "\t3 & 3 & 7 & 5 & 0.032 & 0.161 & 0.306 &  &  & line \\\\\n",
       "\t4 & 4 & 9 & 6 & 0.039 & 0.17 & 0.358 &  &  & line \\\\\n",
       "\t5 & 5 & 7 & 8 & 0.0085 & 0.072 & 0.149 &  &  & line \\\\\n",
       "\t6 & 6 & 9 & 8 & 0.0119 & 0.1008 & 0.209 &  &  & line \\\\\n",
       "\t7 & 7 & 1 & 4 & 0.0 & 0.0576 & 0.0 & 1 & 0 & Transf \\\\\n",
       "\t8 & 8 & 2 & 7 & 0.0 & 0.0625 & 0.0 & 1 & 0 & Transf \\\\\n",
       "\t9 & 9 & 3 & 9 & 0.0 & 0.0586 & 0.0 & 1 & 0 & Transf \\\\\n",
       "\\end{tabular}\n"
      ],
      "text/plain": [
       "9×9 DataFrame. Omitted printing of 1 columns\n",
       "│ Row │ Branch │ From  │ To    │ R       │ X       │ B       │ a      │ ϕ      │\n",
       "│     │ \u001b[90mInt64\u001b[39m  │ \u001b[90mInt64\u001b[39m │ \u001b[90mInt64\u001b[39m │ \u001b[90mFloat64\u001b[39m │ \u001b[90mFloat64\u001b[39m │ \u001b[90mFloat64\u001b[39m │ \u001b[90mUnion…\u001b[39m │ \u001b[90mUnion…\u001b[39m │\n",
       "├─────┼────────┼───────┼───────┼─────────┼─────────┼─────────┼────────┼────────┤\n",
       "│ 1   │ 1      │ 6     │ 4     │ 0.017   │ 0.092   │ 0.158   │        │        │\n",
       "│ 2   │ 2      │ 5     │ 4     │ 0.01    │ 0.085   │ 0.176   │        │        │\n",
       "│ 3   │ 3      │ 7     │ 5     │ 0.032   │ 0.161   │ 0.306   │        │        │\n",
       "│ 4   │ 4      │ 9     │ 6     │ 0.039   │ 0.17    │ 0.358   │        │        │\n",
       "│ 5   │ 5      │ 7     │ 8     │ 0.0085  │ 0.072   │ 0.149   │        │        │\n",
       "│ 6   │ 6      │ 9     │ 8     │ 0.0119  │ 0.1008  │ 0.209   │        │        │\n",
       "│ 7   │ 7      │ 1     │ 4     │ 0.0     │ 0.0576  │ 0.0     │ 1      │ 0      │\n",
       "│ 8   │ 8      │ 2     │ 7     │ 0.0     │ 0.0625  │ 0.0     │ 1      │ 0      │\n",
       "│ 9   │ 9      │ 3     │ 9     │ 0.0     │ 0.0586  │ 0.0     │ 1      │ 0      │"
      ]
     },
     "execution_count": 3,
     "metadata": {},
     "output_type": "execute_result"
    }
   ],
   "source": [
    "WSCC9_BD = DataFrame(Branch = 1:9, From = [6,5,7,9,7,9,1,2,3], To = [4,4,5,6,8,8,4,7,9],\n",
    "                    R = [0.0170,0.0100,0.0320,0.0390,0.0085,0.0119,0,0,0], \n",
    "                    X = [0.0920,0.0850,0.1610,0.1700,0.0720,0.1008,0.0576,0.0625,0.0586],\n",
    "                    B = [0.1580,0.1760,0.3060,0.3580,0.1490,0.2090,0,0,0],\n",
    "                    a = [nothing,nothing,nothing,nothing,nothing,nothing,1,1,1], \n",
    "                    ϕ = [nothing,nothing,nothing,nothing,nothing,nothing,0,0,0], \n",
    "                    Type = [\"line\",\"line\",\"line\",\"line\",\"line\",\"line\",\"Transf\",\"Transf\",\"Transf\"])"
   ]
  },
  {
   "cell_type": "code",
   "execution_count": null,
   "metadata": {},
   "outputs": [],
   "source": []
  }
 ],
 "metadata": {
  "kernelspec": {
   "display_name": "Julia 1.2.0",
   "language": "julia",
   "name": "julia-1.2"
  },
  "language_info": {
   "file_extension": ".jl",
   "mimetype": "application/julia",
   "name": "julia",
   "version": "1.2.0"
  }
 },
 "nbformat": 4,
 "nbformat_minor": 4
}
