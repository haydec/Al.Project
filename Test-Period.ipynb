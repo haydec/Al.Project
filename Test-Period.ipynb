{
 "cells": [
  {
   "cell_type": "code",
   "execution_count": 1,
   "metadata": {},
   "outputs": [
    {
     "name": "stderr",
     "output_type": "stream",
     "text": [
      "┌ Info: Precompiling XLSX [fdbf4ff8-1666-58a4-91e7-1b58723a45e0]\n",
      "└ @ Base loading.jl:1242\n"
     ]
    }
   ],
   "source": [
    "using DataFrames, XLSX\n",
    "using LinearAlgebra\n",
    "using JuMP\n",
    "using LightGraphs, SimpleWeightedGraphs\n",
    "using MathOptInterfaceMosek"
   ]
  },
  {
   "attachments": {
    "image.png": {
     "image/png": "[encoded data removed]"
    }
   },
   "cell_type": "markdown",
   "metadata": {},
   "source": [
    "![image.png](attachment:image.png)"
   ]
  },
  {
   "cell_type": "code",
   "execution_count": 11,
   "metadata": {},
   "outputs": [
    {
     "data": {
      "text/html": [
       "<table class=\"data-frame\"><thead><tr><th></th><th>Branch</th><th>From</th><th>To</th><th>R</th><th>X</th><th>B</th><th>a</th><th>phi</th><th>Type</th></tr><tr><th></th><th>Int64</th><th>Int64</th><th>Int64</th><th>Float64</th><th>Float64</th><th>Float64</th><th>Float64⍰</th><th>Float64⍰</th><th>String</th></tr></thead><tbody><p>9 rows × 9 columns</p><tr><th>1</th><td>1</td><td>6</td><td>4</td><td>0.017</td><td>0.092</td><td>0.158</td><td>missing</td><td>missing</td><td>line</td></tr><tr><th>2</th><td>2</td><td>5</td><td>4</td><td>0.01</td><td>0.085</td><td>0.176</td><td>missing</td><td>missing</td><td>line</td></tr><tr><th>3</th><td>3</td><td>7</td><td>5</td><td>0.032</td><td>0.161</td><td>0.306</td><td>missing</td><td>missing</td><td>line</td></tr><tr><th>4</th><td>4</td><td>9</td><td>6</td><td>0.039</td><td>0.17</td><td>0.358</td><td>missing</td><td>missing</td><td>line</td></tr><tr><th>5</th><td>5</td><td>7</td><td>8</td><td>0.0085</td><td>0.072</td><td>0.149</td><td>missing</td><td>missing</td><td>line</td></tr><tr><th>6</th><td>6</td><td>9</td><td>8</td><td>0.0119</td><td>0.1008</td><td>0.209</td><td>missing</td><td>missing</td><td>line</td></tr><tr><th>7</th><td>7</td><td>1</td><td>4</td><td>0.0</td><td>0.0576</td><td>0.0</td><td>1.0</td><td>0.0</td><td>transf</td></tr><tr><th>8</th><td>8</td><td>2</td><td>7</td><td>0.0</td><td>0.0625</td><td>0.0</td><td>1.0</td><td>0.0</td><td>transf</td></tr><tr><th>9</th><td>9</td><td>3</td><td>9</td><td>0.0</td><td>0.0586</td><td>0.0</td><td>1.0</td><td>0.0</td><td>transf</td></tr></tbody></table>"
      ],
      "text/latex": [
       "\\begin{tabular}{r|ccccccccc}\n",
       "\t& Branch & From & To & R & X & B & a & phi & Type\\\\\n",
       "\t\\hline\n",
       "\t& Int64 & Int64 & Int64 & Float64 & Float64 & Float64 & Float64⍰ & Float64⍰ & String\\\\\n",
       "\t\\hline\n",
       "\t1 & 1 & 6 & 4 & 0.017 & 0.092 & 0.158 &  &  & line \\\\\n",
       "\t2 & 2 & 5 & 4 & 0.01 & 0.085 & 0.176 &  &  & line \\\\\n",
       "\t3 & 3 & 7 & 5 & 0.032 & 0.161 & 0.306 &  &  & line \\\\\n",
       "\t4 & 4 & 9 & 6 & 0.039 & 0.17 & 0.358 &  &  & line \\\\\n",
       "\t5 & 5 & 7 & 8 & 0.0085 & 0.072 & 0.149 &  &  & line \\\\\n",
       "\t6 & 6 & 9 & 8 & 0.0119 & 0.1008 & 0.209 &  &  & line \\\\\n",
       "\t7 & 7 & 1 & 4 & 0.0 & 0.0576 & 0.0 & 1.0 & 0.0 & transf \\\\\n",
       "\t8 & 8 & 2 & 7 & 0.0 & 0.0625 & 0.0 & 1.0 & 0.0 & transf \\\\\n",
       "\t9 & 9 & 3 & 9 & 0.0 & 0.0586 & 0.0 & 1.0 & 0.0 & transf \\\\\n",
       "\\end{tabular}\n"
      ],
      "text/plain": [
       "9×9 DataFrame. Omitted printing of 2 columns\n",
       "│ Row │ Branch │ From  │ To    │ R       │ X       │ B       │ a        │\n",
       "│     │ \u001b[90mInt64\u001b[39m  │ \u001b[90mInt64\u001b[39m │ \u001b[90mInt64\u001b[39m │ \u001b[90mFloat64\u001b[39m │ \u001b[90mFloat64\u001b[39m │ \u001b[90mFloat64\u001b[39m │ \u001b[90mFloat64⍰\u001b[39m │\n",
       "├─────┼────────┼───────┼───────┼─────────┼─────────┼─────────┼──────────┤\n",
       "│ 1   │ 1      │ 6     │ 4     │ 0.017   │ 0.092   │ 0.158   │ \u001b[90mmissing\u001b[39m  │\n",
       "│ 2   │ 2      │ 5     │ 4     │ 0.01    │ 0.085   │ 0.176   │ \u001b[90mmissing\u001b[39m  │\n",
       "│ 3   │ 3      │ 7     │ 5     │ 0.032   │ 0.161   │ 0.306   │ \u001b[90mmissing\u001b[39m  │\n",
       "│ 4   │ 4      │ 9     │ 6     │ 0.039   │ 0.17    │ 0.358   │ \u001b[90mmissing\u001b[39m  │\n",
       "│ 5   │ 5      │ 7     │ 8     │ 0.0085  │ 0.072   │ 0.149   │ \u001b[90mmissing\u001b[39m  │\n",
       "│ 6   │ 6      │ 9     │ 8     │ 0.0119  │ 0.1008  │ 0.209   │ \u001b[90mmissing\u001b[39m  │\n",
       "│ 7   │ 7      │ 1     │ 4     │ 0.0     │ 0.0576  │ 0.0     │ 1.0      │\n",
       "│ 8   │ 8      │ 2     │ 7     │ 0.0     │ 0.0625  │ 0.0     │ 1.0      │\n",
       "│ 9   │ 9      │ 3     │ 9     │ 0.0     │ 0.0586  │ 0.0     │ 1.0      │"
      ]
     },
     "execution_count": 11,
     "metadata": {},
     "output_type": "execute_result"
    }
   ],
   "source": [
    "Branch = DataFrame(XLSX.readtable(\"WSCC System.xlsx\", \"BranchData\", infer_eltypes=true)... )"
   ]
  },
  {
   "cell_type": "code",
   "execution_count": 12,
   "metadata": {},
   "outputs": [],
   "source": [
    "Gen = DataFrame(a = [0.001562, 0.00194, 0.00482], \n",
    "                b = [7.92, 7.85, 7.97],\n",
    "                c = [561, 310, 78],\n",
    "                Pmax = [600, 400, 200],\n",
    "                Pmin = [150, 100, 50],\n",
    "                RampUp = [30,20,30],\n",
    "                RampDown = [30,20,30],\n",
    "                MinUp = [2,3,2],\n",
    "                MinDown = [2,3,2]);"
   ]
  },
  {
   "cell_type": "code",
   "execution_count": 28,
   "metadata": {},
   "outputs": [
    {
     "data": {
      "text/plain": [
       "9"
      ]
     },
     "execution_count": 28,
     "metadata": {},
     "output_type": "execute_result"
    }
   ],
   "source": []
  },
  {
   "cell_type": "code",
   "execution_count": 29,
   "metadata": {},
   "outputs": [],
   "source": [
    "Bus = max(maximum(Branch.From),maximum(Branch.To))\n",
    "Gw = SimpleWeightedGraph(Bus)\n",
    "\n",
    "for i = 1:size(Branch,1)\n",
    "    add_edge!(Gw,Branch.From[i],Branch.To[i], 1/Branch.X[i])\n",
    "end\n",
    "\n",
    "Aw = Array(weights(Gw))\n",
    "Lw = Diagonal(sum(Aw,dims=1)[:])-Aw\n",
    "B = Lw;"
   ]
  },
  {
   "cell_type": "code",
   "execution_count": 8,
   "metadata": {},
   "outputs": [
    {
     "data": {
      "text/plain": [
       "10"
      ]
     },
     "execution_count": 8,
     "metadata": {},
     "output_type": "execute_result"
    }
   ],
   "source": [
    "T = 10"
   ]
  },
  {
   "cell_type": "code",
   "execution_count": 30,
   "metadata": {},
   "outputs": [
    {
     "data": {
      "text/plain": [
       "9×9 Array{Float64,2}:\n",
       "  17.3611    0.0    0.0     -17.3611  …    0.0        0.0        0.0    \n",
       "   0.0      16.0    0.0       0.0        -16.0        0.0        0.0    \n",
       "   0.0       0.0   17.0648    0.0          0.0        0.0      -17.0648 \n",
       " -17.3611    0.0    0.0      39.9954       0.0        0.0        0.0    \n",
       "   0.0       0.0    0.0     -11.7647      -6.21118    0.0        0.0    \n",
       "   0.0       0.0    0.0     -10.8696  …    0.0        0.0       -5.88235\n",
       "   0.0     -16.0    0.0       0.0         36.1001   -13.8889     0.0    \n",
       "   0.0       0.0    0.0       0.0        -13.8889    23.8095    -9.92063\n",
       "   0.0       0.0  -17.0648    0.0          0.0       -9.92063   32.8678 "
      ]
     },
     "execution_count": 30,
     "metadata": {},
     "output_type": "execute_result"
    }
   ],
   "source": [
    "B"
   ]
  },
  {
   "cell_type": "code",
   "execution_count": 179,
   "metadata": {},
   "outputs": [],
   "source": [
    "rng1 = 180:220; \n",
    "rng2 = 520:580; \n",
    "rng3 = 80:120;"
   ]
  },
  {
   "cell_type": "code",
   "execution_count": 180,
   "metadata": {},
   "outputs": [
    {
     "data": {
      "text/html": [
       "<table class=\"data-frame\"><thead><tr><th></th><th>L1</th><th>L2</th><th>L3</th></tr><tr><th></th><th>Int64</th><th>Int64</th><th>Int64</th></tr></thead><tbody><p>10 rows × 3 columns</p><tr><th>1</th><td>216</td><td>552</td><td>100</td></tr><tr><th>2</th><td>213</td><td>562</td><td>84</td></tr><tr><th>3</th><td>204</td><td>525</td><td>110</td></tr><tr><th>4</th><td>184</td><td>559</td><td>85</td></tr><tr><th>5</th><td>180</td><td>579</td><td>88</td></tr><tr><th>6</th><td>202</td><td>550</td><td>85</td></tr><tr><th>7</th><td>188</td><td>563</td><td>112</td></tr><tr><th>8</th><td>196</td><td>539</td><td>107</td></tr><tr><th>9</th><td>192</td><td>565</td><td>118</td></tr><tr><th>10</th><td>220</td><td>536</td><td>99</td></tr></tbody></table>"
      ],
      "text/latex": [
       "\\begin{tabular}{r|ccc}\n",
       "\t& L1 & L2 & L3\\\\\n",
       "\t\\hline\n",
       "\t& Int64 & Int64 & Int64\\\\\n",
       "\t\\hline\n",
       "\t1 & 216 & 552 & 100 \\\\\n",
       "\t2 & 213 & 562 & 84 \\\\\n",
       "\t3 & 204 & 525 & 110 \\\\\n",
       "\t4 & 184 & 559 & 85 \\\\\n",
       "\t5 & 180 & 579 & 88 \\\\\n",
       "\t6 & 202 & 550 & 85 \\\\\n",
       "\t7 & 188 & 563 & 112 \\\\\n",
       "\t8 & 196 & 539 & 107 \\\\\n",
       "\t9 & 192 & 565 & 118 \\\\\n",
       "\t10 & 220 & 536 & 99 \\\\\n",
       "\\end{tabular}\n"
      ],
      "text/plain": [
       "10×3 DataFrame\n",
       "│ Row │ L1    │ L2    │ L3    │\n",
       "│     │ \u001b[90mInt64\u001b[39m │ \u001b[90mInt64\u001b[39m │ \u001b[90mInt64\u001b[39m │\n",
       "├─────┼───────┼───────┼───────┤\n",
       "│ 1   │ 216   │ 552   │ 100   │\n",
       "│ 2   │ 213   │ 562   │ 84    │\n",
       "│ 3   │ 204   │ 525   │ 110   │\n",
       "│ 4   │ 184   │ 559   │ 85    │\n",
       "│ 5   │ 180   │ 579   │ 88    │\n",
       "│ 6   │ 202   │ 550   │ 85    │\n",
       "│ 7   │ 188   │ 563   │ 112   │\n",
       "│ 8   │ 196   │ 539   │ 107   │\n",
       "│ 9   │ 192   │ 565   │ 118   │\n",
       "│ 10  │ 220   │ 536   │ 99    │"
      ]
     },
     "execution_count": 180,
     "metadata": {},
     "output_type": "execute_result"
    }
   ],
   "source": [
    "Load = DataFrame(L1 = rand(rng1,T,) , \n",
    "                 L2 = rand(rng2,T,) , \n",
    "                 L3 = rand(rng3,T,) )"
   ]
  },
  {
   "cell_type": "code",
   "execution_count": 181,
   "metadata": {},
   "outputs": [],
   "source": [
    "LineLimit = [150, 1000, 1000];"
   ]
  },
  {
   "cell_type": "code",
   "execution_count": 240,
   "metadata": {},
   "outputs": [],
   "source": [
    "model = nothing"
   ]
  },
  {
   "cell_type": "code",
   "execution_count": 241,
   "metadata": {},
   "outputs": [],
   "source": [
    "model = Model(with_optimizer(MosekOptimizer, QUIET=false, INTPNT_CO_TOL_DFEAS=1e-7));"
   ]
  },
  {
   "cell_type": "code",
   "execution_count": 242,
   "metadata": {},
   "outputs": [],
   "source": [
    "@variable(model, P[1:3,1:T])\n",
    "@variable(model, u[1:3,1:T],Bin)\n",
    "@variable(model, Us[1:3,1:T],Bin)\n",
    "@variable(model, Vs[1:3,1:T],Bin)\n",
    "@variable(model, θ[1:3,1:T])\n",
    "for t = 1:T \n",
    "    fix( θ[1,t], 0, force = true);\n",
    "end"
   ]
  },
  {
   "cell_type": "code",
   "execution_count": 243,
   "metadata": {},
   "outputs": [],
   "source": [
    "@objective(model,Min, sum(Gen.a[i]*P[i,j]^2 + Gen.b[i]*P[i,j] + Gen.c[i] for i in 1:3 for j in 1:T));"
   ]
  },
  {
   "cell_type": "code",
   "execution_count": 244,
   "metadata": {},
   "outputs": [],
   "source": [
    "@constraint(model,LoadBalance[j = 1:T], sum(Load[j,i]   for i in 1:3) == sum(P[i,j] for i in 1:3));"
   ]
  },
  {
   "cell_type": "code",
   "execution_count": 245,
   "metadata": {},
   "outputs": [],
   "source": [
    "@constraint(model,PowerFlow[i = 1:3, k = 1:T], sum(100 * B[i,j] * (θ[i,k] - θ[j,k]) for j in 1:3) == P[i,k]  - Load[k,i] );"
   ]
  },
  {
   "cell_type": "code",
   "execution_count": 246,
   "metadata": {},
   "outputs": [
    {
     "data": {
      "text/plain": [
       "3-element Array{ConstraintRef{Model,C,Shape} where Shape<:AbstractShape where C,1}:\n",
       " PowerFlow[1,3] : -1800 θ[1,3] + 1000 θ[2,3] + 800 θ[3,3] - P[1,3] == -204.0\n",
       " PowerFlow[2,3] : -1500 θ[2,3] + 1000 θ[1,3] + 500 θ[3,3] - P[2,3] == -525.0\n",
       " PowerFlow[3,3] : -1300 θ[3,3] + 800 θ[1,3] + 500 θ[2,3] - P[3,3] == -110.0 "
      ]
     },
     "execution_count": 246,
     "metadata": {},
     "output_type": "execute_result"
    }
   ],
   "source": [
    "PowerFlow[:,3]"
   ]
  },
  {
   "cell_type": "code",
   "execution_count": 247,
   "metadata": {},
   "outputs": [],
   "source": [
    "@constraint(model,MaxPowerLimits[i = 1:3,j = 1:T],  P[i,j] <= Gen.Pmax[i]*u[i,j])\n",
    "@constraint(model,MinPowerLimits[i = 1:3,j = 1:T],  P[i,j] >= Gen.Pmin[i]*u[i,j]);"
   ]
  },
  {
   "cell_type": "code",
   "execution_count": 248,
   "metadata": {},
   "outputs": [
    {
     "data": {
      "text/plain": [
       "30"
      ]
     },
     "execution_count": 248,
     "metadata": {},
     "output_type": "execute_result"
    }
   ],
   "source": [
    "Gen.RampUp[1]"
   ]
  },
  {
   "cell_type": "code",
   "execution_count": 249,
   "metadata": {},
   "outputs": [],
   "source": [
    "@constraint(model,MaxLineLimit[i = 1:3, k = 1:T],sum(100 * B[i,j] * (θ[i,k] - θ[j,k]) for j in 1:3) <=  LineLimit[i])\n",
    "@constraint(model,MinLineLimit[i = 1:3, k = 1:T],sum(100 * B[i,j] * (θ[i,k] - θ[j,k]) for j in 1:3) >= -LineLimit[i]);"
   ]
  },
  {
   "cell_type": "code",
   "execution_count": 250,
   "metadata": {},
   "outputs": [],
   "source": [
    "@constraint(model,RampUpLimit[i = 1:3, j = 2:T], P[i,j] - P[i,j-1] <=  Gen.RampUp[i]*u[i,j])\n",
    "@constraint(model,RampDownLimit[i = 1:3, j = 2:T], P[i,j-1] - P[i,j] <=  Gen.RampDown[i]*u[i,j]);"
   ]
  },
  {
   "cell_type": "code",
   "execution_count": 251,
   "metadata": {},
   "outputs": [],
   "source": [
    "@constraint(model,UpStatus[i = 1:3, j = 2:T], u[i,j-1] - u[i,j] + Us[i,j] >=  0 );\n",
    "@constraint(model,DownStatus[i = 1:3, j = 2:T], u[i,j] - u[i,j-1] + Vs[i,j] >=  0 );\n",
    "@constraint(model,MinUp[i = 1:3, j = 2:T, k = j+1:min(j+Gen.MinUp[i]-1, T) ], u[i,j] - u[i,j-1]  <=  u[i,k] );\n",
    "@constraint(model,MinDown[i = 1:3, j = 2:T, k = j+1:min(j+Gen.MinDown[i]-1, T) ], u[i,j-1] - u[i,j]  <=  1 - u[i,k] );"
   ]
  },
  {
   "cell_type": "code",
   "execution_count": 252,
   "metadata": {},
   "outputs": [
    {
     "data": {
      "text/plain": [
       "JuMP.Containers.SparseAxisArray{ConstraintRef{Model,C,Shape} where Shape<:AbstractShape where C,3,Tuple{Any,Any,Any}} with 31 entries:\n",
       "  [2, 4, 6 ]  =  MinUp[2,4,6] : u[2,4] - u[2,3] - u[2,6] <= 0.0\n",
       "  [2, 2, 3 ]  =  MinUp[2,2,3] : u[2,2] - u[2,1] - u[2,3] <= 0.0\n",
       "  [3, 5, 6 ]  =  MinUp[3,5,6] : u[3,5] - u[3,4] - u[3,6] <= 0.0\n",
       "  [2, 5, 6 ]  =  MinUp[2,5,6] : u[2,5] - u[2,4] - u[2,6] <= 0.0\n",
       "  [3, 7, 8 ]  =  MinUp[3,7,8] : u[3,7] - u[3,6] - u[3,8] <= 0.0\n",
       "  [2, 2, 4 ]  =  MinUp[2,2,4] : u[2,2] - u[2,1] - u[2,4] <= 0.0\n",
       "  [2, 8, 10]  =  MinUp[2,8,10] : u[2,8] - u[2,7] - u[2,10] <= 0.0\n",
       "  [1, 4, 5 ]  =  MinUp[1,4,5] : u[1,4] - u[1,3] - u[1,5] <= 0.0\n",
       "  [1, 8, 9 ]  =  MinUp[1,8,9] : u[1,8] - u[1,7] - u[1,9] <= 0.0\n",
       "  [1, 9, 10]  =  MinUp[1,9,10] : u[1,9] - u[1,8] - u[1,10] <= 0.0\n",
       "              ⋮\n",
       "  [2, 4, 5 ]  =  MinUp[2,4,5] : u[2,4] - u[2,3] - u[2,5] <= 0.0\n",
       "  [3, 8, 9 ]  =  MinUp[3,8,9] : u[3,8] - u[3,7] - u[3,9] <= 0.0\n",
       "  [3, 6, 7 ]  =  MinUp[3,6,7] : u[3,6] - u[3,5] - u[3,7] <= 0.0\n",
       "  [3, 9, 10]  =  MinUp[3,9,10] : u[3,9] - u[3,8] - u[3,10] <= 0.0\n",
       "  [1, 3, 4 ]  =  MinUp[1,3,4] : u[1,3] - u[1,2] - u[1,4] <= 0.0\n",
       "  [1, 6, 7 ]  =  MinUp[1,6,7] : u[1,6] - u[1,5] - u[1,7] <= 0.0\n",
       "  [3, 2, 3 ]  =  MinUp[3,2,3] : u[3,2] - u[3,1] - u[3,3] <= 0.0\n",
       "  [3, 3, 4 ]  =  MinUp[3,3,4] : u[3,3] - u[3,2] - u[3,4] <= 0.0\n",
       "  [2, 8, 9 ]  =  MinUp[2,8,9] : u[2,8] - u[2,7] - u[2,9] <= 0.0\n",
       "  [2, 9, 10]  =  MinUp[2,9,10] : u[2,9] - u[2,8] - u[2,10] <= 0.0\n",
       "  [2, 7, 9 ]  =  MinUp[2,7,9] : u[2,7] - u[2,6] - u[2,9] <= 0.0"
      ]
     },
     "execution_count": 252,
     "metadata": {},
     "output_type": "execute_result"
    }
   ],
   "source": [
    "MinUp"
   ]
  },
  {
   "cell_type": "code",
   "execution_count": 229,
   "metadata": {},
   "outputs": [
    {
     "data": {
      "text/latex": [
       "$$ \\begin{alignat*}{1}\\min\\quad & 0.001562 P_{1,1}^2 + 0.001562 P_{1,2}^2 + 0.001562 P_{1,3}^2 + 0.001562 P_{1,4}^2 + 0.001562 P_{1,5}^2 + 0.001562 P_{1,6}^2 + 0.001562 P_{1,7}^2 + 0.001562 P_{1,8}^2 + 0.001562 P_{1,9}^2 + 0.001562 P_{1,10}^2 + 0.00194 P_{2,1}^2 + 0.00194 P_{2,2}^2 + 0.00194 P_{2,3}^2 + 0.00194 P_{2,4}^2 + 0.00194 P_{2,5}^2 + 0.00194 P_{2,6}^2 + 0.00194 P_{2,7}^2 + 0.00194 P_{2,8}^2 + 0.00194 P_{2,9}^2 + 0.00194 P_{2,10}^2 + 0.00482 P_{3,1}^2 + 0.00482 P_{3,2}^2 + 0.00482 P_{3,3}^2 + 0.00482 P_{3,4}^2 + 0.00482 P_{3,5}^2 + 0.00482 P_{3,6}^2 + 0.00482 P_{3,7}^2 + 0.00482 P_{3,8}^2 + 0.00482 P_{3,9}^2 + 0.00482 P_{3,10}^2 + 7.92 P_{1,1} + 7.92 P_{1,2} + 7.92 P_{1,3} + 7.92 P_{1,4} + 7.92 P_{1,5} + 7.92 P_{1,6} + 7.92 P_{1,7} + 7.92 P_{1,8} + 7.92 P_{1,9} + 7.92 P_{1,10} + 7.85 P_{2,1} + 7.85 P_{2,2} + 7.85 P_{2,3} + 7.85 P_{2,4} + 7.85 P_{2,5} + 7.85 P_{2,6} + 7.85 P_{2,7} + 7.85 P_{2,8} + 7.85 P_{2,9} + 7.85 P_{2,10} + 7.97 P_{3,1} + 7.97 P_{3,2} + 7.97 P_{3,3} + 7.97 P_{3,4} + 7.97 P_{3,5} + 7.97 P_{3,6} + 7.97 P_{3,7} + 7.97 P_{3,8} + 7.97 P_{3,9} + 7.97 P_{3,10} + 9490\\\\\n",
       "\\text{Subject to} \\quad & -P_{1,1} - P_{2,1} - P_{3,1} = -868.0\\\\\n",
       " & -P_{1,2} - P_{2,2} - P_{3,2} = -859.0\\\\\n",
       " & -P_{1,3} - P_{2,3} - P_{3,3} = -839.0\\\\\n",
       " & -P_{1,4} - P_{2,4} - P_{3,4} = -828.0\\\\\n",
       " & -P_{1,5} - P_{2,5} - P_{3,5} = -847.0\\\\\n",
       " & -P_{1,6} - P_{2,6} - P_{3,6} = -837.0\\\\\n",
       " & -P_{1,7} - P_{2,7} - P_{3,7} = -863.0\\\\\n",
       " & -P_{1,8} - P_{2,8} - P_{3,8} = -842.0\\\\\n",
       " & -P_{1,9} - P_{2,9} - P_{3,9} = -875.0\\\\\n",
       " & -P_{1,10} - P_{2,10} - P_{3,10} = -855.0\\\\\n",
       " & -1800 θ_{1,1} + 1000 θ_{2,1} + 800 θ_{3,1} - P_{1,1} = -216.0\\\\\n",
       " & -1800 θ_{1,2} + 1000 θ_{2,2} + 800 θ_{3,2} - P_{1,2} = -213.0\\\\\n",
       " & -1800 θ_{1,3} + 1000 θ_{2,3} + 800 θ_{3,3} - P_{1,3} = -204.0\\\\\n",
       " & -1800 θ_{1,4} + 1000 θ_{2,4} + 800 θ_{3,4} - P_{1,4} = -184.0\\\\\n",
       " & -1800 θ_{1,5} + 1000 θ_{2,5} + 800 θ_{3,5} - P_{1,5} = -180.0\\\\\n",
       " & -1800 θ_{1,6} + 1000 θ_{2,6} + 800 θ_{3,6} - P_{1,6} = -202.0\\\\\n",
       " & -1800 θ_{1,7} + 1000 θ_{2,7} + 800 θ_{3,7} - P_{1,7} = -188.0\\\\\n",
       " & -1800 θ_{1,8} + 1000 θ_{2,8} + 800 θ_{3,8} - P_{1,8} = -196.0\\\\\n",
       " & -1800 θ_{1,9} + 1000 θ_{2,9} + 800 θ_{3,9} - P_{1,9} = -192.0\\\\\n",
       " & -1800 θ_{1,10} + 1000 θ_{2,10} + 800 θ_{3,10} - P_{1,10} = -220.0\\\\\n",
       " & -1500 θ_{2,1} + 1000 θ_{1,1} + 500 θ_{3,1} - P_{2,1} = -552.0\\\\\n",
       " & -1500 θ_{2,2} + 1000 θ_{1,2} + 500 θ_{3,2} - P_{2,2} = -562.0\\\\\n",
       " & -1500 θ_{2,3} + 1000 θ_{1,3} + 500 θ_{3,3} - P_{2,3} = -525.0\\\\\n",
       " & -1500 θ_{2,4} + 1000 θ_{1,4} + 500 θ_{3,4} - P_{2,4} = -559.0\\\\\n",
       " & -1500 θ_{2,5} + 1000 θ_{1,5} + 500 θ_{3,5} - P_{2,5} = -579.0\\\\\n",
       " & -1500 θ_{2,6} + 1000 θ_{1,6} + 500 θ_{3,6} - P_{2,6} = -550.0\\\\\n",
       " & -1500 θ_{2,7} + 1000 θ_{1,7} + 500 θ_{3,7} - P_{2,7} = -563.0\\\\\n",
       " & -1500 θ_{2,8} + 1000 θ_{1,8} + 500 θ_{3,8} - P_{2,8} = -539.0\\\\\n",
       " & -1500 θ_{2,9} + 1000 θ_{1,9} + 500 θ_{3,9} - P_{2,9} = -565.0\\\\\n",
       " & -1500 θ_{2,10} + 1000 θ_{1,10} + 500 θ_{3,10} - P_{2,10} = -536.0\\\\\n",
       " & -1300 θ_{3,1} + 800 θ_{1,1} + 500 θ_{2,1} - P_{3,1} = -100.0\\\\\n",
       " & -1300 θ_{3,2} + 800 θ_{1,2} + 500 θ_{2,2} - P_{3,2} = -84.0\\\\\n",
       " & -1300 θ_{3,3} + 800 θ_{1,3} + 500 θ_{2,3} - P_{3,3} = -110.0\\\\\n",
       " & -1300 θ_{3,4} + 800 θ_{1,4} + 500 θ_{2,4} - P_{3,4} = -85.0\\\\\n",
       " & -1300 θ_{3,5} + 800 θ_{1,5} + 500 θ_{2,5} - P_{3,5} = -88.0\\\\\n",
       " & -1300 θ_{3,6} + 800 θ_{1,6} + 500 θ_{2,6} - P_{3,6} = -85.0\\\\\n",
       " & -1300 θ_{3,7} + 800 θ_{1,7} + 500 θ_{2,7} - P_{3,7} = -112.0\\\\\n",
       " & -1300 θ_{3,8} + 800 θ_{1,8} + 500 θ_{2,8} - P_{3,8} = -107.0\\\\\n",
       " & -1300 θ_{3,9} + 800 θ_{1,9} + 500 θ_{2,9} - P_{3,9} = -118.0\\\\\n",
       " & -1300 θ_{3,10} + 800 θ_{1,10} + 500 θ_{2,10} - P_{3,10} = -99.0\\\\\n",
       " & P_{1,1} - 150 u_{1,1} \\geq 0.0\\\\\n",
       " & P_{1,2} - 150 u_{1,2} \\geq 0.0\\\\\n",
       " & P_{1,3} - 150 u_{1,3} \\geq 0.0\\\\\n",
       " & P_{1,4} - 150 u_{1,4} \\geq 0.0\\\\\n",
       " & P_{1,5} - 150 u_{1,5} \\geq 0.0\\\\\n",
       " & P_{1,6} - 150 u_{1,6} \\geq 0.0\\\\\n",
       " & P_{1,7} - 150 u_{1,7} \\geq 0.0\\\\\n",
       " & P_{1,8} - 150 u_{1,8} \\geq 0.0\\\\\n",
       " & P_{1,9} - 150 u_{1,9} \\geq 0.0\\\\\n",
       " & P_{1,10} - 150 u_{1,10} \\geq 0.0\\\\\n",
       " & P_{2,1} - 100 u_{2,1} \\geq 0.0\\\\\n",
       " & P_{2,2} - 100 u_{2,2} \\geq 0.0\\\\\n",
       " & P_{2,3} - 100 u_{2,3} \\geq 0.0\\\\\n",
       " & P_{2,4} - 100 u_{2,4} \\geq 0.0\\\\\n",
       " & P_{2,5} - 100 u_{2,5} \\geq 0.0\\\\\n",
       " & P_{2,6} - 100 u_{2,6} \\geq 0.0\\\\\n",
       " & P_{2,7} - 100 u_{2,7} \\geq 0.0\\\\\n",
       " & P_{2,8} - 100 u_{2,8} \\geq 0.0\\\\\n",
       " & P_{2,9} - 100 u_{2,9} \\geq 0.0\\\\\n",
       " & P_{2,10} - 100 u_{2,10} \\geq 0.0\\\\\n",
       " & P_{3,1} - 50 u_{3,1} \\geq 0.0\\\\\n",
       " & P_{3,2} - 50 u_{3,2} \\geq 0.0\\\\\n",
       " & P_{3,3} - 50 u_{3,3} \\geq 0.0\\\\\n",
       " & P_{3,4} - 50 u_{3,4} \\geq 0.0\\\\\n",
       " & P_{3,5} - 50 u_{3,5} \\geq 0.0\\\\\n",
       " & P_{3,6} - 50 u_{3,6} \\geq 0.0\\\\\n",
       " & P_{3,7} - 50 u_{3,7} \\geq 0.0\\\\\n",
       " & P_{3,8} - 50 u_{3,8} \\geq 0.0\\\\\n",
       " & P_{3,9} - 50 u_{3,9} \\geq 0.0\\\\\n",
       " & P_{3,10} - 50 u_{3,10} \\geq 0.0\\\\\n",
       " & -1800 θ_{1,1} + 1000 θ_{2,1} + 800 θ_{3,1} \\geq -150.0\\\\\n",
       " & -1800 θ_{1,2} + 1000 θ_{2,2} + 800 θ_{3,2} \\geq -150.0\\\\\n",
       " & -1800 θ_{1,3} + 1000 θ_{2,3} + 800 θ_{3,3} \\geq -150.0\\\\\n",
       " & -1800 θ_{1,4} + 1000 θ_{2,4} + 800 θ_{3,4} \\geq -150.0\\\\\n",
       " & -1800 θ_{1,5} + 1000 θ_{2,5} + 800 θ_{3,5} \\geq -150.0\\\\\n",
       " & -1800 θ_{1,6} + 1000 θ_{2,6} + 800 θ_{3,6} \\geq -150.0\\\\\n",
       " & -1800 θ_{1,7} + 1000 θ_{2,7} + 800 θ_{3,7} \\geq -150.0\\\\\n",
       " & -1800 θ_{1,8} + 1000 θ_{2,8} + 800 θ_{3,8} \\geq -150.0\\\\\n",
       " & -1800 θ_{1,9} + 1000 θ_{2,9} + 800 θ_{3,9} \\geq -150.0\\\\\n",
       " & -1800 θ_{1,10} + 1000 θ_{2,10} + 800 θ_{3,10} \\geq -150.0\\\\\n",
       " & -1500 θ_{2,1} + 1000 θ_{1,1} + 500 θ_{3,1} \\geq -1000.0\\\\\n",
       " & -1500 θ_{2,2} + 1000 θ_{1,2} + 500 θ_{3,2} \\geq -1000.0\\\\\n",
       " & -1500 θ_{2,3} + 1000 θ_{1,3} + 500 θ_{3,3} \\geq -1000.0\\\\\n",
       " & -1500 θ_{2,4} + 1000 θ_{1,4} + 500 θ_{3,4} \\geq -1000.0\\\\\n",
       " & -1500 θ_{2,5} + 1000 θ_{1,5} + 500 θ_{3,5} \\geq -1000.0\\\\\n",
       " & -1500 θ_{2,6} + 1000 θ_{1,6} + 500 θ_{3,6} \\geq -1000.0\\\\\n",
       " & -1500 θ_{2,7} + 1000 θ_{1,7} + 500 θ_{3,7} \\geq -1000.0\\\\\n",
       " & -1500 θ_{2,8} + 1000 θ_{1,8} + 500 θ_{3,8} \\geq -1000.0\\\\\n",
       " & -1500 θ_{2,9} + 1000 θ_{1,9} + 500 θ_{3,9} \\geq -1000.0\\\\\n",
       " & -1500 θ_{2,10} + 1000 θ_{1,10} + 500 θ_{3,10} \\geq -1000.0\\\\\n",
       " & -1300 θ_{3,1} + 800 θ_{1,1} + 500 θ_{2,1} \\geq -1000.0\\\\\n",
       " & -1300 θ_{3,2} + 800 θ_{1,2} + 500 θ_{2,2} \\geq -1000.0\\\\\n",
       " & -1300 θ_{3,3} + 800 θ_{1,3} + 500 θ_{2,3} \\geq -1000.0\\\\\n",
       " & -1300 θ_{3,4} + 800 θ_{1,4} + 500 θ_{2,4} \\geq -1000.0\\\\\n",
       " & -1300 θ_{3,5} + 800 θ_{1,5} + 500 θ_{2,5} \\geq -1000.0\\\\\n",
       " & -1300 θ_{3,6} + 800 θ_{1,6} + 500 θ_{2,6} \\geq -1000.0\\\\\n",
       " & -1300 θ_{3,7} + 800 θ_{1,7} + 500 θ_{2,7} \\geq -1000.0\\\\\n",
       " & -1300 θ_{3,8} + 800 θ_{1,8} + 500 θ_{2,8} \\geq -1000.0\\\\\n",
       " & -1300 θ_{3,9} + 800 θ_{1,9} + 500 θ_{2,9} \\geq -1000.0\\\\\n",
       " & -1300 θ_{3,10} + 800 θ_{1,10} + 500 θ_{2,10} \\geq -1000.0\\\\\n",
       " & P_{1,1} - 600 u_{1,1} \\leq 0.0\\\\\n",
       " & P_{1,2} - 600 u_{1,2} \\leq 0.0\\\\\n",
       " & P_{1,3} - 600 u_{1,3} \\leq 0.0\\\\\n",
       " & P_{1,4} - 600 u_{1,4} \\leq 0.0\\\\\n",
       " & P_{1,5} - 600 u_{1,5} \\leq 0.0\\\\\n",
       " & P_{1,6} - 600 u_{1,6} \\leq 0.0\\\\\n",
       " & P_{1,7} - 600 u_{1,7} \\leq 0.0\\\\\n",
       " & P_{1,8} - 600 u_{1,8} \\leq 0.0\\\\\n",
       " & P_{1,9} - 600 u_{1,9} \\leq 0.0\\\\\n",
       " & P_{1,10} - 600 u_{1,10} \\leq 0.0\\\\\n",
       " & P_{2,1} - 400 u_{2,1} \\leq 0.0\\\\\n",
       " & P_{2,2} - 400 u_{2,2} \\leq 0.0\\\\\n",
       " & P_{2,3} - 400 u_{2,3} \\leq 0.0\\\\\n",
       " & P_{2,4} - 400 u_{2,4} \\leq 0.0\\\\\n",
       " & P_{2,5} - 400 u_{2,5} \\leq 0.0\\\\\n",
       " & P_{2,6} - 400 u_{2,6} \\leq 0.0\\\\\n",
       " & P_{2,7} - 400 u_{2,7} \\leq 0.0\\\\\n",
       " & P_{2,8} - 400 u_{2,8} \\leq 0.0\\\\\n",
       " & P_{2,9} - 400 u_{2,9} \\leq 0.0\\\\\n",
       " & P_{2,10} - 400 u_{2,10} \\leq 0.0\\\\\n",
       " & P_{3,1} - 200 u_{3,1} \\leq 0.0\\\\\n",
       " & P_{3,2} - 200 u_{3,2} \\leq 0.0\\\\\n",
       " & P_{3,3} - 200 u_{3,3} \\leq 0.0\\\\\n",
       " & P_{3,4} - 200 u_{3,4} \\leq 0.0\\\\\n",
       " & P_{3,5} - 200 u_{3,5} \\leq 0.0\\\\\n",
       " & P_{3,6} - 200 u_{3,6} \\leq 0.0\\\\\n",
       " & P_{3,7} - 200 u_{3,7} \\leq 0.0\\\\\n",
       " & P_{3,8} - 200 u_{3,8} \\leq 0.0\\\\\n",
       " & P_{3,9} - 200 u_{3,9} \\leq 0.0\\\\\n",
       " & P_{3,10} - 200 u_{3,10} \\leq 0.0\\\\\n",
       " & -1800 θ_{1,1} + 1000 θ_{2,1} + 800 θ_{3,1} \\leq 150.0\\\\\n",
       " & -1800 θ_{1,2} + 1000 θ_{2,2} + 800 θ_{3,2} \\leq 150.0\\\\\n",
       " & -1800 θ_{1,3} + 1000 θ_{2,3} + 800 θ_{3,3} \\leq 150.0\\\\\n",
       " & -1800 θ_{1,4} + 1000 θ_{2,4} + 800 θ_{3,4} \\leq 150.0\\\\\n",
       " & -1800 θ_{1,5} + 1000 θ_{2,5} + 800 θ_{3,5} \\leq 150.0\\\\\n",
       " & -1800 θ_{1,6} + 1000 θ_{2,6} + 800 θ_{3,6} \\leq 150.0\\\\\n",
       " & -1800 θ_{1,7} + 1000 θ_{2,7} + 800 θ_{3,7} \\leq 150.0\\\\\n",
       " & -1800 θ_{1,8} + 1000 θ_{2,8} + 800 θ_{3,8} \\leq 150.0\\\\\n",
       " & -1800 θ_{1,9} + 1000 θ_{2,9} + 800 θ_{3,9} \\leq 150.0\\\\\n",
       " & -1800 θ_{1,10} + 1000 θ_{2,10} + 800 θ_{3,10} \\leq 150.0\\\\\n",
       " & -1500 θ_{2,1} + 1000 θ_{1,1} + 500 θ_{3,1} \\leq 1000.0\\\\\n",
       " & -1500 θ_{2,2} + 1000 θ_{1,2} + 500 θ_{3,2} \\leq 1000.0\\\\\n",
       " & -1500 θ_{2,3} + 1000 θ_{1,3} + 500 θ_{3,3} \\leq 1000.0\\\\\n",
       " & -1500 θ_{2,4} + 1000 θ_{1,4} + 500 θ_{3,4} \\leq 1000.0\\\\\n",
       " & -1500 θ_{2,5} + 1000 θ_{1,5} + 500 θ_{3,5} \\leq 1000.0\\\\\n",
       " & -1500 θ_{2,6} + 1000 θ_{1,6} + 500 θ_{3,6} \\leq 1000.0\\\\\n",
       " & -1500 θ_{2,7} + 1000 θ_{1,7} + 500 θ_{3,7} \\leq 1000.0\\\\\n",
       " & -1500 θ_{2,8} + 1000 θ_{1,8} + 500 θ_{3,8} \\leq 1000.0\\\\\n",
       " & -1500 θ_{2,9} + 1000 θ_{1,9} + 500 θ_{3,9} \\leq 1000.0\\\\\n",
       " & -1500 θ_{2,10} + 1000 θ_{1,10} + 500 θ_{3,10} \\leq 1000.0\\\\\n",
       " & -1300 θ_{3,1} + 800 θ_{1,1} + 500 θ_{2,1} \\leq 1000.0\\\\\n",
       " & -1300 θ_{3,2} + 800 θ_{1,2} + 500 θ_{2,2} \\leq 1000.0\\\\\n",
       " & -1300 θ_{3,3} + 800 θ_{1,3} + 500 θ_{2,3} \\leq 1000.0\\\\\n",
       " & -1300 θ_{3,4} + 800 θ_{1,4} + 500 θ_{2,4} \\leq 1000.0\\\\\n",
       " & -1300 θ_{3,5} + 800 θ_{1,5} + 500 θ_{2,5} \\leq 1000.0\\\\\n",
       " & -1300 θ_{3,6} + 800 θ_{1,6} + 500 θ_{2,6} \\leq 1000.0\\\\\n",
       " & -1300 θ_{3,7} + 800 θ_{1,7} + 500 θ_{2,7} \\leq 1000.0\\\\\n",
       " & -1300 θ_{3,8} + 800 θ_{1,8} + 500 θ_{2,8} \\leq 1000.0\\\\\n",
       " & -1300 θ_{3,9} + 800 θ_{1,9} + 500 θ_{2,9} \\leq 1000.0\\\\\n",
       " & -1300 θ_{3,10} + 800 θ_{1,10} + 500 θ_{2,10} \\leq 1000.0\\\\\n",
       " & P_{1,2} - P_{1,1} - 30 u_{1,2} \\leq 0.0\\\\\n",
       " & P_{1,3} - P_{1,2} - 30 u_{1,3} \\leq 0.0\\\\\n",
       " & P_{1,4} - P_{1,3} - 30 u_{1,4} \\leq 0.0\\\\\n",
       " & P_{1,5} - P_{1,4} - 30 u_{1,5} \\leq 0.0\\\\\n",
       " & P_{1,6} - P_{1,5} - 30 u_{1,6} \\leq 0.0\\\\\n",
       " & P_{1,7} - P_{1,6} - 30 u_{1,7} \\leq 0.0\\\\\n",
       " & P_{1,8} - P_{1,7} - 30 u_{1,8} \\leq 0.0\\\\\n",
       " & P_{1,9} - P_{1,8} - 30 u_{1,9} \\leq 0.0\\\\\n",
       " & P_{1,10} - P_{1,9} - 30 u_{1,10} \\leq 0.0\\\\\n",
       " & P_{2,2} - P_{2,1} - 20 u_{2,2} \\leq 0.0\\\\\n",
       " & P_{2,3} - P_{2,2} - 20 u_{2,3} \\leq 0.0\\\\\n",
       " & P_{2,4} - P_{2,3} - 20 u_{2,4} \\leq 0.0\\\\\n",
       " & P_{2,5} - P_{2,4} - 20 u_{2,5} \\leq 0.0\\\\\n",
       " & P_{2,6} - P_{2,5} - 20 u_{2,6} \\leq 0.0\\\\\n",
       " & P_{2,7} - P_{2,6} - 20 u_{2,7} \\leq 0.0\\\\\n",
       " & P_{2,8} - P_{2,7} - 20 u_{2,8} \\leq 0.0\\\\\n",
       " & P_{2,9} - P_{2,8} - 20 u_{2,9} \\leq 0.0\\\\\n",
       " & P_{2,10} - P_{2,9} - 20 u_{2,10} \\leq 0.0\\\\\n",
       " & P_{3,2} - P_{3,1} - 30 u_{3,2} \\leq 0.0\\\\\n",
       " & P_{3,3} - P_{3,2} - 30 u_{3,3} \\leq 0.0\\\\\n",
       " & P_{3,4} - P_{3,3} - 30 u_{3,4} \\leq 0.0\\\\\n",
       " & P_{3,5} - P_{3,4} - 30 u_{3,5} \\leq 0.0\\\\\n",
       " & P_{3,6} - P_{3,5} - 30 u_{3,6} \\leq 0.0\\\\\n",
       " & P_{3,7} - P_{3,6} - 30 u_{3,7} \\leq 0.0\\\\\n",
       " & P_{3,8} - P_{3,7} - 30 u_{3,8} \\leq 0.0\\\\\n",
       " & P_{3,9} - P_{3,8} - 30 u_{3,9} \\leq 0.0\\\\\n",
       " & P_{3,10} - P_{3,9} - 30 u_{3,10} \\leq 0.0\\\\\n",
       " & P_{1,1} - P_{1,2} - 30 u_{1,2} \\leq 0.0\\\\\n",
       " & P_{1,2} - P_{1,3} - 30 u_{1,3} \\leq 0.0\\\\\n",
       " & P_{1,3} - P_{1,4} - 30 u_{1,4} \\leq 0.0\\\\\n",
       " & P_{1,4} - P_{1,5} - 30 u_{1,5} \\leq 0.0\\\\\n",
       " & P_{1,5} - P_{1,6} - 30 u_{1,6} \\leq 0.0\\\\\n",
       " & P_{1,6} - P_{1,7} - 30 u_{1,7} \\leq 0.0\\\\\n",
       " & P_{1,7} - P_{1,8} - 30 u_{1,8} \\leq 0.0\\\\\n",
       " & P_{1,8} - P_{1,9} - 30 u_{1,9} \\leq 0.0\\\\\n",
       " & P_{1,9} - P_{1,10} - 30 u_{1,10} \\leq 0.0\\\\\n",
       " & P_{2,1} - P_{2,2} - 20 u_{2,2} \\leq 0.0\\\\\n",
       " & P_{2,2} - P_{2,3} - 20 u_{2,3} \\leq 0.0\\\\\n",
       " & P_{2,3} - P_{2,4} - 20 u_{2,4} \\leq 0.0\\\\\n",
       " & P_{2,4} - P_{2,5} - 20 u_{2,5} \\leq 0.0\\\\\n",
       " & P_{2,5} - P_{2,6} - 20 u_{2,6} \\leq 0.0\\\\\n",
       " & P_{2,6} - P_{2,7} - 20 u_{2,7} \\leq 0.0\\\\\n",
       " & P_{2,7} - P_{2,8} - 20 u_{2,8} \\leq 0.0\\\\\n",
       " & P_{2,8} - P_{2,9} - 20 u_{2,9} \\leq 0.0\\\\\n",
       " & P_{2,9} - P_{2,10} - 20 u_{2,10} \\leq 0.0\\\\\n",
       " & P_{3,1} - P_{3,2} - 30 u_{3,2} \\leq 0.0\\\\\n",
       " & P_{3,2} - P_{3,3} - 30 u_{3,3} \\leq 0.0\\\\\n",
       " & P_{3,3} - P_{3,4} - 30 u_{3,4} \\leq 0.0\\\\\n",
       " & P_{3,4} - P_{3,5} - 30 u_{3,5} \\leq 0.0\\\\\n",
       " & P_{3,5} - P_{3,6} - 30 u_{3,6} \\leq 0.0\\\\\n",
       " & P_{3,6} - P_{3,7} - 30 u_{3,7} \\leq 0.0\\\\\n",
       " & P_{3,7} - P_{3,8} - 30 u_{3,8} \\leq 0.0\\\\\n",
       " & P_{3,8} - P_{3,9} - 30 u_{3,9} \\leq 0.0\\\\\n",
       " & P_{3,9} - P_{3,10} - 30 u_{3,10} \\leq 0.0\\\\\n",
       " & θ_{1,1} = 0.0\\\\\n",
       " & θ_{1,2} = 0.0\\\\\n",
       " & θ_{1,3} = 0.0\\\\\n",
       " & θ_{1,4} = 0.0\\\\\n",
       " & θ_{1,5} = 0.0\\\\\n",
       " & θ_{1,6} = 0.0\\\\\n",
       " & θ_{1,7} = 0.0\\\\\n",
       " & θ_{1,8} = 0.0\\\\\n",
       " & θ_{1,9} = 0.0\\\\\n",
       " & θ_{1,10} = 0.0\\\\\n",
       " & u_{1,1} binary\\\\\n",
       " & u_{1,2} binary\\\\\n",
       " & u_{1,3} binary\\\\\n",
       " & u_{1,4} binary\\\\\n",
       " & u_{1,5} binary\\\\\n",
       " & u_{1,6} binary\\\\\n",
       " & u_{1,7} binary\\\\\n",
       " & u_{1,8} binary\\\\\n",
       " & u_{1,9} binary\\\\\n",
       " & u_{1,10} binary\\\\\n",
       " & u_{2,1} binary\\\\\n",
       " & u_{2,2} binary\\\\\n",
       " & u_{2,3} binary\\\\\n",
       " & u_{2,4} binary\\\\\n",
       " & u_{2,5} binary\\\\\n",
       " & u_{2,6} binary\\\\\n",
       " & u_{2,7} binary\\\\\n",
       " & u_{2,8} binary\\\\\n",
       " & u_{2,9} binary\\\\\n",
       " & u_{2,10} binary\\\\\n",
       " & u_{3,1} binary\\\\\n",
       " & u_{3,2} binary\\\\\n",
       " & u_{3,3} binary\\\\\n",
       " & u_{3,4} binary\\\\\n",
       " & u_{3,5} binary\\\\\n",
       " & u_{3,6} binary\\\\\n",
       " & u_{3,7} binary\\\\\n",
       " & u_{3,8} binary\\\\\n",
       " & u_{3,9} binary\\\\\n",
       " & u_{3,10} binary\\\\\n",
       "\\end{alignat*}\n",
       " $$"
      ],
      "text/plain": [
       "A JuMP Model\n",
       "Minimization problem with:\n",
       "Variables: 90\n",
       "Objective function type: GenericQuadExpr{Float64,VariableRef}\n",
       "`GenericAffExpr{Float64,VariableRef}`-in-`MathOptInterface.EqualTo{Float64}`: 40 constraints\n",
       "`GenericAffExpr{Float64,VariableRef}`-in-`MathOptInterface.GreaterThan{Float64}`: 60 constraints\n",
       "`GenericAffExpr{Float64,VariableRef}`-in-`MathOptInterface.LessThan{Float64}`: 114 constraints\n",
       "`VariableRef`-in-`MathOptInterface.EqualTo{Float64}`: 10 constraints\n",
       "`VariableRef`-in-`MathOptInterface.ZeroOne`: 30 constraints\n",
       "Model mode: AUTOMATIC\n",
       "CachingOptimizer state: EMPTY_OPTIMIZER\n",
       "Solver name: Mosek\n",
       "Names registered in the model: LoadBalance, MaxLineLimit, MaxPowerLimits, MinLineLimit, MinPowerLimits, P, PowerFlow, RampDownLimit, RampUpLimit, u, θ"
      ]
     },
     "execution_count": 229,
     "metadata": {},
     "output_type": "execute_result"
    }
   ],
   "source": [
    "model"
   ]
  },
  {
   "cell_type": "code",
   "execution_count": 230,
   "metadata": {},
   "outputs": [
    {
     "name": "stdout",
     "output_type": "stream",
     "text": [
      "Problem\n",
      "  Name                   :                 \n",
      "  Objective sense        : min             \n",
      "  Type                   : CONIC (conic optimization problem)\n",
      "  Constraints            : 246             \n",
      "  Cones                  : 1               \n",
      "  Scalar variables       : 123             \n",
      "  Matrix variables       : 0               \n",
      "  Integer variables      : 30              \n",
      "\n",
      "Optimizer started.\n",
      "Mixed integer optimizer started.\n",
      "Threads used: 4\n",
      "Presolve started.\n",
      "Presolve terminated. Time = 0.00\n",
      "Presolved problem: 62 variables, 126 constraints, 310 non-zeros\n",
      "Presolved problem: 0 general integer, 10 binary, 52 continuous\n",
      "Clique table size: 18\n",
      "BRANCHES RELAXS   ACT_NDS  DEPTH    BEST_INT_OBJ         BEST_RELAX_OBJ       REL_GAP(%)  TIME  \n",
      "0        1        0        0        NA                   8.2127629179e+04     NA          0.0   \n",
      "0        1        0        0        8.2127629178e+04     8.2127629178e+04     0.00e+00    0.0   \n",
      "An optimal solution satisfying the relative gap tolerance of 1.00e-02(%) has been located.\n",
      "The relative gap is 0.00e+00(%).\n",
      "An optimal solution satisfying the absolute gap tolerance of 0.00e+00 has been located.\n",
      "The absolute gap is 0.00e+00.\n",
      "\n",
      "Objective of best integer solution : 8.212762917846e+04      \n",
      "Best objective bound               : 8.212762917892e+04      \n",
      "Construct solution objective       : Not employed\n",
      "Construct solution # roundings     : 0\n",
      "User objective cut value           : 0\n",
      "Number of cuts generated           : 0\n",
      "Number of branches                 : 0\n",
      "Number of relaxations solved       : 1\n",
      "Number of interior point iterations: 15\n",
      "Number of simplex iterations       : 0\n",
      "Time spend presolving the root     : 0.00\n",
      "Time spend in the heuristic        : 0.00\n",
      "Time spend in the sub optimizers   : 0.00\n",
      "  Time spend optimizing the root   : 0.02\n",
      "Mixed integer optimizer terminated. Time: 0.03\n",
      "\n",
      "Optimizer terminated. Time: 0.03    \n",
      "\n"
     ]
    }
   ],
   "source": [
    "optimize!(model)"
   ]
  },
  {
   "cell_type": "code",
   "execution_count": 217,
   "metadata": {},
   "outputs": [
    {
     "data": {
      "text/plain": [
       "3×10 Array{Float64,2}:\n",
       " 0.0       0.0        0.0        0.0       …  0.0        0.0        0.0      \n",
       " 0.131266  0.137985   0.124264   0.137244     0.127161   0.126982   0.12944  \n",
       " 0.023418  0.0150191  0.0321702  0.015945     0.0285486  0.0287731  0.0256996"
      ]
     },
     "execution_count": 217,
     "metadata": {},
     "output_type": "execute_result"
    }
   ],
   "source": [
    "value.(θ)"
   ]
  },
  {
   "cell_type": "code",
   "execution_count": 232,
   "metadata": {},
   "outputs": [
    {
     "data": {
      "text/plain": [
       "-131.26557521886042"
      ]
     },
     "execution_count": 232,
     "metadata": {},
     "output_type": "execute_result"
    }
   ],
   "source": [
    "100*B[2,1]*(value(θ[2])-value(θ[1]))"
   ]
  },
  {
   "cell_type": "code",
   "execution_count": 233,
   "metadata": {},
   "outputs": [
    {
     "data": {
      "text/plain": [
       "131.26557521886042"
      ]
     },
     "execution_count": 233,
     "metadata": {},
     "output_type": "execute_result"
    }
   ],
   "source": [
    "100*B[1,2]*(value(θ[1])-value(θ[2]))"
   ]
  },
  {
   "cell_type": "code",
   "execution_count": null,
   "metadata": {},
   "outputs": [],
   "source": []
  }
 ],
 "metadata": {
  "@webio": {
   "lastCommId": null,
   "lastKernelId": null
  },
  "kernelspec": {
   "display_name": "Julia 1.2.0",
   "language": "julia",
   "name": "julia-1.2"
  },
  "language_info": {
   "file_extension": ".jl",
   "mimetype": "application/julia",
   "name": "julia",
   "version": "1.2.0"
  }
 },
 "nbformat": 4,
 "nbformat_minor": 2
}
