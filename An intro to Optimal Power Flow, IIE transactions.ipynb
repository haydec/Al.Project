{
 "cells": [
  {
   "cell_type": "code",
   "execution_count": 1,
   "metadata": {},
   "outputs": [],
   "source": [
    "using DataFrames, XLSX, DataFramesMeta, DataStructures;\n",
    "using LinearAlgebra, HDF5;\n",
    "using JuMP,Ipopt;"
   ]
  },
  {
   "cell_type": "markdown",
   "metadata": {},
   "source": []
  },
  {
   "cell_type": "code",
   "execution_count": 2,
   "metadata": {},
   "outputs": [
    {
     "data": {
      "text/plain": [
       "5"
      ]
     },
     "execution_count": 2,
     "metadata": {},
     "output_type": "execute_result"
    }
   ],
   "source": [
    "TestData = DataFrame(From = [ 1, 1, 2, 3, 3, 4], To = [ 2, 3, 4, 4, 5, 5], \n",
    "    R = [ 0.0, 0.023, 0.006, 0.020, 0.0, 0.0], X = [ 0.3, 0.145, 0.032, 0.260, 0.320, 0.500], \n",
    "    Bsh = [ 0.0, 0.040, 0.010, 0.0, 0.0, 0.0], T = [ 1.0, 1.0, 1.0, 1.0, 0.98,1], \n",
    "    ϕ = [ 0.0, 0.0, 0.0, -3.0, 0.0, 0.0]);\n",
    "Zsh = [ 0.0+0.0*im 0.0+0.3*im 0.05+0.0*im 0.0+0.0*im 0.0+0.0*im]; \n",
    "BusNum = 5"
   ]
  },
  {
   "cell_type": "markdown",
   "metadata": {},
   "source": []
  },
  {
   "cell_type": "code",
   "execution_count": 3,
   "metadata": {},
   "outputs": [],
   "source": [
    "R = TestData.R; X = TestData.X; Bsh = TestData.Bsh; T = TestData.T; ϕ = TestData.ϕ;\n",
    "Y = (R + X*im).^-1; G = real(Y); B = imag(Y);\n",
    "insertcols!(TestData, 3, Y = Y);"
   ]
  },
  {
   "cell_type": "code",
   "execution_count": null,
   "metadata": {},
   "outputs": [],
   "source": []
  },
  {
   "cell_type": "code",
   "execution_count": 4,
   "metadata": {},
   "outputs": [],
   "source": [
    "Yd = Dict{Tuple{Int64, Int64}, Complex{Float64}}();   # Admittance Matrix\n",
    "Bshd = Dict{Tuple{Int64, Int64}, Float64}(); # Shunt Susceptance Dictionary\n",
    "Td = Dict{Tuple{Int64, Int64}, Float64}();   # Nominal Transformer\n",
    "ϕd = Dict{Tuple{Int64, Int64}, Float64}();   # Transformer Phase Shift\n",
    "Y =  Dict{Tuple{Int64, Int64}, Complex{Float64}}(); # Diagnol ELements of Admittance Matrix"
   ]
  },
  {
   "cell_type": "markdown",
   "metadata": {},
   "source": [
    "### Aquire Line Parameters from Data Frame"
   ]
  },
  {
   "cell_type": "code",
   "execution_count": 5,
   "metadata": {},
   "outputs": [],
   "source": [
    "for i in 1:size(TestData)[1]\n",
    "    Yd[(TestData.From[i], TestData.To[i])] = TestData.Y[i]\n",
    "    Bshd[(TestData.From[i], TestData.To[i])] = TestData.Bsh[i]\n",
    "    Td[(TestData.From[i], TestData.To[i])] = TestData.T[i]\n",
    "    ϕd[(TestData.From[i], TestData.To[i])] = TestData.ϕ[i]\n",
    "end"
   ]
  },
  {
   "cell_type": "markdown",
   "metadata": {},
   "source": [
    "### Define Diagnol Elements"
   ]
  },
  {
   "cell_type": "code",
   "execution_count": 6,
   "metadata": {},
   "outputs": [
    {
     "name": "stderr",
     "output_type": "stream",
     "text": [
      "┌ Warning: In `filter(f, dict)`, `f` is now passed a single pair instead of two arguments.\n",
      "│   caller = top-level scope at In[6]:2\n",
      "└ @ Core In[6]:2\n",
      "┌ Warning: In `filter(f, dict)`, `f` is now passed a single pair instead of two arguments.\n",
      "│   caller = top-level scope at In[6]:3\n",
      "└ @ Core In[6]:3\n",
      "┌ Warning: In `filter(f, dict)`, `f` is now passed a single pair instead of two arguments.\n",
      "│   caller = top-level scope at In[6]:4\n",
      "└ @ Core In[6]:4\n"
     ]
    }
   ],
   "source": [
    "for i in unique(append!(TestData.From,TestData.To))\n",
    "Y_N = filter(((k1,k2),v) -> k1 == i || k2 == i,Yd);\n",
    "T_N = filter(((k1,k2),v) -> k1 == i || k2 == i,Td);\n",
    "ϕ_N = filter(((k1,k2),v) -> k1 == i || k2 == i,ϕd);\n",
    "\n",
    "Y[i,i] = sum(\n",
    "        append!([1/( round(T_N[i,j]*exp( deg2rad(ϕ_N[i,j])*im),digits = 3) * round(conj(T_N[i,j]*exp( deg2rad(ϕ_N[i,j])*im)), digits = 3) ) * ( (Bshd[i,j]*im)/2 + Y_N[i,j]) for (i,j) in keys(Y_N)],Zsh[i]))\n",
    "\n",
    "\n",
    "end"
   ]
  },
  {
   "cell_type": "markdown",
   "metadata": {},
   "source": [
    "### Define Off-Diagnol Elements"
   ]
  },
  {
   "cell_type": "code",
   "execution_count": 7,
   "metadata": {},
   "outputs": [],
   "source": [
    "for (i,j) in keys(Yd)\n",
    "Y[i,j] =- 1/conj(Td[i,j]*exp( deg2rad(ϕd[i,j]*im)) ) * (Yd[i,j])\n",
    "end\n"
   ]
  },
  {
   "cell_type": "markdown",
   "metadata": {},
   "source": [
    "### Create Matrix for Checking Results"
   ]
  },
  {
   "cell_type": "code",
   "execution_count": 8,
   "metadata": {},
   "outputs": [],
   "source": [
    "Y_Matrix = zeros(Complex{Float64}, 5, 5)\n",
    "for (i,j) in keys(Y) Y_Matrix[i,j] = Y[i,j] end\n",
    "for (i,j) in keys(Y) Y_Matrix[j,i] = Y[i,j] end"
   ]
  },
  {
   "cell_type": "markdown",
   "metadata": {},
   "source": []
  },
  {
   "cell_type": "code",
   "execution_count": 9,
   "metadata": {},
   "outputs": [
    {
     "name": "stdout",
     "output_type": "stream",
     "text": [
      "5×5 Array{Complex{Float64},2}:\n",
      "  1.06709-10.0406im      -0.0+3.33333im    -1.06709+6.72729im         0.0+0.0im       0.0+0.0im    \n",
      "     -0.0+3.33333im   5.66038-33.217im          0.0+0.0im        -5.66038+30.1887im   0.0+0.0im    \n",
      " -1.06709+6.72729im       0.0+0.0im           1.411-13.782im   -0.0936065+3.83368im  -0.0+3.18878im\n",
      "      0.0+0.0im      -5.66038+30.1887im  -0.0936065+3.83368im     5.95429-36.0045im  -0.0+2.0im    \n",
      "      0.0+0.0im           0.0+0.0im            -0.0+3.18878im        -0.0+2.0im       0.0-5.25385im"
     ]
    }
   ],
   "source": [
    "show(IOContext(stdout, :limit=>false), MIME\"text/plain\"(), Y_Matrix)"
   ]
  },
  {
   "cell_type": "code",
   "execution_count": null,
   "metadata": {},
   "outputs": [],
   "source": [
    "Y_Matrix[1,1]"
   ]
  },
  {
   "cell_type": "code",
   "execution_count": null,
   "metadata": {},
   "outputs": [],
   "source": []
  },
  {
   "cell_type": "code",
   "execution_count": null,
   "metadata": {},
   "outputs": [],
   "source": [
    "ϕd"
   ]
  },
  {
   "cell_type": "code",
   "execution_count": 10,
   "metadata": {},
   "outputs": [],
   "source": [
    "Bus = DataFrame(P = [ 0.0, 0.0, 0.0, 0.9, 0.239], Q = [ 0.0, 0.0, 0.0, 0.4, 0.129], \n",
    "    Vmin = [ 1.0, 0.95, 0.95, 0.95, 0.95], Vmax = [ 1.0, 1.05, 1.05, 1.05, 1.05]);\n",
    "Gen = DataFrame(Bus = [1,3,4],\n",
    "                a = [0.0, 0.40, 0.50], \n",
    "                b = [0.35, 0.20, 0.30],\n",
    "                c = [0, 0, 0],\n",
    "                Pmin = [ -Inf, 0.10, 0.05], \n",
    "                Pmax = [ Inf, 0.4, 0.4], \n",
    "                Qmin = [ -Inf, -0.20, -0.20], \n",
    "                Qmax = [ Inf, 0.3, 0.2]);"
   ]
  },
  {
   "cell_type": "code",
   "execution_count": 11,
   "metadata": {},
   "outputs": [
    {
     "data": {
      "text/plain": [
       "DefaultDict{Any,Any,UnionAll} with 0 entries"
      ]
     },
     "execution_count": 11,
     "metadata": {},
     "output_type": "execute_result"
    }
   ],
   "source": [
    "GenD =  DefaultDict(Dict)"
   ]
  },
  {
   "cell_type": "code",
   "execution_count": 12,
   "metadata": {},
   "outputs": [],
   "source": [
    "for i in 1:length(Gen.Bus)\n",
    "    \n",
    "    for j in names(Gen)[2:end]\n",
    "\n",
    "    GenD[Gen.Bus[i]][string(j)] = Gen[i,j];\n",
    "\n",
    "    end\n",
    "end"
   ]
  },
  {
   "cell_type": "code",
   "execution_count": null,
   "metadata": {},
   "outputs": [],
   "source": [
    "GenD[1][\"a\"]"
   ]
  },
  {
   "cell_type": "code",
   "execution_count": null,
   "metadata": {},
   "outputs": [],
   "source": [
    "for i in keys(GenD)\n",
    "    println(keys(GenD[i]))\n",
    "end"
   ]
  },
  {
   "cell_type": "code",
   "execution_count": null,
   "metadata": {},
   "outputs": [],
   "source": [
    "for i in keys(GenD)\n",
    "    for j in keys(GenD[i])\n",
    "        println(\"(\",i,\" , \", j,\") \", GenD[i][j])\n",
    "    end\n",
    "end"
   ]
  },
  {
   "cell_type": "code",
   "execution_count": 21,
   "metadata": {},
   "outputs": [
    {
     "data": {
      "text/latex": [
       "$$ \\begin{alignat*}{1}\\text{feasibility}\\\\\n",
       "\\text{Subject to} \\quad\\end{alignat*}\n",
       " $$"
      ],
      "text/plain": [
       "A JuMP Model\n",
       "Feasibility problem with:\n",
       "Variables: 0\n",
       "Model mode: AUTOMATIC\n",
       "CachingOptimizer state: EMPTY_OPTIMIZER\n",
       "Solver name: Ipopt"
      ]
     },
     "execution_count": 21,
     "metadata": {},
     "output_type": "execute_result"
    }
   ],
   "source": [
    "model = nothing\n",
    "model = Model(with_optimizer(Ipopt.Optimizer))"
   ]
  },
  {
   "cell_type": "code",
   "execution_count": 22,
   "metadata": {},
   "outputs": [],
   "source": [
    "@variable(model, Pg[Gen.Bus]);\n",
    "@variable(model, V[1:BusNum]);\n",
    "@variable(model, P[1:BusNum]);\n",
    "@variable(model, Q[1:BusNum]);\n",
    "@variable(model, δ[1:BusNum]);\n",
    "@variable(model, T[1:BusNum,1:BusNum]);\n",
    "@variable(model, ϕ[1:BusNum,1:BusNum]);\n",
    "@variable(model, L[Gen.Bus]);"
   ]
  },
  {
   "cell_type": "code",
   "execution_count": 23,
   "metadata": {},
   "outputs": [
    {
     "data": {
      "text/latex": [
       "$$ 0 Pg_{1}^2 + 0.4 Pg_{3}^2 + 0.5 Pg_{4}^2 + 0.35 Pg_{1} + 0.2 Pg_{3} + 0.3 Pg_{4} $$"
      ],
      "text/plain": [
       "0 Pg[1]² + 0.4 Pg[3]² + 0.5 Pg[4]² + 0.35 Pg[1] + 0.2 Pg[3] + 0.3 Pg[4]"
      ]
     },
     "execution_count": 23,
     "metadata": {},
     "output_type": "execute_result"
    }
   ],
   "source": [
    "@objective(model,Min, sum( GenD[i][\"a\"]*(Pg[i]^2) + GenD[i][\"b\"]*Pg[i] + GenD[i][\"c\"]  for i in Gen.Bus))"
   ]
  },
  {
   "cell_type": "code",
   "execution_count": null,
   "metadata": {},
   "outputs": [],
   "source": [
    "@constraint( L[i] - Pg[i] == V[i]*sum(V[k]*( *cos(δ[i] - δ[k]))) ,name = \"Active Power Flow\")"
   ]
  },
  {
   "cell_type": "code",
   "execution_count": 19,
   "metadata": {},
   "outputs": [
    {
     "data": {
      "text/plain": [
       "1.067087315579475"
      ]
     },
     "execution_count": 19,
     "metadata": {},
     "output_type": "execute_result"
    }
   ],
   "source": [
    "real(Y[(1,1)])"
   ]
  },
  {
   "cell_type": "code",
   "execution_count": null,
   "metadata": {},
   "outputs": [],
   "source": []
  }
 ],
 "metadata": {
  "@webio": {
   "lastCommId": null,
   "lastKernelId": null
  },
  "kernelspec": {
   "display_name": "Julia 1.2.0",
   "language": "julia",
   "name": "julia-1.2"
  },
  "language_info": {
   "file_extension": ".jl",
   "mimetype": "application/julia",
   "name": "julia",
   "version": "1.2.0"
  }
 },
 "nbformat": 4,
 "nbformat_minor": 2
}
