{
 "cells": [
  {
   "cell_type": "markdown",
   "metadata": {},
   "source": [
    "Weibull fit method not available in Distributions.jl. <br>\n",
    "Taken from Non-Jedi on the Julia discourse. <br>\n",
    "https://discourse.julialang.org/t/fitting-a-weibull-distribution-to-values/30600"
   ]
  },
  {
   "cell_type": "code",
   "execution_count": 43,
   "metadata": {},
   "outputs": [],
   "source": [
    "using Distributions, Roots, XLSX, DataFrames\n",
    "\n",
    "function implicit_k_estimator(x, k::Number)\n",
    "    xᵏ = x.^k\n",
    "    lnx = log.(x)\n",
    "    sum(xᵏ .* lnx) / sum(xᵏ) - inv(k) - sum(lnx) / length(x)\n",
    "end#function\n",
    "\n",
    "explicit_λ_estimator(k::Number, x) = (sum(x.^k) / length(x))^(1/k)\n",
    "\n",
    "function Distributions.fit_mle(::Type{Weibull}, x::AbstractArray)\n",
    "    f = k -> implicit_k_estimator(x, k)\n",
    "    k = find_zero(f, oneunit(eltype(x)), Order2())\n",
    "    λ = explicit_λ_estimator(k, x)\n",
    "    Weibull(k, λ)\n",
    "end"
   ]
  },
  {
   "cell_type": "code",
   "execution_count": 35,
   "metadata": {},
   "outputs": [
    {
     "ename": "MethodError",
     "evalue": "MethodError: no method matching DataFrame(::Tuple{Array{Any,1},Array{Symbol,1}}; column_eltypes=Float64)\nClosest candidates are:\n  DataFrame(::Tuple{Vararg{AbstractArray{T,1} where T,N}}; copycols) where N at C:\\Users\\cilli\\.julia\\packages\\DataFrames\\uPgZV\\src\\dataframe\\dataframe.jl:199 got unsupported keyword argument \"column_eltypes\"\n  DataFrame(::Tuple{Vararg{AbstractArray{T,1} where T,N}}, !Matched::Tuple{Vararg{Symbol,N}}; makeunique, copycols) where N at C:\\Users\\cilli\\.julia\\packages\\DataFrames\\uPgZV\\src\\dataframe\\dataframe.jl:195 got unsupported keyword argument \"column_eltypes\"\n  DataFrame(::T; copycols) where T at C:\\Users\\cilli\\.julia\\packages\\DataFrames\\uPgZV\\src\\other\\tables.jl:23 got unsupported keyword argument \"column_eltypes\"\n  ...",
     "output_type": "error",
     "traceback": [
      "MethodError: no method matching DataFrame(::Tuple{Array{Any,1},Array{Symbol,1}}; column_eltypes=Float64)\nClosest candidates are:\n  DataFrame(::Tuple{Vararg{AbstractArray{T,1} where T,N}}; copycols) where N at C:\\Users\\cilli\\.julia\\packages\\DataFrames\\uPgZV\\src\\dataframe\\dataframe.jl:199 got unsupported keyword argument \"column_eltypes\"\n  DataFrame(::Tuple{Vararg{AbstractArray{T,1} where T,N}}, !Matched::Tuple{Vararg{Symbol,N}}; makeunique, copycols) where N at C:\\Users\\cilli\\.julia\\packages\\DataFrames\\uPgZV\\src\\dataframe\\dataframe.jl:195 got unsupported keyword argument \"column_eltypes\"\n  DataFrame(::T; copycols) where T at C:\\Users\\cilli\\.julia\\packages\\DataFrames\\uPgZV\\src\\other\\tables.jl:23 got unsupported keyword argument \"column_eltypes\"\n  ...",
      "",
      "Stacktrace:",
      " [1] kwerr(::NamedTuple{(:column_eltypes,),Tuple{DataType}}, ::Type, ::Tuple{Array{Any,1},Array{Symbol,1}}) at .\\error.jl:125",
      " [2] (::Core.var\"#kw#Type\")(::NamedTuple{(:column_eltypes,),Tuple{DataType}}, ::Type{DataFrame}, ::Tuple{Array{Any,1},Array{Symbol,1}}) at .\\none:0",
      " [3] top-level scope at In[35]:1"
     ]
    }
   ],
   "source": [
    "Limrick_Data = DataFrame(XLSX.readtable(\"Wind_Data/Limrick.xlsx\", \"Data\", infer_eltypes=false), column_eltypes = Float64 );\n",
    "Limrick_Wind = Limrick_Data[!,:Wind_Speed];"
   ]
  },
  {
   "cell_type": "code",
   "execution_count": 38,
   "metadata": {},
   "outputs": [
    {
     "data": {
      "text/plain": [
       "262969-element Array{Any,1}:\n",
       " 2.57222 \n",
       " 1.543332\n",
       " 2.057776\n",
       " 2.057776\n",
       " 1.543332\n",
       " 1.543332\n",
       " 1.543332\n",
       " 1.543332\n",
       " 1.543332\n",
       " 1.543332\n",
       " 1.028888\n",
       " 1.543332\n",
       " 2.057776\n",
       " ⋮       \n",
       " 3.601108\n",
       " 3.086664\n",
       " 3.601108\n",
       " 2.057776\n",
       " 1.543332\n",
       " 2.057776\n",
       " 2.057776\n",
       " 1.028888\n",
       " 0.514444\n",
       " 1.028888\n",
       " 2.057776\n",
       " 2.57222 "
      ]
     },
     "execution_count": 38,
     "metadata": {},
     "output_type": "execute_result"
    }
   ],
   "source": [
    "replace!(Limrick_Wind, missing=>0)"
   ]
  },
  {
   "cell_type": "code",
   "execution_count": 42,
   "metadata": {},
   "outputs": [
    {
     "data": {
      "text/plain": [
       "262969-element Array{Float16,1}:\n",
       " 2.572 \n",
       " 1.543 \n",
       " 2.059 \n",
       " 2.059 \n",
       " 1.543 \n",
       " 1.543 \n",
       " 1.543 \n",
       " 1.543 \n",
       " 1.543 \n",
       " 1.543 \n",
       " 1.029 \n",
       " 1.543 \n",
       " 2.059 \n",
       " ⋮     \n",
       " 3.602 \n",
       " 3.086 \n",
       " 3.602 \n",
       " 2.059 \n",
       " 1.543 \n",
       " 2.059 \n",
       " 2.059 \n",
       " 1.029 \n",
       " 0.5146\n",
       " 1.029 \n",
       " 2.059 \n",
       " 2.572 "
      ]
     },
     "execution_count": 42,
     "metadata": {},
     "output_type": "execute_result"
    }
   ],
   "source": [
    "Limrick_Wind = convert(Array{Float16,1}, Limrick_Wind)"
   ]
  },
  {
   "cell_type": "code",
   "execution_count": 41,
   "metadata": {},
   "outputs": [
    {
     "data": {
      "text/plain": [
       "262969-element Array{Any,1}:\n",
       " 2.57222 \n",
       " 1.543332\n",
       " 2.057776\n",
       " 2.057776\n",
       " 1.543332\n",
       " 1.543332\n",
       " 1.543332\n",
       " 1.543332\n",
       " 1.543332\n",
       " 1.543332\n",
       " 1.028888\n",
       " 1.543332\n",
       " 2.057776\n",
       " ⋮       \n",
       " 3.601108\n",
       " 3.086664\n",
       " 3.601108\n",
       " 2.057776\n",
       " 1.543332\n",
       " 2.057776\n",
       " 2.057776\n",
       " 1.028888\n",
       " 0.514444\n",
       " 1.028888\n",
       " 2.057776\n",
       " 2.57222 "
      ]
     },
     "execution_count": 41,
     "metadata": {},
     "output_type": "execute_result"
    }
   ],
   "source": [
    "Limrick_Wind"
   ]
  },
  {
   "cell_type": "code",
   "execution_count": 44,
   "metadata": {},
   "outputs": [
    {
     "ename": "Roots.ConvergenceFailed",
     "evalue": "Roots.ConvergenceFailed(\"Stopped at: xn = 1.0\")",
     "output_type": "error",
     "traceback": [
      "Roots.ConvergenceFailed(\"Stopped at: xn = 1.0\")",
      "",
      "Stacktrace:",
      " [1] #find_zero#4(::Roots.NullTracks, ::Bool, ::Base.Iterators.Pairs{Union{},Union{},Tuple{},NamedTuple{(),Tuple{}}}, ::typeof(find_zero), ::Function, ::Float16, ::Order2, ::Nothing) at C:\\Users\\cilli\\.julia\\packages\\Roots\\J9LJJ\\src\\find_zero.jl:549",
      " [2] find_zero at C:\\Users\\cilli\\.julia\\packages\\Roots\\J9LJJ\\src\\find_zero.jl:532 [inlined] (repeats 2 times)",
      " [3] fit_mle(::Type{Weibull}, ::Array{Float16,1}) at .\\In[43]:13",
      " [4] fit(::Type{Weibull}, ::Array{Float16,1}) at C:\\Users\\cilli\\.julia\\packages\\Distributions\\uFI1h\\src\\genericfit.jl:33",
      " [5] top-level scope at In[44]:1"
     ]
    }
   ],
   "source": [
    "Limrick_Par = fit(Weibull, Limrick_Wind)"
   ]
  },
  {
   "cell_type": "code",
   "execution_count": 16,
   "metadata": {},
   "outputs": [
    {
     "ename": "MethodError",
     "evalue": "MethodError: no method matching oneunit(::Type{Any})\nClosest candidates are:\n  oneunit(::Type{Union{Missing, T}}) where T at missing.jl:105\n  oneunit(::Type{T}) where T at number.jl:324\n  oneunit(::T) where T at number.jl:323\n  ...",
     "output_type": "error",
     "traceback": [
      "MethodError: no method matching oneunit(::Type{Any})\nClosest candidates are:\n  oneunit(::Type{Union{Missing, T}}) where T at missing.jl:105\n  oneunit(::Type{T}) where T at number.jl:324\n  oneunit(::T) where T at number.jl:323\n  ...",
      "",
      "Stacktrace:",
      " [1] oneunit(::Type{Any}) at .\\missing.jl:105",
      " [2] top-level scope at In[16]:1"
     ]
    }
   ],
   "source": [
    "oneunit(eltype(Limrick_Wind))"
   ]
  },
  {
   "cell_type": "code",
   "execution_count": null,
   "metadata": {},
   "outputs": [],
   "source": []
  }
 ],
 "metadata": {
  "kernelspec": {
   "display_name": "Julia 1.3.0",
   "language": "julia",
   "name": "julia-1.3"
  },
  "language_info": {
   "file_extension": ".jl",
   "mimetype": "application/julia",
   "name": "julia",
   "version": "1.3.0"
  }
 },
 "nbformat": 4,
 "nbformat_minor": 2
}
