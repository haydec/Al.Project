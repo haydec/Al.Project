{
 "cells": [
  {
   "cell_type": "code",
   "execution_count": 1,
   "metadata": {},
   "outputs": [],
   "source": [
    "using DataFrames, XLSX, DataFramesMeta\n",
    "using LinearAlgebra\n",
    "using LightGraphs, SimpleWeightedGraphs"
   ]
  },
  {
   "cell_type": "markdown",
   "metadata": {},
   "source": []
  },
  {
   "cell_type": "markdown",
   "metadata": {},
   "source": [
    "# Network Data"
   ]
  },
  {
   "cell_type": "code",
   "execution_count": 18,
   "metadata": {},
   "outputs": [],
   "source": [
    "Bus = DataFrame(XLSX.readtable(\"All-Ireland System- WinterPeak 2026 - PSSE Data.xlsx\", \"BusData\", infer_eltypes=true)... );"
   ]
  },
  {
   "cell_type": "code",
   "execution_count": 17,
   "metadata": {},
   "outputs": [
    {
     "data": {
      "text/plain": [
       "(1565, 2)"
      ]
     },
     "execution_count": 17,
     "metadata": {},
     "output_type": "execute_result"
    }
   ],
   "source": [
    "BusDist =  @linq Bus |>\n",
    "            where(:kV .<= 38) |>\n",
    "            select(:Bus,:kV);\n",
    "size(BusDist)"
   ]
  },
  {
   "cell_type": "code",
   "execution_count": 20,
   "metadata": {},
   "outputs": [
    {
     "data": {
      "text/plain": [
       "545"
      ]
     },
     "execution_count": 20,
     "metadata": {},
     "output_type": "execute_result"
    }
   ],
   "source": [
    "BusTrans =  @linq Bus |>\n",
    "            where(:kV .> 38) |>\n",
    "            select(:Bus,:kV);\n",
    "BusNo=size(BusTrans,1)"
   ]
  },
  {
   "cell_type": "code",
   "execution_count": 2,
   "metadata": {},
   "outputs": [
    {
     "data": {
      "text/html": [
       "<table class=\"data-frame\"><thead><tr><th></th><th>From</th><th>From Bus  Name</th><th>To</th><th>To Bus  Name</th><th>Id</th><th>Name</th><th>Term Node Num (From)</th></tr><tr><th></th><th>Int64</th><th>String</th><th>Int64</th><th>String</th><th>Int64</th><th>Any</th><th>Any</th></tr></thead><tbody><p>1,187 rows × 49 columns (omitted printing of 42 columns)</p><tr><th>1</th><td>11</td><td>FMN LOOP    38.000</td><td>42404</td><td>NORTH_WALL  38.000</td><td>1</td><td>missing</td><td>missing</td></tr><tr><th>2</th><td>12</td><td>BEDFORD ROW 38.000</td><td>25404</td><td>FRANCIS ST  38.000</td><td>1</td><td>missing</td><td>missing</td></tr><tr><th>3</th><td>12</td><td>BEDFORD ROW 38.000</td><td>25404</td><td>FRANCIS ST  38.000</td><td>3</td><td>missing</td><td>missing</td></tr><tr><th>4</th><td>12</td><td>BEDFORD ROW 38.000</td><td>46504</td><td>RINGSEND    38.000</td><td>1</td><td>missing</td><td>missing</td></tr><tr><th>5</th><td>12</td><td>BEDFORD ROW 38.000</td><td>46504</td><td>RINGSEND    38.000</td><td>2</td><td>missing</td><td>missing</td></tr><tr><th>6</th><td>1021</td><td>ARDNACRUSHA 110.00</td><td>2121</td><td>DRUMLINE    110.00</td><td>1</td><td>missing</td><td>missing</td></tr><tr><th>7</th><td>1021</td><td>ARDNACRUSHA 110.00</td><td>2361</td><td>ENNIS       110.00</td><td>1</td><td>missing</td><td>missing</td></tr><tr><th>8</th><td>1021</td><td>ARDNACRUSHA 110.00</td><td>3541</td><td>LIMERICK    110.00</td><td>1</td><td>missing</td><td>missing</td></tr><tr><th>9</th><td>1021</td><td>ARDNACRUSHA 110.00</td><td>10210</td><td>ARDNACRUSHA 110.00</td><td>1</td><td>missing</td><td>missing</td></tr><tr><th>10</th><td>1021</td><td>ARDNACRUSHA 110.00</td><td>10261</td><td>ARDNA_CAP   110.00</td><td>1</td><td>missing</td><td>missing</td></tr><tr><th>11</th><td>1041</td><td>AGHADA      110.00</td><td>5481</td><td>WHITEGATE   110.00</td><td>1</td><td>missing</td><td>missing</td></tr><tr><th>12</th><td>1042</td><td>AGHADA      220.00</td><td>1052</td><td>AGHADA_B    220.00</td><td>1</td><td>missing</td><td>missing</td></tr><tr><th>13</th><td>1042</td><td>AGHADA      220.00</td><td>1072</td><td>AGHT2102    220.00</td><td>1</td><td>missing</td><td>missing</td></tr><tr><th>14</th><td>1042</td><td>AGHADA      220.00</td><td>3202</td><td>KNOCKRAHA   220.00</td><td>1</td><td>missing</td><td>missing</td></tr><tr><th>15</th><td>1042</td><td>AGHADA      220.00</td><td>4722</td><td>RAFFEEN     220.00</td><td>1</td><td>missing</td><td>missing</td></tr><tr><th>16</th><td>1042</td><td>AGHADA      220.00</td><td>35771</td><td>LONGPOINT   220.00</td><td>1</td><td>missing</td><td>missing</td></tr><tr><th>17</th><td>1052</td><td>AGHADA_B    220.00</td><td>1062</td><td>AGH_AT14    220.00</td><td>1</td><td>missing</td><td>missing</td></tr><tr><th>18</th><td>1052</td><td>AGHADA_B    220.00</td><td>2852</td><td>GLANAGOW    220.00</td><td>1</td><td>missing</td><td>missing</td></tr><tr><th>19</th><td>1052</td><td>AGHADA_B    220.00</td><td>3202</td><td>KNOCKRAHA   220.00</td><td>2</td><td>missing</td><td>missing</td></tr><tr><th>20</th><td>1061</td><td>ARIGNA      110.00</td><td>10619</td><td>ARIGNA_T    110.00</td><td>1</td><td>missing</td><td>missing</td></tr><tr><th>21</th><td>1062</td><td>AGH_AT14    220.00</td><td>1072</td><td>AGHT2102    220.00</td><td>1</td><td>missing</td><td>missing</td></tr><tr><th>22</th><td>1071</td><td>AGANNYGAL   110.00</td><td>2231</td><td>DERRYBRIEN  110.00</td><td>1</td><td>missing</td><td>missing</td></tr><tr><th>23</th><td>1071</td><td>AGANNYGAL   110.00</td><td>2361</td><td>ENNIS       110.00</td><td>1</td><td>missing</td><td>missing</td></tr><tr><th>24</th><td>1071</td><td>AGANNYGAL   110.00</td><td>4941</td><td>SHANNONBRIDG110.00</td><td>1</td><td>missing</td><td>missing</td></tr><tr><th>25</th><td>1081</td><td>AHANE       110.00</td><td>32810</td><td>KILLONAN2   110.00</td><td>1</td><td>missing</td><td>missing</td></tr><tr><th>26</th><td>1091</td><td>ADAMSTOWN   110.00</td><td>2861</td><td>GRANGE CASTL110.00</td><td>1</td><td>missing</td><td>missing</td></tr><tr><th>27</th><td>1091</td><td>ADAMSTOWN   110.00</td><td>3091</td><td>INCH_COUNTRY110.00</td><td>1</td><td>missing</td><td>missing</td></tr><tr><th>28</th><td>1101</td><td>ANNER       110.00</td><td>2161</td><td>DOON        110.00</td><td>1</td><td>missing</td><td>missing</td></tr><tr><th>29</th><td>1121</td><td>ARKLOW      110.00</td><td>1301</td><td>BALLYBEG    110.00</td><td>1</td><td>missing</td><td>missing</td></tr><tr><th>30</th><td>1121</td><td>ARKLOW      110.00</td><td>1541</td><td>BANOGE      110.00</td><td>1</td><td>missing</td><td>missing</td></tr><tr><th>&vellip;</th><td>&vellip;</td><td>&vellip;</td><td>&vellip;</td><td>&vellip;</td><td>&vellip;</td><td>&vellip;</td><td>&vellip;</td></tr></tbody></table>"
      ],
      "text/latex": [
       "\\begin{tabular}{r|cccccccc}\n",
       "\t& From & From Bus  Name & To & To Bus  Name & Id & Name & Term Node Num (From) & \\\\\n",
       "\t\\hline\n",
       "\t& Int64 & String & Int64 & String & Int64 & Any & Any & \\\\\n",
       "\t\\hline\n",
       "\t1 & 11 & FMN LOOP    38.000 & 42404 & NORTH\\_WALL  38.000 & 1 &  &  & $\\dots$ \\\\\n",
       "\t2 & 12 & BEDFORD ROW 38.000 & 25404 & FRANCIS ST  38.000 & 1 &  &  & $\\dots$ \\\\\n",
       "\t3 & 12 & BEDFORD ROW 38.000 & 25404 & FRANCIS ST  38.000 & 3 &  &  & $\\dots$ \\\\\n",
       "\t4 & 12 & BEDFORD ROW 38.000 & 46504 & RINGSEND    38.000 & 1 &  &  & $\\dots$ \\\\\n",
       "\t5 & 12 & BEDFORD ROW 38.000 & 46504 & RINGSEND    38.000 & 2 &  &  & $\\dots$ \\\\\n",
       "\t6 & 1021 & ARDNACRUSHA 110.00 & 2121 & DRUMLINE    110.00 & 1 &  &  & $\\dots$ \\\\\n",
       "\t7 & 1021 & ARDNACRUSHA 110.00 & 2361 & ENNIS       110.00 & 1 &  &  & $\\dots$ \\\\\n",
       "\t8 & 1021 & ARDNACRUSHA 110.00 & 3541 & LIMERICK    110.00 & 1 &  &  & $\\dots$ \\\\\n",
       "\t9 & 1021 & ARDNACRUSHA 110.00 & 10210 & ARDNACRUSHA 110.00 & 1 &  &  & $\\dots$ \\\\\n",
       "\t10 & 1021 & ARDNACRUSHA 110.00 & 10261 & ARDNA\\_CAP   110.00 & 1 &  &  & $\\dots$ \\\\\n",
       "\t11 & 1041 & AGHADA      110.00 & 5481 & WHITEGATE   110.00 & 1 &  &  & $\\dots$ \\\\\n",
       "\t12 & 1042 & AGHADA      220.00 & 1052 & AGHADA\\_B    220.00 & 1 &  &  & $\\dots$ \\\\\n",
       "\t13 & 1042 & AGHADA      220.00 & 1072 & AGHT2102    220.00 & 1 &  &  & $\\dots$ \\\\\n",
       "\t14 & 1042 & AGHADA      220.00 & 3202 & KNOCKRAHA   220.00 & 1 &  &  & $\\dots$ \\\\\n",
       "\t15 & 1042 & AGHADA      220.00 & 4722 & RAFFEEN     220.00 & 1 &  &  & $\\dots$ \\\\\n",
       "\t16 & 1042 & AGHADA      220.00 & 35771 & LONGPOINT   220.00 & 1 &  &  & $\\dots$ \\\\\n",
       "\t17 & 1052 & AGHADA\\_B    220.00 & 1062 & AGH\\_AT14    220.00 & 1 &  &  & $\\dots$ \\\\\n",
       "\t18 & 1052 & AGHADA\\_B    220.00 & 2852 & GLANAGOW    220.00 & 1 &  &  & $\\dots$ \\\\\n",
       "\t19 & 1052 & AGHADA\\_B    220.00 & 3202 & KNOCKRAHA   220.00 & 2 &  &  & $\\dots$ \\\\\n",
       "\t20 & 1061 & ARIGNA      110.00 & 10619 & ARIGNA\\_T    110.00 & 1 &  &  & $\\dots$ \\\\\n",
       "\t21 & 1062 & AGH\\_AT14    220.00 & 1072 & AGHT2102    220.00 & 1 &  &  & $\\dots$ \\\\\n",
       "\t22 & 1071 & AGANNYGAL   110.00 & 2231 & DERRYBRIEN  110.00 & 1 &  &  & $\\dots$ \\\\\n",
       "\t23 & 1071 & AGANNYGAL   110.00 & 2361 & ENNIS       110.00 & 1 &  &  & $\\dots$ \\\\\n",
       "\t24 & 1071 & AGANNYGAL   110.00 & 4941 & SHANNONBRIDG110.00 & 1 &  &  & $\\dots$ \\\\\n",
       "\t25 & 1081 & AHANE       110.00 & 32810 & KILLONAN2   110.00 & 1 &  &  & $\\dots$ \\\\\n",
       "\t26 & 1091 & ADAMSTOWN   110.00 & 2861 & GRANGE CASTL110.00 & 1 &  &  & $\\dots$ \\\\\n",
       "\t27 & 1091 & ADAMSTOWN   110.00 & 3091 & INCH\\_COUNTRY110.00 & 1 &  &  & $\\dots$ \\\\\n",
       "\t28 & 1101 & ANNER       110.00 & 2161 & DOON        110.00 & 1 &  &  & $\\dots$ \\\\\n",
       "\t29 & 1121 & ARKLOW      110.00 & 1301 & BALLYBEG    110.00 & 1 &  &  & $\\dots$ \\\\\n",
       "\t30 & 1121 & ARKLOW      110.00 & 1541 & BANOGE      110.00 & 1 &  &  & $\\dots$ \\\\\n",
       "\t$\\dots$ & $\\dots$ & $\\dots$ & $\\dots$ & $\\dots$ & $\\dots$ & $\\dots$ & $\\dots$ &  \\\\\n",
       "\\end{tabular}\n"
      ],
      "text/plain": [
       "1187×49 DataFrame. Omitted printing of 44 columns\n",
       "│ Row  │ From  │ From Bus  Name     │ To    │ To Bus  Name       │ Id    │\n",
       "│      │ \u001b[90mInt64\u001b[39m │ \u001b[90mString\u001b[39m             │ \u001b[90mInt64\u001b[39m │ \u001b[90mString\u001b[39m             │ \u001b[90mInt64\u001b[39m │\n",
       "├──────┼───────┼────────────────────┼───────┼────────────────────┼───────┤\n",
       "│ 1    │ 11    │ FMN LOOP    38.000 │ 42404 │ NORTH_WALL  38.000 │ 1     │\n",
       "│ 2    │ 12    │ BEDFORD ROW 38.000 │ 25404 │ FRANCIS ST  38.000 │ 1     │\n",
       "│ 3    │ 12    │ BEDFORD ROW 38.000 │ 25404 │ FRANCIS ST  38.000 │ 3     │\n",
       "│ 4    │ 12    │ BEDFORD ROW 38.000 │ 46504 │ RINGSEND    38.000 │ 1     │\n",
       "│ 5    │ 12    │ BEDFORD ROW 38.000 │ 46504 │ RINGSEND    38.000 │ 2     │\n",
       "│ 6    │ 1021  │ ARDNACRUSHA 110.00 │ 2121  │ DRUMLINE    110.00 │ 1     │\n",
       "│ 7    │ 1021  │ ARDNACRUSHA 110.00 │ 2361  │ ENNIS       110.00 │ 1     │\n",
       "│ 8    │ 1021  │ ARDNACRUSHA 110.00 │ 3541  │ LIMERICK    110.00 │ 1     │\n",
       "│ 9    │ 1021  │ ARDNACRUSHA 110.00 │ 10210 │ ARDNACRUSHA 110.00 │ 1     │\n",
       "│ 10   │ 1021  │ ARDNACRUSHA 110.00 │ 10261 │ ARDNA_CAP   110.00 │ 1     │\n",
       "⋮\n",
       "│ 1177 │ 90210 │ TREM        110.00 │ 90310 │ TAMNAMOR    110.00 │ 1     │\n",
       "│ 1178 │ 90230 │ TREM        33.000 │ 90231 │ WIND_CRE    33.000 │ 1     │\n",
       "│ 1179 │ 90230 │ TREM        33.000 │ 90232 │ WIND_CDU    33.000 │ 1     │\n",
       "│ 1180 │ 90230 │ TREM        33.000 │ 90233 │ WIND_GOR    33.000 │ 1     │\n",
       "│ 1181 │ 90230 │ TREM        33.000 │ 90234 │ WIND_INI    33.000 │ 1     │\n",
       "│ 1182 │ 90230 │ TREM        33.000 │ 90235 │ WIND_ESH    33.000 │ 1     │\n",
       "│ 1183 │ 90230 │ TREM        33.000 │ 90237 │ WIND_CRD    33.000 │ 1     │\n",
       "│ 1184 │ 90310 │ TAMNAMOR    110.00 │ 90312 │ TAMN1_SV    110.00 │ 1     │\n",
       "│ 1185 │ 90320 │ TAMNAMOR    275.00 │ 90420 │ TURLEENA    275.00 │ 1     │\n",
       "│ 1186 │ 90320 │ TAMNAMOR    275.00 │ 90420 │ TURLEENA    275.00 │ 2     │\n",
       "│ 1187 │ 90530 │ WARN3-      33.000 │ 90540 │ PV_LHIL     33.000 │ 1     │"
      ]
     },
     "execution_count": 2,
     "metadata": {},
     "output_type": "execute_result"
    }
   ],
   "source": [
    "BranchFrame = DataFrame(XLSX.readtable(\"All-Ireland System- WinterPeak 2026 - PSSE Data.xlsx\", \"AC_Line\", infer_eltypes=true)... )\n",
    "BranchFrame"
   ]
  },
  {
   "cell_type": "code",
   "execution_count": 33,
   "metadata": {},
   "outputs": [],
   "source": [
    "BranchDict= Dict{Tuple{Float64, Float64, String}, Float64}();  "
   ]
  },
  {
   "cell_type": "code",
   "execution_count": 4,
   "metadata": {},
   "outputs": [
    {
     "data": {
      "text/plain": [
       "1187"
      ]
     },
     "execution_count": 4,
     "metadata": {},
     "output_type": "execute_result"
    }
   ],
   "source": [
    "size(BranchFrame,1)"
   ]
  },
  {
   "cell_type": "code",
   "execution_count": 32,
   "metadata": {},
   "outputs": [
    {
     "data": {
      "text/html": [
       "<table class=\"data-frame\"><thead><tr><th></th><th>From</th><th>From Bus  Name</th><th>To</th><th>To Bus  Name</th><th>Id</th><th>Name</th><th>Term Node Num (From)</th><th>Term Node Name (From)</th></tr><tr><th></th><th>Int64</th><th>String</th><th>Int64</th><th>String</th><th>Int64</th><th>Any</th><th>Any</th><th>Any</th></tr></thead><tbody><p>0 rows × 49 columns (omitted printing of 41 columns)</p></tbody></table>"
      ],
      "text/latex": [
       "\\begin{tabular}{r|ccccccccc}\n",
       "\t& From & From Bus  Name & To & To Bus  Name & Id & Name & Term Node Num (From) & Term Node Name (From) & \\\\\n",
       "\t\\hline\n",
       "\t& Int64 & String & Int64 & String & Int64 & Any & Any & Any & \\\\\n",
       "\t\\hline\n",
       "\\end{tabular}\n"
      ],
      "text/plain": [
       "0×49 DataFrame\n"
      ]
     },
     "execution_count": 32,
     "metadata": {},
     "output_type": "execute_result"
    }
   ],
   "source": [
    "filter(row -> BranchFrame ∈ [1,2,3], BranchFrame )"
   ]
  },
  {
   "cell_type": "code",
   "execution_count": 92,
   "metadata": {},
   "outputs": [
    {
     "data": {
      "text/plain": [
       "0.0036"
      ]
     },
     "execution_count": 92,
     "metadata": {},
     "output_type": "execute_result"
    }
   ],
   "source": [
    "r = BranchFrame.R;\n",
    "x = BranchFrame.X;\n",
    "r[1]"
   ]
  },
  {
   "cell_type": "code",
   "execution_count": 91,
   "metadata": {},
   "outputs": [
    {
     "ename": "MethodError",
     "evalue": "MethodError: no method matching getindex(::Symbol, ::Int64)",
     "output_type": "error",
     "traceback": [
      "MethodError: no method matching getindex(::Symbol, ::Int64)",
      "",
      "Stacktrace:",
      " [1] top-level scope at .\\In[91]:4"
     ]
    }
   ],
   "source": [
    "BranchDict =nothing\n",
    "for Par in [Symbol(R),Symbol(X)]\n",
    "    for i in 1:size(BranchFrame,1)\n",
    "        BranchDict[(BranchFrame.From[i],BranchFrame.To[i], BranchFrame.Par[i])] = Par[i]\n",
    "    end\n",
    "end"
   ]
  },
  {
   "cell_type": "code",
   "execution_count": 55,
   "metadata": {},
   "outputs": [
    {
     "data": {
      "text/plain": [
       "\"Any[0.0036, 0.00534, 0.00594, 0.02132, 0.01937, 0.0286, 0.0208, 0.0071, 0, 0, 0.0049, 0, 0.0001, 0.003, 0.002627, 0.0001, 0, 0.0002, 0.003, 0.0004, 0, 0.0125, 0.0594, 0.0718, 0.0039, 0.0018, 0.0091, 0.0031, 0.0102, 0.0207, 0.0035, 0.0062, 0.0046, 0.0032, 0, 0.0057, 0.054, 0.0135, 0, 0, 0.001, 0.0207, 0.0173, 0.0006, 0.0006, 0.001, 0.0666, 0.0193, 0.0412, 0.0117, 0.0148, 0.0047, 0.0026, 0.002094, 0.0001, 0, 0.002428, 0.002, 0.0389, 0.0138, 0.0111, 0.0151, 0.0124, 0.0106, 0.0126, 0.0426, 0.0148, 0.0021, 0.0006, 0.0533, 0.0242, 0.0121, 0.0073, 0.0312, 0.0071, 0, 0.0027, 0.0021, 0.0533, 0.017, 0, 0, 0.0047, 0.0047, 0.002, 0.003, 0.0139, 0.0176, 0.004, 0.0403, 0.0413, 0, 0.0039, 0.0006, 0.0035, 0.0004, 0.000354, 0.000354, 0.0004, 0.0078, 0.0038, 0.0094, 0.0047, 0.0047, 0.0179, 0.008, 0.0544, 0.0024, 0.0025, 0.0188, 0.022, 0.0036, 0, 0.0062, 0.0128, 0, 0.004, 0.0094, 0.0046, 0.0197, 0.0086, 0.0144, 0.0745, 0.0336, 0.0215, 0.0176, 0.0176, 0.0248, 0, 0, 0, 0.0778, 0.0103, 0.0103, 0.0046, 0.014, 0.0199, 0.0893, 0.0375, 0.0432, 0.0233, 0, 0, 0.0202, 0.0016, 0.0029, 0.0018, 0.0058, 0.0385, 0.0649, 0, 0, 0.0368, 0.001, 0.0099, 0.0113, 0.0114, 0.0653, 0, 0.001, 0.0038, 0.0013, 0, 0.0002, 0.0049, 0.0004, 0, 0, 0.0097, 0.03, 0.0136, 0.0134, 0.0951, 0.0327, 0.0051, 0.0222, 0.0035, 0.0053, 0.0052, 0.013, 0.0034, 0.0009, 0.0467, 0.0385, 0.0142, 0.0084, 0.0082, 0.0274, 0.0245, 0.0035, 0.0033, 0.01, 0.0272, 0.0374, 0.0302, 0.0151, 0.0257, 0.0436, 0.0006, 0.0117, 0.0007, 0.004, 0.0069, 0.0427, 0.0034, 0.0215, 0.0064, 0.0034, 0.0117, 0.001, 0.0111, 0.0884, 0.0233, 0.0135, 0, 0, 4.8e-5, 4.8e-5, 0.0005, 0.0002, 0.0005, 0.0021, 0, 0.0007, 0.00505, 0.0022, 0.01891, 0.0117, 0.0262, 0.027, 0, 0.0055, 0, 0.0293, 0.0201, 0.0082, 0.0069, 0.0036, 0.0036, 0.003, 0, 0.0009, 0.001107, 0, 0.0374, 0, 0.019, 0.0017, 0.0023, 0.0123, 0.0271, 0.0308, 0, 0, 0, 0.0001, 0.0125, 0.0078, 0.0386, 0.0082, 0.0134, 0.0121, 0, 0.0002, 0.0002, 0.0002, 0, 0.0078, 0.0117, 0.0165, 0.0785, 0.0502, 0.0337, 0.0128, 0.0064, 0, 0.0018, 0.002, 0.0017, 0.0044, 0, 0.003, 0.0033, 0, 0.0001, 0.0005, 0.0006, 0.0218, 0.005, 0.0023, 0.0394, 0, 0.004, 0.0173, 0.0016, 0.0309, 0.0074, 0.0082, 0.0217, 0, 0.0081, 0.0056, 0.002, 0.0079, 0.0016, 0.0061, 0, 0.0282, 0.0079, 0.0089, 0.0068, 0.0302, 0.0038, 0.0032, 0.000305, 0.0079, 0.0079, 0.0047, 0.001, 0.0009, 0.009, 0, 0.0053, 0.0164, 0, 0.0003, 0, 0.0059, 0.0045, 0.0026, 0.0266, 0, 0.0044, 0.0004, 0.002, 0, 0.0055, 0.0002, 0.0001, 0, 0.0152, 0.0046, 0, 0.0036, 0.0064, 0.002707, 0.000422, 0.0001, 0, 0.0075, 0.0203, 0, 0.0145, 0, 0.0028, 0.0167, 0.0261, 0.0183, 0, 0.0001, 0.0223, 0.0093, 0, 0.006, 0.0534, 0, 0.014, 0.0109, 0.0026, 0, 0.0144, 0.0085, 0.0142, 0.0095, 0, 0.0049, 0, 0.017, 0.0213, 0.0081, 0.0036, 0.0006, 0.0031, 0.0002, 0.0333, 0.0017, 0.0602, 0.0279, 0.0017, 0.0236, 0.000139, 0.000139, 0.000325, 0, 0.000838, 0.0003, 0.0003, 0.0019, 0.0016, 0.0015, 0.0719, 0.0242, 0.0195, 0.0141, 0.0203, 0.0583, 0, 0, 0.0017, 0.0053, 0.0438, 0.0179, 0, 0.0051, 0.0033, 0.0611, 0.0628, 0, 0, 0.0471, 0.0541, 0.0578, 0, 0, 0, 0.0346, 0.0014, 0.0015, 0.0162, 0, 0.0293, 0.0039, 0, 0.0022, 0.001, 0.0047, 0.0027, 0.0008, 0.0008, 0.0303, 0.0235, 0, 0.0022, 0.003, 0, 0.0058, 0.0092, 0.0082, 0.0322, 0.0169, 0.0027, 0, 0.0026, 0.0029, 0.0029, 0.0021, 0.0011, 0.0011, 0, 0, 0.002, 0, 0.0042, 0.0007, 0, 0.0008, 0.0008, 0.0041, 0.0041, 0, 0, 0, 0.0184, 0.0216, 0.0131, 0.0108, 0, 0, 0.0022, 0.0128, 0.0008, 0, 0.0003, 0.0171, 0.0017, 0.0024, 0.0349, 0.0002, 0, 0.0001, 0, 0.0002, 0.0012, 0.001, 0.0005, 0, 0.0344, 0.0012, 0.000272, 0.0005, 0, 0, 0.0067, 0.0033, 0.006, 0, 0.0202, 0.0226, 0, 0.0075, 0.0339, 0.0212, 0, 0, 0.0173, 0.0187, 0, 0.0069, 0.0032, 0, 0.0309, 0.0032, 0.0035, 0.0027, 0, 0, 0.000315, 0, 0.0114, 0.0017, 0.0013, 0.0046, 0, 0, 0, 0.0176, 0.0083, 0.0071, 0, 0.0162, 0.0001, 0, 0.0058, 0.0001, 0.0027, 0, 0.006, 0, 0, 0.0772, 0, 0, 0.0787, 0.15499, 0.1207, 0.0765, 0.3178, 0.0267, 0, 0, 0.0666, 0.1362, 0.09397, 0.1513, 0.0505, 0.1403, 0.0011, 0.0586, 1.0e-5, 1.0e-5, 0.0612, 0.0061, 0.0001, 0.2088, 0.1128, 0, 0, 0.1953, 0.0785, 0.0765, 0.0364, 0.0193, 0, 0, 0, 0.1465, 0.2739, 0.0984, 0.0618, 1.144, 0.1874, 0.001, 0.0021, 0.44, 0.1499, 0.0415, 0.4288, 0.1705, 0.0609, 0, 0, 0.4992, 0, 0.5266, 0.1369, 0.1979, 0.0328, 0, 0.11575, 0.1646, 0.1332, 0.036, 0.0276, 0.036, 0.0308, 0.2035, 0.0503, 0, 0.2067, 0.0121, 0.0423, 0.1926, 0, 0.1507, 0.1507, 0, 0.0209, 0, 0.3927, 0.0046, 1.694, 0.0754, 0.1835, 0.064, 1.6956, 0.374, 0.8086, 0.479, 0.0856, 0.0102, 0.1486, 0.1844, 0.539, 0.451, 0.0341, 0.017, 0.0455, 0.28397, 0.2144, 0.242, 0.3885, 0.3885, 0, 0, 0.312, 0.6148, 0.3455, 0.0814, 0.1097, 0.1679, 0.0496, 0.0195, 0.1067, 0.55, 0, 0.17339, 0.0398, 0.088, 0.0212, 0, 0.2462, 0.0163, 1.0332, 0.0212, 0.3388, 0.0153, 0.0159, 0.4888, 0.3686, 0.155, 0.6292, 0, 0.1499, 0.3689, 0.2894, 0.0391, 0.4624, 2.97, 0.66, 0.4185, 0.418, 0.1486, 0.0339, 0.0531, 0.0098, 0, 0, 0.4345, 0, 0, 0.003, 0.003, 0, 0, 0.02266, 0.194, 0, 0, 0.2737, 0.003, 0.0001, 0.125, 0.2325, 0.0716, 0.16, 0.143, 0, 0, 0, 0.0456, 0.0521, 0.1183, 0, 0, 1.562, 0.09791, 0.0625, 0.0936, 0, 0.1889, 0.005, 0.0551, 0.0033, 0, 0.1727, 0.0153, 0.217, 0, 0.193, 0, 0.0658, 0.0456, 0.1926, 0.0026, 0.0026, 0.0061, 0.1021, 0.2701, 0.5848, 0.2987, 0.3242, 0.2793, 0.01352, 0.1022, 0.1343, 0.2334, 0.121, 0.0935, 0.0156, 0.0128, 0.0987, 0, 0.1041, 0.11, 0.1137, 0.2451, 0.0335, 1.0406, 0.2584, 0, 0.6148, 0.1266, 0.3297, 0.146, 0.0173, 0, 0, 0.0428, 0.0442, 0.0424, 0.1452, 0.0135, 0.33, 0.3933, 0.5167, 0.0431, 0.1835, 0.155, 0.0259, 0.0127, 0.176, 0.0033, 0.041, 0.2915, 0.2538, 0.7568, 0, 0.0397, 0.0538, 0.169, 0.0856, 0.3026, 0, 0.3382, 0.0761, 0.2194, 0, 0.2635, 0.062, 0.0423, 0.0423, 0.0107, 0.0303, 0, 0.6393, 0.1038, 0.0276, 0.1376, 0.6768, 0.352, 0.2256, 0, 0, 0, 0.055, 0.0324, 0, 0, 0.6665, 0.2654, 0.0823, 0.0244, 1.65, 0.0027, 0.08266, 0.3281, 0.0014, 0.0127, 0.248, 0.0646, 0.1873, 0.0619, 0.0131, 0.0131, 0.0473, 0.4779, 0.064, 0.0656, 0.2316, 0.09716, 0.0684, 0.0684, 0.07, 0.0293, 0.88, 0.176, 0.143, 0.34355, 0.0962, 0, 0.1982, 0.11, 0.0373, 0.1401, 0.8478, 0.0085, 0, 0.0456, 0, 1.0e-5, 0.264, 0.32262, 0.13949, 0.22731, 0.32262, 0.5862, 0.0845, 0.017, 0.364, 0.0354, 0.1051, 0.1849, 0.0038, 0.0007, 0.0007, 0, 0.4676, 0, 0.03948, 0.04361, 0.04361, 0.04361, 0.04361, 0, 0, 0.3014, 0.23436, 0.06125, 0.04435, 0.03903, 0.03269, 0.0599, 0.013124, 0.013124, 0.01162, 0.01162, 0, 0.0279, 0.02259, 0.02259, 0.02283, 0.02271, 4.5e-5, 4.5e-5, 0.00204, 0.00155, 0.00294, 4.0e-5, 0.01306, 0.01502, 0, 0.5256, 0.1203, 0.4605, 0.2674, 0.3885, 0, 0.073, 0.073, 0.0418, 0, 0.02403, 0.01855, 0, 0.02769, 0.02651, 0.0071, 0.0071, 0.02769, 0.02769, 0, 0.00479, 0.00479, 0, 0.0062, 0.00563, 0.01249, 0.01569, 0.00871, 0.00498, 0.01196, 0.0103, 0.0027, 0.0098, 0.03714, 0.01865, 0.03695, 0.01875, 0, 0.0351, 0.0351, 0.062, 0, 0, 0.00118, 0.00118, 0.00532, 0.00524, 0.01516, 0.0177, 0.02468, 0.02468, 0.00064, 0.00064, 0.00082, 0.00082, 0.00299, 0.00204, 0.00113, 0.00113, 0.0129, 0.0129, 0, 0.06086, 0.02433, 0.01058, 0.01058, 0.0237, 0, 0.1608, 0.1929, 0.2699, 0.123, 0.2831, 0.2633, 0.2766, 0.103, 0.034, 0, 0.01077, 0.03853, 0.01175, 0.01175, 0.01069, 0.01073, 0.01813, 0, 0, 0.0021, 0.0021, 0, 0, 0.02933, 0.04482, 0, 0, 0.0067, 0.0067, 0.02, 0.02, 0.00163, 0.00163, 0.0044, 0.00449, 0, 0, 0, 0.00724, 0.02573, 0.02573, 0.01828, 0.01828, 0.0044, 0.0044, 0.00478, 0.02789, 0.02937, 0, 0.159, 0.0025, 0.0025, 0.0045, 0, 0, 0.00428, 0.00913, 0.04195, 0.00374, 0, 0.2179, 0.0839, 0.1382, 0.0178, 0.0135, 0, 0, 0.06514, 0.16314, 0, 0.5815, 0.1078, 0.2892, 0.2448, 0.0256, 0.255, 0.00084, 0.00084, 0.02726, 0.02726, 0, 0, 0.01058, 0.02117, 0.058, 0.049, 0.026, 0.117, 0.263, 0.00974, 0.00864, 0.002, 0.00033, 0.03909, 0.02167, 0.005, 0.0013, 0.0013, 0.00139, 0.00728, 0.00818, 0.0118, 0.0018, 0.0001, 0.00362, 0, 0.2167, 0.2167, 0.3034, 0, 0.3483, 0.41479, 0.10689, 0.1235, 0.04049, 0.03393, 0.0002, 0.027, 0.0871, 0.063, 0, 0.115, 0.486, 0.00117, 0.00117, 0.02777, 0, 0.0125, 0.05115, 0.052, 0.021, 0, 0, 0.03121, 0.03121, 0, 0, 0.04636, 0.04715, 0.02532, 0, 0.1708, 0.1379, 0.2538, 0.0292, 0.0144, 0.0743, 0.031, 0.1734, 0.0978, 0.144, 0.1497, 0.5387, 0.0445, 0.1113, 0.0798, 0.208, 0.2114, 0.1998, 0.018, 0.227, 0.0604, 0.029, 0.073, 0.0001, 0.0003, 0.113, 0.113, 0, 0.2657, 0.2694, 0.6266, 0.0208, 0.3651, 0.0692, 0.2612, 0.3427, 0.3068, 0.1313, 0.0993, 0.0021, 0.0075, 0, 0.0129, 0.0129, 0.00092, 0.00092, 0.02538, 0.141, 0.088, 0.106, 0.067, 0.115, 0.278, 0, 0.00024, 0.00024, 0]\""
      ]
     },
     "execution_count": 55,
     "metadata": {},
     "output_type": "execute_result"
    }
   ],
   "source": [
    "string(R)"
   ]
  },
  {
   "cell_type": "code",
   "execution_count": 14,
   "metadata": {},
   "outputs": [
    {
     "data": {
      "text/plain": [
       "0.0952"
      ]
     },
     "execution_count": 14,
     "metadata": {},
     "output_type": "execute_result"
    }
   ],
   "source": [
    "BranchDict[(1121,1541)]"
   ]
  },
  {
   "cell_type": "code",
   "execution_count": 22,
   "metadata": {},
   "outputs": [
    {
     "data": {
      "text/plain": [
       "{545, 0} undirected simple Int64 graph with Float64 weights"
      ]
     },
     "execution_count": 22,
     "metadata": {},
     "output_type": "execute_result"
    }
   ],
   "source": [
    "Gw = SimpleWeightedGraph(BusNo)"
   ]
  },
  {
   "cell_type": "code",
   "execution_count": 64,
   "metadata": {},
   "outputs": [
    {
     "data": {
      "text/html": [
       "<table class=\"data-frame\"><thead><tr><th></th><th>From</th><th>From Bus  Name</th><th>To</th><th>To Bus  Name</th><th>Id</th><th>Name</th><th>Term Node Num (From)</th></tr><tr><th></th><th>Int64</th><th>String</th><th>Int64</th><th>String</th><th>Int64</th><th>Any</th><th>Any</th></tr></thead><tbody><p>683 rows × 49 columns (omitted printing of 42 columns)</p><tr><th>1</th><td>1021</td><td>ARDNACRUSHA 110.00</td><td>2121</td><td>DRUMLINE    110.00</td><td>1</td><td>missing</td><td>missing</td></tr><tr><th>2</th><td>1021</td><td>ARDNACRUSHA 110.00</td><td>2361</td><td>ENNIS       110.00</td><td>1</td><td>missing</td><td>missing</td></tr><tr><th>3</th><td>1021</td><td>ARDNACRUSHA 110.00</td><td>3541</td><td>LIMERICK    110.00</td><td>1</td><td>missing</td><td>missing</td></tr><tr><th>4</th><td>1021</td><td>ARDNACRUSHA 110.00</td><td>10210</td><td>ARDNACRUSHA 110.00</td><td>1</td><td>missing</td><td>missing</td></tr><tr><th>5</th><td>1021</td><td>ARDNACRUSHA 110.00</td><td>10261</td><td>ARDNA_CAP   110.00</td><td>1</td><td>missing</td><td>missing</td></tr><tr><th>6</th><td>1041</td><td>AGHADA      110.00</td><td>5481</td><td>WHITEGATE   110.00</td><td>1</td><td>missing</td><td>missing</td></tr><tr><th>7</th><td>1042</td><td>AGHADA      220.00</td><td>1052</td><td>AGHADA_B    220.00</td><td>1</td><td>missing</td><td>missing</td></tr><tr><th>8</th><td>1042</td><td>AGHADA      220.00</td><td>1072</td><td>AGHT2102    220.00</td><td>1</td><td>missing</td><td>missing</td></tr><tr><th>9</th><td>1042</td><td>AGHADA      220.00</td><td>3202</td><td>KNOCKRAHA   220.00</td><td>1</td><td>missing</td><td>missing</td></tr><tr><th>10</th><td>1042</td><td>AGHADA      220.00</td><td>4722</td><td>RAFFEEN     220.00</td><td>1</td><td>missing</td><td>missing</td></tr><tr><th>11</th><td>1042</td><td>AGHADA      220.00</td><td>35771</td><td>LONGPOINT   220.00</td><td>1</td><td>missing</td><td>missing</td></tr><tr><th>12</th><td>1052</td><td>AGHADA_B    220.00</td><td>1062</td><td>AGH_AT14    220.00</td><td>1</td><td>missing</td><td>missing</td></tr><tr><th>13</th><td>1052</td><td>AGHADA_B    220.00</td><td>2852</td><td>GLANAGOW    220.00</td><td>1</td><td>missing</td><td>missing</td></tr><tr><th>14</th><td>1052</td><td>AGHADA_B    220.00</td><td>3202</td><td>KNOCKRAHA   220.00</td><td>2</td><td>missing</td><td>missing</td></tr><tr><th>15</th><td>1061</td><td>ARIGNA      110.00</td><td>10619</td><td>ARIGNA_T    110.00</td><td>1</td><td>missing</td><td>missing</td></tr><tr><th>16</th><td>1062</td><td>AGH_AT14    220.00</td><td>1072</td><td>AGHT2102    220.00</td><td>1</td><td>missing</td><td>missing</td></tr><tr><th>17</th><td>1071</td><td>AGANNYGAL   110.00</td><td>2231</td><td>DERRYBRIEN  110.00</td><td>1</td><td>missing</td><td>missing</td></tr><tr><th>18</th><td>1071</td><td>AGANNYGAL   110.00</td><td>2361</td><td>ENNIS       110.00</td><td>1</td><td>missing</td><td>missing</td></tr><tr><th>19</th><td>1071</td><td>AGANNYGAL   110.00</td><td>4941</td><td>SHANNONBRIDG110.00</td><td>1</td><td>missing</td><td>missing</td></tr><tr><th>20</th><td>1081</td><td>AHANE       110.00</td><td>32810</td><td>KILLONAN2   110.00</td><td>1</td><td>missing</td><td>missing</td></tr><tr><th>21</th><td>1091</td><td>ADAMSTOWN   110.00</td><td>2861</td><td>GRANGE CASTL110.00</td><td>1</td><td>missing</td><td>missing</td></tr><tr><th>22</th><td>1091</td><td>ADAMSTOWN   110.00</td><td>3091</td><td>INCH_COUNTRY110.00</td><td>1</td><td>missing</td><td>missing</td></tr><tr><th>23</th><td>1101</td><td>ANNER       110.00</td><td>2161</td><td>DOON        110.00</td><td>1</td><td>missing</td><td>missing</td></tr><tr><th>24</th><td>1121</td><td>ARKLOW      110.00</td><td>1301</td><td>BALLYBEG    110.00</td><td>1</td><td>missing</td><td>missing</td></tr><tr><th>25</th><td>1121</td><td>ARKLOW      110.00</td><td>1541</td><td>BANOGE      110.00</td><td>1</td><td>missing</td><td>missing</td></tr><tr><th>26</th><td>1121</td><td>ARKLOW      110.00</td><td>4901</td><td>SHELTON ABBE110.00</td><td>2</td><td>missing</td><td>missing</td></tr><tr><th>27</th><td>1122</td><td>ARKLOW      220.00</td><td>1742</td><td>CARRICKMINES220.00</td><td>1</td><td>missing</td><td>missing</td></tr><tr><th>28</th><td>1122</td><td>ARKLOW      220.00</td><td>3642</td><td>LODGEWOOD   220.00</td><td>1</td><td>missing</td><td>missing</td></tr><tr><th>29</th><td>1131</td><td>ATHEA       110.00</td><td>2131</td><td>DROMADA     110.00</td><td>1</td><td>missing</td><td>missing</td></tr><tr><th>30</th><td>1131</td><td>ATHEA       110.00</td><td>11310</td><td>ATHEA-2     110.00</td><td>1</td><td>missing</td><td>missing</td></tr><tr><th>&vellip;</th><td>&vellip;</td><td>&vellip;</td><td>&vellip;</td><td>&vellip;</td><td>&vellip;</td><td>&vellip;</td><td>&vellip;</td></tr></tbody></table>"
      ],
      "text/latex": [
       "\\begin{tabular}{r|cccccccc}\n",
       "\t& From & From Bus  Name & To & To Bus  Name & Id & Name & Term Node Num (From) & \\\\\n",
       "\t\\hline\n",
       "\t& Int64 & String & Int64 & String & Int64 & Any & Any & \\\\\n",
       "\t\\hline\n",
       "\t1 & 1021 & ARDNACRUSHA 110.00 & 2121 & DRUMLINE    110.00 & 1 &  &  & $\\dots$ \\\\\n",
       "\t2 & 1021 & ARDNACRUSHA 110.00 & 2361 & ENNIS       110.00 & 1 &  &  & $\\dots$ \\\\\n",
       "\t3 & 1021 & ARDNACRUSHA 110.00 & 3541 & LIMERICK    110.00 & 1 &  &  & $\\dots$ \\\\\n",
       "\t4 & 1021 & ARDNACRUSHA 110.00 & 10210 & ARDNACRUSHA 110.00 & 1 &  &  & $\\dots$ \\\\\n",
       "\t5 & 1021 & ARDNACRUSHA 110.00 & 10261 & ARDNA\\_CAP   110.00 & 1 &  &  & $\\dots$ \\\\\n",
       "\t6 & 1041 & AGHADA      110.00 & 5481 & WHITEGATE   110.00 & 1 &  &  & $\\dots$ \\\\\n",
       "\t7 & 1042 & AGHADA      220.00 & 1052 & AGHADA\\_B    220.00 & 1 &  &  & $\\dots$ \\\\\n",
       "\t8 & 1042 & AGHADA      220.00 & 1072 & AGHT2102    220.00 & 1 &  &  & $\\dots$ \\\\\n",
       "\t9 & 1042 & AGHADA      220.00 & 3202 & KNOCKRAHA   220.00 & 1 &  &  & $\\dots$ \\\\\n",
       "\t10 & 1042 & AGHADA      220.00 & 4722 & RAFFEEN     220.00 & 1 &  &  & $\\dots$ \\\\\n",
       "\t11 & 1042 & AGHADA      220.00 & 35771 & LONGPOINT   220.00 & 1 &  &  & $\\dots$ \\\\\n",
       "\t12 & 1052 & AGHADA\\_B    220.00 & 1062 & AGH\\_AT14    220.00 & 1 &  &  & $\\dots$ \\\\\n",
       "\t13 & 1052 & AGHADA\\_B    220.00 & 2852 & GLANAGOW    220.00 & 1 &  &  & $\\dots$ \\\\\n",
       "\t14 & 1052 & AGHADA\\_B    220.00 & 3202 & KNOCKRAHA   220.00 & 2 &  &  & $\\dots$ \\\\\n",
       "\t15 & 1061 & ARIGNA      110.00 & 10619 & ARIGNA\\_T    110.00 & 1 &  &  & $\\dots$ \\\\\n",
       "\t16 & 1062 & AGH\\_AT14    220.00 & 1072 & AGHT2102    220.00 & 1 &  &  & $\\dots$ \\\\\n",
       "\t17 & 1071 & AGANNYGAL   110.00 & 2231 & DERRYBRIEN  110.00 & 1 &  &  & $\\dots$ \\\\\n",
       "\t18 & 1071 & AGANNYGAL   110.00 & 2361 & ENNIS       110.00 & 1 &  &  & $\\dots$ \\\\\n",
       "\t19 & 1071 & AGANNYGAL   110.00 & 4941 & SHANNONBRIDG110.00 & 1 &  &  & $\\dots$ \\\\\n",
       "\t20 & 1081 & AHANE       110.00 & 32810 & KILLONAN2   110.00 & 1 &  &  & $\\dots$ \\\\\n",
       "\t21 & 1091 & ADAMSTOWN   110.00 & 2861 & GRANGE CASTL110.00 & 1 &  &  & $\\dots$ \\\\\n",
       "\t22 & 1091 & ADAMSTOWN   110.00 & 3091 & INCH\\_COUNTRY110.00 & 1 &  &  & $\\dots$ \\\\\n",
       "\t23 & 1101 & ANNER       110.00 & 2161 & DOON        110.00 & 1 &  &  & $\\dots$ \\\\\n",
       "\t24 & 1121 & ARKLOW      110.00 & 1301 & BALLYBEG    110.00 & 1 &  &  & $\\dots$ \\\\\n",
       "\t25 & 1121 & ARKLOW      110.00 & 1541 & BANOGE      110.00 & 1 &  &  & $\\dots$ \\\\\n",
       "\t26 & 1121 & ARKLOW      110.00 & 4901 & SHELTON ABBE110.00 & 2 &  &  & $\\dots$ \\\\\n",
       "\t27 & 1122 & ARKLOW      220.00 & 1742 & CARRICKMINES220.00 & 1 &  &  & $\\dots$ \\\\\n",
       "\t28 & 1122 & ARKLOW      220.00 & 3642 & LODGEWOOD   220.00 & 1 &  &  & $\\dots$ \\\\\n",
       "\t29 & 1131 & ATHEA       110.00 & 2131 & DROMADA     110.00 & 1 &  &  & $\\dots$ \\\\\n",
       "\t30 & 1131 & ATHEA       110.00 & 11310 & ATHEA-2     110.00 & 1 &  &  & $\\dots$ \\\\\n",
       "\t$\\dots$ & $\\dots$ & $\\dots$ & $\\dots$ & $\\dots$ & $\\dots$ & $\\dots$ & $\\dots$ &  \\\\\n",
       "\\end{tabular}\n"
      ],
      "text/plain": [
       "683×49 DataFrame. Omitted printing of 44 columns\n",
       "│ Row │ From  │ From Bus  Name     │ To    │ To Bus  Name       │ Id    │\n",
       "│     │ \u001b[90mInt64\u001b[39m │ \u001b[90mString\u001b[39m             │ \u001b[90mInt64\u001b[39m │ \u001b[90mString\u001b[39m             │ \u001b[90mInt64\u001b[39m │\n",
       "├─────┼───────┼────────────────────┼───────┼────────────────────┼───────┤\n",
       "│ 1   │ 1021  │ ARDNACRUSHA 110.00 │ 2121  │ DRUMLINE    110.00 │ 1     │\n",
       "│ 2   │ 1021  │ ARDNACRUSHA 110.00 │ 2361  │ ENNIS       110.00 │ 1     │\n",
       "│ 3   │ 1021  │ ARDNACRUSHA 110.00 │ 3541  │ LIMERICK    110.00 │ 1     │\n",
       "│ 4   │ 1021  │ ARDNACRUSHA 110.00 │ 10210 │ ARDNACRUSHA 110.00 │ 1     │\n",
       "│ 5   │ 1021  │ ARDNACRUSHA 110.00 │ 10261 │ ARDNA_CAP   110.00 │ 1     │\n",
       "│ 6   │ 1041  │ AGHADA      110.00 │ 5481  │ WHITEGATE   110.00 │ 1     │\n",
       "│ 7   │ 1042  │ AGHADA      220.00 │ 1052  │ AGHADA_B    220.00 │ 1     │\n",
       "│ 8   │ 1042  │ AGHADA      220.00 │ 1072  │ AGHT2102    220.00 │ 1     │\n",
       "│ 9   │ 1042  │ AGHADA      220.00 │ 3202  │ KNOCKRAHA   220.00 │ 1     │\n",
       "│ 10  │ 1042  │ AGHADA      220.00 │ 4722  │ RAFFEEN     220.00 │ 1     │\n",
       "⋮\n",
       "│ 673 │ 87510 │ OMAH1-      110.00 │ 89510 │ STRABANE    110.00 │ 2     │\n",
       "│ 674 │ 87510 │ OMAH1-      110.00 │ 90210 │ TREM        110.00 │ 1     │\n",
       "│ 675 │ 90011 │ TAND1A      110.00 │ 90012 │ TAND1B      110.00 │ 1     │\n",
       "│ 676 │ 90011 │ TAND1A      110.00 │ 90511 │ WARN1A      110.00 │ 1     │\n",
       "│ 677 │ 90011 │ TAND1A      110.00 │ 90512 │ WARN1B      110.00 │ 1     │\n",
       "│ 678 │ 90020 │ TANDRAGE    275.00 │ 90420 │ TURLEENA    275.00 │ 1     │\n",
       "│ 679 │ 90020 │ TANDRAGE    275.00 │ 90420 │ TURLEENA    275.00 │ 2     │\n",
       "│ 680 │ 90210 │ TREM        110.00 │ 90310 │ TAMNAMOR    110.00 │ 1     │\n",
       "│ 681 │ 90310 │ TAMNAMOR    110.00 │ 90312 │ TAMN1_SV    110.00 │ 1     │\n",
       "│ 682 │ 90320 │ TAMNAMOR    275.00 │ 90420 │ TURLEENA    275.00 │ 1     │\n",
       "│ 683 │ 90320 │ TAMNAMOR    275.00 │ 90420 │ TURLEENA    275.00 │ 2     │"
      ]
     },
     "execution_count": 64,
     "metadata": {},
     "output_type": "execute_result"
    }
   ],
   "source": [
    "BranchInter1 = Branch[findall(in(BusTrans.Bus), Branch.From),:];\n",
    "BranchInter1"
   ]
  },
  {
   "cell_type": "code",
   "execution_count": 66,
   "metadata": {},
   "outputs": [
    {
     "data": {
      "text/html": [
       "<table class=\"data-frame\"><thead><tr><th></th><th>From</th><th>From Bus  Name</th><th>To</th><th>To Bus  Name</th><th>Id</th><th>Name</th><th>Term Node Num (From)</th></tr><tr><th></th><th>Int64</th><th>String</th><th>Int64</th><th>String</th><th>Int64</th><th>Any</th><th>Any</th></tr></thead><tbody><p>683 rows × 49 columns (omitted printing of 42 columns)</p><tr><th>1</th><td>1021</td><td>ARDNACRUSHA 110.00</td><td>2121</td><td>DRUMLINE    110.00</td><td>1</td><td>missing</td><td>missing</td></tr><tr><th>2</th><td>1021</td><td>ARDNACRUSHA 110.00</td><td>2361</td><td>ENNIS       110.00</td><td>1</td><td>missing</td><td>missing</td></tr><tr><th>3</th><td>1021</td><td>ARDNACRUSHA 110.00</td><td>3541</td><td>LIMERICK    110.00</td><td>1</td><td>missing</td><td>missing</td></tr><tr><th>4</th><td>1021</td><td>ARDNACRUSHA 110.00</td><td>10210</td><td>ARDNACRUSHA 110.00</td><td>1</td><td>missing</td><td>missing</td></tr><tr><th>5</th><td>1021</td><td>ARDNACRUSHA 110.00</td><td>10261</td><td>ARDNA_CAP   110.00</td><td>1</td><td>missing</td><td>missing</td></tr><tr><th>6</th><td>1041</td><td>AGHADA      110.00</td><td>5481</td><td>WHITEGATE   110.00</td><td>1</td><td>missing</td><td>missing</td></tr><tr><th>7</th><td>1042</td><td>AGHADA      220.00</td><td>1052</td><td>AGHADA_B    220.00</td><td>1</td><td>missing</td><td>missing</td></tr><tr><th>8</th><td>1042</td><td>AGHADA      220.00</td><td>1072</td><td>AGHT2102    220.00</td><td>1</td><td>missing</td><td>missing</td></tr><tr><th>9</th><td>1042</td><td>AGHADA      220.00</td><td>3202</td><td>KNOCKRAHA   220.00</td><td>1</td><td>missing</td><td>missing</td></tr><tr><th>10</th><td>1042</td><td>AGHADA      220.00</td><td>4722</td><td>RAFFEEN     220.00</td><td>1</td><td>missing</td><td>missing</td></tr><tr><th>11</th><td>1042</td><td>AGHADA      220.00</td><td>35771</td><td>LONGPOINT   220.00</td><td>1</td><td>missing</td><td>missing</td></tr><tr><th>12</th><td>1052</td><td>AGHADA_B    220.00</td><td>1062</td><td>AGH_AT14    220.00</td><td>1</td><td>missing</td><td>missing</td></tr><tr><th>13</th><td>1052</td><td>AGHADA_B    220.00</td><td>2852</td><td>GLANAGOW    220.00</td><td>1</td><td>missing</td><td>missing</td></tr><tr><th>14</th><td>1052</td><td>AGHADA_B    220.00</td><td>3202</td><td>KNOCKRAHA   220.00</td><td>2</td><td>missing</td><td>missing</td></tr><tr><th>15</th><td>1061</td><td>ARIGNA      110.00</td><td>10619</td><td>ARIGNA_T    110.00</td><td>1</td><td>missing</td><td>missing</td></tr><tr><th>16</th><td>1062</td><td>AGH_AT14    220.00</td><td>1072</td><td>AGHT2102    220.00</td><td>1</td><td>missing</td><td>missing</td></tr><tr><th>17</th><td>1071</td><td>AGANNYGAL   110.00</td><td>2231</td><td>DERRYBRIEN  110.00</td><td>1</td><td>missing</td><td>missing</td></tr><tr><th>18</th><td>1071</td><td>AGANNYGAL   110.00</td><td>2361</td><td>ENNIS       110.00</td><td>1</td><td>missing</td><td>missing</td></tr><tr><th>19</th><td>1071</td><td>AGANNYGAL   110.00</td><td>4941</td><td>SHANNONBRIDG110.00</td><td>1</td><td>missing</td><td>missing</td></tr><tr><th>20</th><td>1081</td><td>AHANE       110.00</td><td>32810</td><td>KILLONAN2   110.00</td><td>1</td><td>missing</td><td>missing</td></tr><tr><th>21</th><td>1091</td><td>ADAMSTOWN   110.00</td><td>2861</td><td>GRANGE CASTL110.00</td><td>1</td><td>missing</td><td>missing</td></tr><tr><th>22</th><td>1091</td><td>ADAMSTOWN   110.00</td><td>3091</td><td>INCH_COUNTRY110.00</td><td>1</td><td>missing</td><td>missing</td></tr><tr><th>23</th><td>1101</td><td>ANNER       110.00</td><td>2161</td><td>DOON        110.00</td><td>1</td><td>missing</td><td>missing</td></tr><tr><th>24</th><td>1121</td><td>ARKLOW      110.00</td><td>1301</td><td>BALLYBEG    110.00</td><td>1</td><td>missing</td><td>missing</td></tr><tr><th>25</th><td>1121</td><td>ARKLOW      110.00</td><td>1541</td><td>BANOGE      110.00</td><td>1</td><td>missing</td><td>missing</td></tr><tr><th>26</th><td>1121</td><td>ARKLOW      110.00</td><td>4901</td><td>SHELTON ABBE110.00</td><td>2</td><td>missing</td><td>missing</td></tr><tr><th>27</th><td>1122</td><td>ARKLOW      220.00</td><td>1742</td><td>CARRICKMINES220.00</td><td>1</td><td>missing</td><td>missing</td></tr><tr><th>28</th><td>1122</td><td>ARKLOW      220.00</td><td>3642</td><td>LODGEWOOD   220.00</td><td>1</td><td>missing</td><td>missing</td></tr><tr><th>29</th><td>1131</td><td>ATHEA       110.00</td><td>2131</td><td>DROMADA     110.00</td><td>1</td><td>missing</td><td>missing</td></tr><tr><th>30</th><td>1131</td><td>ATHEA       110.00</td><td>11310</td><td>ATHEA-2     110.00</td><td>1</td><td>missing</td><td>missing</td></tr><tr><th>&vellip;</th><td>&vellip;</td><td>&vellip;</td><td>&vellip;</td><td>&vellip;</td><td>&vellip;</td><td>&vellip;</td><td>&vellip;</td></tr></tbody></table>"
      ],
      "text/latex": [
       "\\begin{tabular}{r|cccccccc}\n",
       "\t& From & From Bus  Name & To & To Bus  Name & Id & Name & Term Node Num (From) & \\\\\n",
       "\t\\hline\n",
       "\t& Int64 & String & Int64 & String & Int64 & Any & Any & \\\\\n",
       "\t\\hline\n",
       "\t1 & 1021 & ARDNACRUSHA 110.00 & 2121 & DRUMLINE    110.00 & 1 &  &  & $\\dots$ \\\\\n",
       "\t2 & 1021 & ARDNACRUSHA 110.00 & 2361 & ENNIS       110.00 & 1 &  &  & $\\dots$ \\\\\n",
       "\t3 & 1021 & ARDNACRUSHA 110.00 & 3541 & LIMERICK    110.00 & 1 &  &  & $\\dots$ \\\\\n",
       "\t4 & 1021 & ARDNACRUSHA 110.00 & 10210 & ARDNACRUSHA 110.00 & 1 &  &  & $\\dots$ \\\\\n",
       "\t5 & 1021 & ARDNACRUSHA 110.00 & 10261 & ARDNA\\_CAP   110.00 & 1 &  &  & $\\dots$ \\\\\n",
       "\t6 & 1041 & AGHADA      110.00 & 5481 & WHITEGATE   110.00 & 1 &  &  & $\\dots$ \\\\\n",
       "\t7 & 1042 & AGHADA      220.00 & 1052 & AGHADA\\_B    220.00 & 1 &  &  & $\\dots$ \\\\\n",
       "\t8 & 1042 & AGHADA      220.00 & 1072 & AGHT2102    220.00 & 1 &  &  & $\\dots$ \\\\\n",
       "\t9 & 1042 & AGHADA      220.00 & 3202 & KNOCKRAHA   220.00 & 1 &  &  & $\\dots$ \\\\\n",
       "\t10 & 1042 & AGHADA      220.00 & 4722 & RAFFEEN     220.00 & 1 &  &  & $\\dots$ \\\\\n",
       "\t11 & 1042 & AGHADA      220.00 & 35771 & LONGPOINT   220.00 & 1 &  &  & $\\dots$ \\\\\n",
       "\t12 & 1052 & AGHADA\\_B    220.00 & 1062 & AGH\\_AT14    220.00 & 1 &  &  & $\\dots$ \\\\\n",
       "\t13 & 1052 & AGHADA\\_B    220.00 & 2852 & GLANAGOW    220.00 & 1 &  &  & $\\dots$ \\\\\n",
       "\t14 & 1052 & AGHADA\\_B    220.00 & 3202 & KNOCKRAHA   220.00 & 2 &  &  & $\\dots$ \\\\\n",
       "\t15 & 1061 & ARIGNA      110.00 & 10619 & ARIGNA\\_T    110.00 & 1 &  &  & $\\dots$ \\\\\n",
       "\t16 & 1062 & AGH\\_AT14    220.00 & 1072 & AGHT2102    220.00 & 1 &  &  & $\\dots$ \\\\\n",
       "\t17 & 1071 & AGANNYGAL   110.00 & 2231 & DERRYBRIEN  110.00 & 1 &  &  & $\\dots$ \\\\\n",
       "\t18 & 1071 & AGANNYGAL   110.00 & 2361 & ENNIS       110.00 & 1 &  &  & $\\dots$ \\\\\n",
       "\t19 & 1071 & AGANNYGAL   110.00 & 4941 & SHANNONBRIDG110.00 & 1 &  &  & $\\dots$ \\\\\n",
       "\t20 & 1081 & AHANE       110.00 & 32810 & KILLONAN2   110.00 & 1 &  &  & $\\dots$ \\\\\n",
       "\t21 & 1091 & ADAMSTOWN   110.00 & 2861 & GRANGE CASTL110.00 & 1 &  &  & $\\dots$ \\\\\n",
       "\t22 & 1091 & ADAMSTOWN   110.00 & 3091 & INCH\\_COUNTRY110.00 & 1 &  &  & $\\dots$ \\\\\n",
       "\t23 & 1101 & ANNER       110.00 & 2161 & DOON        110.00 & 1 &  &  & $\\dots$ \\\\\n",
       "\t24 & 1121 & ARKLOW      110.00 & 1301 & BALLYBEG    110.00 & 1 &  &  & $\\dots$ \\\\\n",
       "\t25 & 1121 & ARKLOW      110.00 & 1541 & BANOGE      110.00 & 1 &  &  & $\\dots$ \\\\\n",
       "\t26 & 1121 & ARKLOW      110.00 & 4901 & SHELTON ABBE110.00 & 2 &  &  & $\\dots$ \\\\\n",
       "\t27 & 1122 & ARKLOW      220.00 & 1742 & CARRICKMINES220.00 & 1 &  &  & $\\dots$ \\\\\n",
       "\t28 & 1122 & ARKLOW      220.00 & 3642 & LODGEWOOD   220.00 & 1 &  &  & $\\dots$ \\\\\n",
       "\t29 & 1131 & ATHEA       110.00 & 2131 & DROMADA     110.00 & 1 &  &  & $\\dots$ \\\\\n",
       "\t30 & 1131 & ATHEA       110.00 & 11310 & ATHEA-2     110.00 & 1 &  &  & $\\dots$ \\\\\n",
       "\t$\\dots$ & $\\dots$ & $\\dots$ & $\\dots$ & $\\dots$ & $\\dots$ & $\\dots$ & $\\dots$ &  \\\\\n",
       "\\end{tabular}\n"
      ],
      "text/plain": [
       "683×49 DataFrame. Omitted printing of 44 columns\n",
       "│ Row │ From  │ From Bus  Name     │ To    │ To Bus  Name       │ Id    │\n",
       "│     │ \u001b[90mInt64\u001b[39m │ \u001b[90mString\u001b[39m             │ \u001b[90mInt64\u001b[39m │ \u001b[90mString\u001b[39m             │ \u001b[90mInt64\u001b[39m │\n",
       "├─────┼───────┼────────────────────┼───────┼────────────────────┼───────┤\n",
       "│ 1   │ 1021  │ ARDNACRUSHA 110.00 │ 2121  │ DRUMLINE    110.00 │ 1     │\n",
       "│ 2   │ 1021  │ ARDNACRUSHA 110.00 │ 2361  │ ENNIS       110.00 │ 1     │\n",
       "│ 3   │ 1021  │ ARDNACRUSHA 110.00 │ 3541  │ LIMERICK    110.00 │ 1     │\n",
       "│ 4   │ 1021  │ ARDNACRUSHA 110.00 │ 10210 │ ARDNACRUSHA 110.00 │ 1     │\n",
       "│ 5   │ 1021  │ ARDNACRUSHA 110.00 │ 10261 │ ARDNA_CAP   110.00 │ 1     │\n",
       "│ 6   │ 1041  │ AGHADA      110.00 │ 5481  │ WHITEGATE   110.00 │ 1     │\n",
       "│ 7   │ 1042  │ AGHADA      220.00 │ 1052  │ AGHADA_B    220.00 │ 1     │\n",
       "│ 8   │ 1042  │ AGHADA      220.00 │ 1072  │ AGHT2102    220.00 │ 1     │\n",
       "│ 9   │ 1042  │ AGHADA      220.00 │ 3202  │ KNOCKRAHA   220.00 │ 1     │\n",
       "│ 10  │ 1042  │ AGHADA      220.00 │ 4722  │ RAFFEEN     220.00 │ 1     │\n",
       "⋮\n",
       "│ 673 │ 87510 │ OMAH1-      110.00 │ 89510 │ STRABANE    110.00 │ 2     │\n",
       "│ 674 │ 87510 │ OMAH1-      110.00 │ 90210 │ TREM        110.00 │ 1     │\n",
       "│ 675 │ 90011 │ TAND1A      110.00 │ 90012 │ TAND1B      110.00 │ 1     │\n",
       "│ 676 │ 90011 │ TAND1A      110.00 │ 90511 │ WARN1A      110.00 │ 1     │\n",
       "│ 677 │ 90011 │ TAND1A      110.00 │ 90512 │ WARN1B      110.00 │ 1     │\n",
       "│ 678 │ 90020 │ TANDRAGE    275.00 │ 90420 │ TURLEENA    275.00 │ 1     │\n",
       "│ 679 │ 90020 │ TANDRAGE    275.00 │ 90420 │ TURLEENA    275.00 │ 2     │\n",
       "│ 680 │ 90210 │ TREM        110.00 │ 90310 │ TAMNAMOR    110.00 │ 1     │\n",
       "│ 681 │ 90310 │ TAMNAMOR    110.00 │ 90312 │ TAMN1_SV    110.00 │ 1     │\n",
       "│ 682 │ 90320 │ TAMNAMOR    275.00 │ 90420 │ TURLEENA    275.00 │ 1     │\n",
       "│ 683 │ 90320 │ TAMNAMOR    275.00 │ 90420 │ TURLEENA    275.00 │ 2     │"
      ]
     },
     "execution_count": 66,
     "metadata": {},
     "output_type": "execute_result"
    }
   ],
   "source": [
    "BranchInter2 = Branch[findall(in(BusTrans.Bus), Branch.From),:];\n",
    "BranchInter2 "
   ]
  },
  {
   "cell_type": "code",
   "execution_count": 69,
   "metadata": {},
   "outputs": [
    {
     "data": {
      "text/plain": [
       "1-element Array{Bool,1}:\n",
       " 1"
      ]
     },
     "execution_count": 69,
     "metadata": {},
     "output_type": "execute_result"
    }
   ],
   "source": [
    "Comparison = BranchInter1.From .== BranchInter2.From;\n",
    "unique(Comparison)"
   ]
  },
  {
   "cell_type": "markdown",
   "metadata": {},
   "source": [
    "### Define the bus set"
   ]
  },
  {
   "cell_type": "code",
   "execution_count": 32,
   "metadata": {},
   "outputs": [
    {
     "data": {
      "text/plain": [
       "822"
      ]
     },
     "execution_count": 32,
     "metadata": {},
     "output_type": "execute_result"
    }
   ],
   "source": [
    "Bus = max(length(unique(Branch.From)),length(unique(Branch.To)))"
   ]
  },
  {
   "cell_type": "markdown",
   "metadata": {},
   "source": [
    "### Defining Susceptance Matrix (Laplacian)\n",
    "##### Note: only Susceptance Matirx is defined for Linear power flow"
   ]
  },
  {
   "cell_type": "code",
   "execution_count": 33,
   "metadata": {},
   "outputs": [],
   "source": [
    "Gw = SimpleWeightedGraph(BusNo)\n",
    "\n",
    "for i = 1:size(Branch,1)\n",
    "    add_edge!(Gw,Branch.From[i],Branch.To[i], 1/Branch.R[i])\n",
    "end"
   ]
  },
  {
   "cell_type": "code",
   "execution_count": 34,
   "metadata": {},
   "outputs": [
    {
     "data": {
      "text/plain": [
       "822×822 Array{Float64,2}:\n",
       " 0.0  0.0  0.0  0.0  0.0  0.0  0.0  0.0  …  0.0  0.0  0.0  0.0  0.0  0.0  0.0\n",
       " 0.0  0.0  0.0  0.0  0.0  0.0  0.0  0.0     0.0  0.0  0.0  0.0  0.0  0.0  0.0\n",
       " 0.0  0.0  0.0  0.0  0.0  0.0  0.0  0.0     0.0  0.0  0.0  0.0  0.0  0.0  0.0\n",
       " 0.0  0.0  0.0  0.0  0.0  0.0  0.0  0.0     0.0  0.0  0.0  0.0  0.0  0.0  0.0\n",
       " 0.0  0.0  0.0  0.0  0.0  0.0  0.0  0.0     0.0  0.0  0.0  0.0  0.0  0.0  0.0\n",
       " 0.0  0.0  0.0  0.0  0.0  0.0  0.0  0.0  …  0.0  0.0  0.0  0.0  0.0  0.0  0.0\n",
       " 0.0  0.0  0.0  0.0  0.0  0.0  0.0  0.0     0.0  0.0  0.0  0.0  0.0  0.0  0.0\n",
       " 0.0  0.0  0.0  0.0  0.0  0.0  0.0  0.0     0.0  0.0  0.0  0.0  0.0  0.0  0.0\n",
       " 0.0  0.0  0.0  0.0  0.0  0.0  0.0  0.0     0.0  0.0  0.0  0.0  0.0  0.0  0.0\n",
       " 0.0  0.0  0.0  0.0  0.0  0.0  0.0  0.0     0.0  0.0  0.0  0.0  0.0  0.0  0.0\n",
       " 0.0  0.0  0.0  0.0  0.0  0.0  0.0  0.0  …  0.0  0.0  0.0  0.0  0.0  0.0  0.0\n",
       " 0.0  0.0  0.0  0.0  0.0  0.0  0.0  0.0     0.0  0.0  0.0  0.0  0.0  0.0  0.0\n",
       " 0.0  0.0  0.0  0.0  0.0  0.0  0.0  0.0     0.0  0.0  0.0  0.0  0.0  0.0  0.0\n",
       " ⋮                        ⋮              ⋱  ⋮                        ⋮       \n",
       " 0.0  0.0  0.0  0.0  0.0  0.0  0.0  0.0  …  0.0  0.0  0.0  0.0  0.0  0.0  0.0\n",
       " 0.0  0.0  0.0  0.0  0.0  0.0  0.0  0.0     0.0  0.0  0.0  0.0  0.0  0.0  0.0\n",
       " 0.0  0.0  0.0  0.0  0.0  0.0  0.0  0.0     0.0  0.0  0.0  0.0  0.0  0.0  0.0\n",
       " 0.0  0.0  0.0  0.0  0.0  0.0  0.0  0.0     0.0  0.0  0.0  0.0  0.0  0.0  0.0\n",
       " 0.0  0.0  0.0  0.0  0.0  0.0  0.0  0.0     0.0  0.0  0.0  0.0  0.0  0.0  0.0\n",
       " 0.0  0.0  0.0  0.0  0.0  0.0  0.0  0.0  …  0.0  0.0  0.0  0.0  0.0  0.0  0.0\n",
       " 0.0  0.0  0.0  0.0  0.0  0.0  0.0  0.0     0.0  0.0  0.0  0.0  0.0  0.0  0.0\n",
       " 0.0  0.0  0.0  0.0  0.0  0.0  0.0  0.0     0.0  0.0  0.0  0.0  0.0  0.0  0.0\n",
       " 0.0  0.0  0.0  0.0  0.0  0.0  0.0  0.0     0.0  0.0  0.0  0.0  0.0  0.0  0.0\n",
       " 0.0  0.0  0.0  0.0  0.0  0.0  0.0  0.0     0.0  0.0  0.0  0.0  0.0  0.0  0.0\n",
       " 0.0  0.0  0.0  0.0  0.0  0.0  0.0  0.0  …  0.0  0.0  0.0  0.0  0.0  0.0  0.0\n",
       " 0.0  0.0  0.0  0.0  0.0  0.0  0.0  0.0     0.0  0.0  0.0  0.0  0.0  0.0  0.0"
      ]
     },
     "execution_count": 34,
     "metadata": {},
     "output_type": "execute_result"
    }
   ],
   "source": [
    "Aw = Array(weights(Gw))"
   ]
  },
  {
   "cell_type": "code",
   "execution_count": null,
   "metadata": {},
   "outputs": [],
   "source": [
    "Aw = Array(weights(Gw))\n",
    "Lw = Diagonal(sum(Aw,dims=1)[:])-Aw\n",
    "B = Lw;"
   ]
  },
  {
   "cell_type": "markdown",
   "metadata": {},
   "source": [
    "# Generator Location Data"
   ]
  },
  {
   "cell_type": "code",
   "execution_count": 5,
   "metadata": {},
   "outputs": [],
   "source": [
    "#GenData = DataFrame(a = [0.001562, 0.00194, 0.00482], \n",
    "#                b = [7.92, 7.85, 7.97],\n",
    "#                c = [561, 310, 78],\n",
    "#                Pmax = [600, 400, 200],\n",
    "#                Pmin = [150, 100, 50],\n",
    "#                RampUp = [30,20,30],\n",
    "#                RampDown = [30,20,30],\n",
    "#                MinUp = [2,3,2],\n",
    "#                MinDown = [2,3,2]);"
   ]
  },
  {
   "cell_type": "code",
   "execution_count": 6,
   "metadata": {},
   "outputs": [
    {
     "data": {
      "text/html": [
       "<table class=\"data-frame\"><thead><tr><th></th><th>Name</th><th>Type</th><th>a</th><th>b</th><th>c</th><th>Pmax</th><th>Pmin</th><th>RampUp</th><th>RampDown</th><th>MinUp</th></tr><tr><th></th><th>Int64</th><th>String</th><th>Float64</th><th>Float64</th><th>Int64</th><th>Int64</th><th>Int64</th><th>Int64</th><th>Int64</th><th>Int64</th></tr></thead><tbody><p>3 rows × 11 columns (omitted printing of 1 columns)</p><tr><th>1</th><td>1</td><td>Unknown</td><td>0.001562</td><td>7.92</td><td>561</td><td>600</td><td>150</td><td>30</td><td>30</td><td>2</td></tr><tr><th>2</th><td>2</td><td>Unknown</td><td>0.00194</td><td>7.85</td><td>310</td><td>400</td><td>100</td><td>20</td><td>20</td><td>3</td></tr><tr><th>3</th><td>3</td><td>Unknown</td><td>0.00482</td><td>7.97</td><td>78</td><td>200</td><td>50</td><td>30</td><td>30</td><td>2</td></tr></tbody></table>"
      ],
      "text/latex": [
       "\\begin{tabular}{r|ccccccccccc}\n",
       "\t& Name & Type & a & b & c & Pmax & Pmin & RampUp & RampDown & MinUp & \\\\\n",
       "\t\\hline\n",
       "\t& Int64 & String & Float64 & Float64 & Int64 & Int64 & Int64 & Int64 & Int64 & Int64 & \\\\\n",
       "\t\\hline\n",
       "\t1 & 1 & Unknown & 0.001562 & 7.92 & 561 & 600 & 150 & 30 & 30 & 2 & $\\dots$ \\\\\n",
       "\t2 & 2 & Unknown & 0.00194 & 7.85 & 310 & 400 & 100 & 20 & 20 & 3 & $\\dots$ \\\\\n",
       "\t3 & 3 & Unknown & 0.00482 & 7.97 & 78 & 200 & 50 & 30 & 30 & 2 & $\\dots$ \\\\\n",
       "\\end{tabular}\n"
      ],
      "text/plain": [
       "3×11 DataFrame. Omitted printing of 3 columns\n",
       "│ Row │ Name  │ Type    │ a        │ b       │ c     │ Pmax  │ Pmin  │ RampUp │\n",
       "│     │ \u001b[90mInt64\u001b[39m │ \u001b[90mString\u001b[39m  │ \u001b[90mFloat64\u001b[39m  │ \u001b[90mFloat64\u001b[39m │ \u001b[90mInt64\u001b[39m │ \u001b[90mInt64\u001b[39m │ \u001b[90mInt64\u001b[39m │ \u001b[90mInt64\u001b[39m  │\n",
       "├─────┼───────┼─────────┼──────────┼─────────┼───────┼───────┼───────┼────────┤\n",
       "│ 1   │ 1     │ Unknown │ 0.001562 │ 7.92    │ 561   │ 600   │ 150   │ 30     │\n",
       "│ 2   │ 2     │ Unknown │ 0.00194  │ 7.85    │ 310   │ 400   │ 100   │ 20     │\n",
       "│ 3   │ 3     │ Unknown │ 0.00482  │ 7.97    │ 78    │ 200   │ 50    │ 30     │"
      ]
     },
     "execution_count": 6,
     "metadata": {},
     "output_type": "execute_result"
    }
   ],
   "source": [
    "GenData = DataFrame(XLSX.readtable(\"3-Bus.xlsx\", \"GenData\", infer_eltypes=true)... )"
   ]
  },
  {
   "cell_type": "code",
   "execution_count": 7,
   "metadata": {},
   "outputs": [
    {
     "name": "stdout",
     "output_type": "stream",
     "text": [
      "11\n",
      "21\n",
      "31\n"
     ]
    },
    {
     "data": {
      "text/plain": [
       "3×3 Array{Int64,2}:\n",
       " 1  0  0\n",
       " 1  0  0\n",
       " 1  0  0"
      ]
     },
     "execution_count": 7,
     "metadata": {},
     "output_type": "execute_result"
    }
   ],
   "source": [
    "PVar = DataFrame(Bus = [1, 2, 3], Gen = [1,1,1])\n",
    "\n",
    "Bus = max(maximum(Branch.From),maximum(Branch.To))\n",
    "Genw = SimpleDiGraph(Bus)\n",
    "\n",
    "for i = 1:size(PVar,1)\n",
    "    add_edge!(Genw,PVar.Bus[i],PVar.Gen[i] )\n",
    "    println(PVar.Bus[i],PVar.Gen[i])\n",
    "end\n",
    "AGenw = Array(adjacency_matrix(Genw))"
   ]
  },
  {
   "cell_type": "markdown",
   "metadata": {},
   "source": [
    "### Define Generator Set"
   ]
  },
  {
   "cell_type": "code",
   "execution_count": 8,
   "metadata": {},
   "outputs": [
    {
     "data": {
      "text/plain": [
       "3"
      ]
     },
     "execution_count": 8,
     "metadata": {},
     "output_type": "execute_result"
    }
   ],
   "source": [
    "Gen = size(GenData, 1)"
   ]
  }
 ],
 "metadata": {
  "@webio": {
   "lastCommId": null,
   "lastKernelId": null
  },
  "kernelspec": {
   "display_name": "Julia 1.3.0",
   "language": "julia",
   "name": "julia-1.3"
  },
  "language_info": {
   "file_extension": ".jl",
   "mimetype": "application/julia",
   "name": "julia",
   "version": "1.3.0"
  }
 },
 "nbformat": 4,
 "nbformat_minor": 2
}
