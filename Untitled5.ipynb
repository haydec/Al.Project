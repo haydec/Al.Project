{
 "cells": [
  {
   "cell_type": "code",
   "execution_count": null,
   "metadata": {},
   "outputs": [],
   "source": []
  },
  {
   "cell_type": "code",
   "execution_count": 1,
   "metadata": {},
   "outputs": [],
   "source": [
    "using DataFrames, XLSX, DataFramesMeta\n",
    "using LinearAlgebra,LightGraphs, SimpleWeightedGraphs, HDF5"
   ]
  },
  {
   "cell_type": "code",
   "execution_count": null,
   "metadata": {},
   "outputs": [],
   "source": []
  },
  {
   "cell_type": "code",
   "execution_count": 3,
   "metadata": {},
   "outputs": [],
   "source": [
    "TestData = DataFrame(From = [ 1, 1, 2, 3, 3, 4], To = [ 2, 3, 4, 4, 5, 5], \n",
    "    R = [ 0.0, 0.023, 0.006, 0.020, 0.0, 0.0], X = [ 0.3, 0.145, 0.032, 0.260, 0.320, 0.500], \n",
    "    Bsh = [ 0.0, 0.040, 0.010, 0.0, 0.0, 0.0], T = [ 1.0, 1.0, 1.0, 1.0, 0.98,1], \n",
    "    ϕ = [ 0.0, 0.0, 0.0, -3.0, 0.0, 0.0]); # Table 3\n",
    "Zsh = [ 0.0+0.0*im 0.0+0.3*im 0.05+0.0*im 0.0+0.0*im 0.0+0.0*im]; # Fixed Shunt"
   ]
  },
  {
   "cell_type": "code",
   "execution_count": null,
   "metadata": {},
   "outputs": [],
   "source": []
  },
  {
   "cell_type": "code",
   "execution_count": null,
   "metadata": {},
   "outputs": [],
   "source": [
    "Yd = Dict{Tuple{Int64, Int64}, Complex{Float64}}()   # Admittance Matrix\n",
    "Bshd = Dict{Tuple{Int64, Int64}, Float64}() # Shunt Susceptance Dictionary\n",
    "Td = Dict{Tuple{Int64, Int64}, Float64}()   # Nominal Transformer\n",
    "ϕd = Dict{Tuple{Int64, Int64}, Float64}()   # Transformer Phase Shift\n",
    "Y_Test =  Dict{Tuple{Int64, Int64}, Complex{Float64}}() # Diagnol Admittance "
   ]
  }
 ],
 "metadata": {
  "kernelspec": {
   "display_name": "Julia 1.2.0",
   "language": "julia",
   "name": "julia-1.2"
  },
  "language_info": {
   "file_extension": ".jl",
   "mimetype": "application/julia",
   "name": "julia",
   "version": "1.2.0"
  }
 },
 "nbformat": 4,
 "nbformat_minor": 2
}
